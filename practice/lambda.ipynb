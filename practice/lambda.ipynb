{
 "cells": [
  {
   "cell_type": "code",
   "id": "initial_id",
   "metadata": {
    "collapsed": true,
    "ExecuteTime": {
     "end_time": "2025-09-04T10:55:00.880472Z",
     "start_time": "2025-09-04T10:55:00.874176Z"
    }
   },
   "source": "words=[\"mohammed\",\"jumaan\"]",
   "outputs": [],
   "execution_count": 2
  },
  {
   "metadata": {},
   "cell_type": "markdown",
   "source": "",
   "id": "82bb90a1cd4b0986"
  },
  {
   "metadata": {
    "ExecuteTime": {
     "end_time": "2025-08-27T17:25:25.607120Z",
     "start_time": "2025-08-27T17:25:25.602668Z"
    }
   },
   "cell_type": "code",
   "source": "result=map(lambda word: word.capitalize(), words)",
   "id": "141a0c6e20631088",
   "outputs": [],
   "execution_count": 25
  },
  {
   "metadata": {
    "ExecuteTime": {
     "end_time": "2025-08-27T17:25:28.625070Z",
     "start_time": "2025-08-27T17:25:28.617930Z"
    }
   },
   "cell_type": "code",
   "source": [
    "for i in result:\n",
    "    print(i)    "
   ],
   "id": "d5b61995c4f2a23",
   "outputs": [
    {
     "name": "stdout",
     "output_type": "stream",
     "text": [
      "Mohammed\n",
      "Jumaan\n"
     ]
    }
   ],
   "execution_count": 26
  },
  {
   "metadata": {
    "ExecuteTime": {
     "end_time": "2025-09-04T10:55:04.751912Z",
     "start_time": "2025-09-04T10:55:04.741325Z"
    }
   },
   "cell_type": "code",
   "source": [
    "from functools import reduce\n",
    "result=reduce(lambda x, y: x.capitalize()+\" \"+y.capitalize(), words)"
   ],
   "id": "2fb64499fd59b238",
   "outputs": [],
   "execution_count": 3
  },
  {
   "metadata": {
    "ExecuteTime": {
     "end_time": "2025-09-04T10:55:06.809207Z",
     "start_time": "2025-09-04T10:55:06.792594Z"
    }
   },
   "cell_type": "code",
   "source": "result",
   "id": "a77846f5273ce8c6",
   "outputs": [
    {
     "data": {
      "text/plain": [
       "'Mohammed Jumaan'"
      ]
     },
     "execution_count": 4,
     "metadata": {},
     "output_type": "execute_result"
    }
   ],
   "execution_count": 4
  },
  {
   "metadata": {
    "ExecuteTime": {
     "end_time": "2025-09-04T10:57:50.365312Z",
     "start_time": "2025-09-04T10:57:50.359161Z"
    }
   },
   "cell_type": "code",
   "source": "number=[i for i in range(1,11) if i%2==0]",
   "id": "d162b6b2445d761c",
   "outputs": [],
   "execution_count": 7
  },
  {
   "metadata": {
    "ExecuteTime": {
     "end_time": "2025-09-04T10:57:51.289948Z",
     "start_time": "2025-09-04T10:57:51.280489Z"
    }
   },
   "cell_type": "code",
   "source": "number",
   "id": "bb51940155665584",
   "outputs": [
    {
     "data": {
      "text/plain": [
       "[2, 4, 6, 8, 10]"
      ]
     },
     "execution_count": 8,
     "metadata": {},
     "output_type": "execute_result"
    }
   ],
   "execution_count": 8
  },
  {
   "metadata": {
    "ExecuteTime": {
     "end_time": "2025-08-27T17:30:57.746841Z",
     "start_time": "2025-08-27T17:30:57.739818Z"
    }
   },
   "cell_type": "code",
   "source": "list(filter(lambda x:x%2==0,number))",
   "id": "c0f40dcf42c9f002",
   "outputs": [
    {
     "data": {
      "text/plain": [
       "[2, 4, 6, 8]"
      ]
     },
     "execution_count": 37,
     "metadata": {},
     "output_type": "execute_result"
    }
   ],
   "execution_count": 37
  },
  {
   "metadata": {},
   "cell_type": "code",
   "outputs": [],
   "execution_count": null,
   "source": "",
   "id": "8a9270cab661c8a8"
  }
 ],
 "metadata": {
  "kernelspec": {
   "display_name": "Python 3",
   "language": "python",
   "name": "python3"
  },
  "language_info": {
   "codemirror_mode": {
    "name": "ipython",
    "version": 2
   },
   "file_extension": ".py",
   "mimetype": "text/x-python",
   "name": "python",
   "nbconvert_exporter": "python",
   "pygments_lexer": "ipython2",
   "version": "2.7.6"
  }
 },
 "nbformat": 4,
 "nbformat_minor": 5
}
