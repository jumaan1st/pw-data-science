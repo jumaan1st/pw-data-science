{
 "cells": [
  {
   "metadata": {},
   "cell_type": "markdown",
   "source": [
    "#  Introduction to OOPs in Python\n",
    "\n",
    "Object-Oriented Programming (OOP) is a programming paradigm that organizes code into **objects**—instances of classes that bundle **data (attributes)** and **behavior (methods)** together.\n",
    "\n",
    "Python is a **multi-paradigm language**, which means it supports both **procedural** and **object-oriented** programming.\n",
    "\n",
    "---"
   ],
   "id": "f229b73b38200523"
  },
  {
   "metadata": {},
   "cell_type": "markdown",
   "source": [
    "##  Key OOP Concepts in Python\n",
    "\n",
    "1. **Class**\n",
    "\n",
    "   * A blueprint for creating objects.\n",
    "   * Defines attributes (variables) and methods (functions)."
   ],
   "id": "39717c463401c7bc"
  },
  {
   "metadata": {
    "ExecuteTime": {
     "end_time": "2025-09-03T17:03:24.750440Z",
     "start_time": "2025-09-03T17:03:24.743375Z"
    }
   },
   "cell_type": "code",
   "source": [
    "class Car:\n",
    "    def __init__(self,name=\"car\",color=\"black\"):\n",
    "        self.__name=name\n",
    "        self.color=color\n",
    "    def drive(self):\n",
    "        return f\"Driving {self.__name} of color {self.color}\""
   ],
   "id": "192d4777ce0431e7",
   "outputs": [],
   "execution_count": 2
  },
  {
   "metadata": {
    "ExecuteTime": {
     "end_time": "2025-09-03T17:03:29.332624Z",
     "start_time": "2025-09-03T17:03:29.323043Z"
    }
   },
   "cell_type": "code",
   "source": "Car(\"honda\",\"black\").drive()",
   "id": "2235aa50bb03501e",
   "outputs": [
    {
     "data": {
      "text/plain": [
       "'Driving honda of color black'"
      ]
     },
     "execution_count": 3,
     "metadata": {},
     "output_type": "execute_result"
    }
   ],
   "execution_count": 3
  },
  {
   "metadata": {},
   "cell_type": "markdown",
   "source": [
    "2. **Object**\n",
    "\n",
    "   * An instance of a class.\n",
    "   * Represents a real-world entity."
   ],
   "id": "6a046fab058c1be3"
  },
  {
   "metadata": {
    "ExecuteTime": {
     "end_time": "2025-09-03T17:03:37.991508Z",
     "start_time": "2025-09-03T17:03:37.986511Z"
    }
   },
   "cell_type": "code",
   "source": [
    "car= Car(\"honda\",\"red\")\n",
    "print(car.drive())"
   ],
   "id": "ce62b3049b169dd3",
   "outputs": [
    {
     "name": "stdout",
     "output_type": "stream",
     "text": [
      "Driving honda of color red\n"
     ]
    }
   ],
   "execution_count": 4
  },
  {
   "metadata": {
    "ExecuteTime": {
     "end_time": "2025-09-03T17:03:40.020074Z",
     "start_time": "2025-09-03T17:03:40.014635Z"
    }
   },
   "cell_type": "code",
   "source": "car._Car__name",
   "id": "5baa585843760dd3",
   "outputs": [
    {
     "data": {
      "text/plain": [
       "'honda'"
      ]
     },
     "execution_count": 5,
     "metadata": {},
     "output_type": "execute_result"
    }
   ],
   "execution_count": 5
  },
  {
   "metadata": {},
   "cell_type": "code",
   "outputs": [],
   "execution_count": null,
   "source": "",
   "id": "beab2602a1a70619"
  }
 ],
 "metadata": {
  "kernelspec": {
   "display_name": "Python 3",
   "language": "python",
   "name": "python3"
  },
  "language_info": {
   "codemirror_mode": {
    "name": "ipython",
    "version": 2
   },
   "file_extension": ".py",
   "mimetype": "text/x-python",
   "name": "python",
   "nbconvert_exporter": "python",
   "pygments_lexer": "ipython2",
   "version": "2.7.6"
  }
 },
 "nbformat": 4,
 "nbformat_minor": 5
}
