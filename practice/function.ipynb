{
 "cells": [
  {
   "metadata": {
    "ExecuteTime": {
     "end_time": "2025-08-19T16:47:41.819642Z",
     "start_time": "2025-08-19T16:47:41.813065Z"
    }
   },
   "cell_type": "code",
   "source": [
    "def listInput(a):\n",
    "    for i in a:\n",
    "        if type(i) == list:\n",
    "            listInput(i)\n",
    "        elif type(i) == int or type(i) == float:\n",
    "            print(i)\n"
   ],
   "id": "240ec31fdef7463e",
   "outputs": [],
   "execution_count": 9
  },
  {
   "metadata": {
    "ExecuteTime": {
     "end_time": "2025-08-19T16:47:43.505431Z",
     "start_time": "2025-08-19T16:47:43.500571Z"
    }
   },
   "cell_type": "code",
   "source": [
    "a=[1,\"a\",\"b\",\"c\",2.2,None,\"h\",[1,2,3,\"a\",[1,2,3,\"a\",[1,2,3,\"a\"]]]]\n",
    "listInput(a)"
   ],
   "id": "931c633edb2336e4",
   "outputs": [
    {
     "name": "stdout",
     "output_type": "stream",
     "text": [
      "1\n",
      "2.2\n",
      "1\n",
      "2\n",
      "3\n",
      "1\n",
      "2\n",
      "3\n",
      "1\n",
      "2\n",
      "3\n"
     ]
    }
   ],
   "execution_count": 10
  },
  {
   "metadata": {
    "ExecuteTime": {
     "end_time": "2025-08-19T16:51:41.014522Z",
     "start_time": "2025-08-19T16:51:40.981899Z"
    }
   },
   "cell_type": "code",
   "source": [
    "def sum(a,b,*num):\n",
    "    sumNum=a+b\n",
    "    for i in num:\n",
    "        sumNum=sumNum+i\n",
    "    return sumNum"
   ],
   "id": "f2b32bd2aeddb699",
   "outputs": [],
   "execution_count": 11
  },
  {
   "metadata": {
    "ExecuteTime": {
     "end_time": "2025-08-19T16:53:14.998224Z",
     "start_time": "2025-08-19T16:53:14.983611Z"
    }
   },
   "cell_type": "code",
   "source": "sum(2,4,5,6,87,)  #you can leave with coma at the end",
   "id": "f6e87d2c7a7a4ae0",
   "outputs": [
    {
     "data": {
      "text/plain": [
       "104"
      ]
     },
     "execution_count": 15,
     "metadata": {},
     "output_type": "execute_result"
    }
   ],
   "execution_count": 15
  },
  {
   "metadata": {},
   "cell_type": "markdown",
   "source": [
    "In Python functions, `*args` and `**kwargs` are used when you don’t know in advance how many arguments will be passed.\n",
    "\n",
    "---\n",
    "\n",
    "## 🔹 `*args` → Non-keyword (positional) arguments\n",
    "\n",
    "* Collects **extra positional arguments** into a **tuple**.\n",
    "* Useful when you don’t know how many positional arguments will be passed.\n",
    "\n",
    "### Example:\n",
    "\n",
    "```python\n",
    "def demo_args(*args):\n",
    "    print(args)\n",
    "\n",
    "demo_args(1, 2, 3, \"hello\")\n",
    "```\n",
    "\n",
    "**Output:**\n",
    "\n",
    "```\n",
    "(1, 2, 3, 'hello')\n",
    "```\n",
    "\n",
    "👉 Here, `args` is a tuple: `(1, 2, 3, 'hello')`.\n",
    "\n",
    "You can loop over it:\n",
    "\n",
    "```python\n",
    "def sum_all(*args):\n",
    "    return sum(args)\n",
    "\n",
    "print(sum_all(1, 2, 3, 4, 5))  # 15\n",
    "```\n",
    "\n",
    "---\n",
    "\n",
    "## 🔹 `**kwargs` → Keyword arguments\n",
    "\n",
    "* Collects **extra keyword arguments** into a **dictionary**.\n",
    "* Useful when you don’t know how many named arguments will be passed.\n",
    "\n",
    "### Example:\n",
    "\n",
    "```python\n",
    "def demo_kwargs(**kwargs):\n",
    "    print(kwargs)\n",
    "\n",
    "demo_kwargs(name=\"Alice\", age=25, city=\"Paris\")\n",
    "```\n",
    "\n",
    "**Output:**\n",
    "\n",
    "```\n",
    "{'name': 'Alice', 'age': 25, 'city': 'Paris'}\n",
    "```\n",
    "\n",
    "👉 Here, `kwargs` is a dictionary.\n",
    "\n",
    "You can access values like:\n",
    "\n",
    "```python\n",
    "def intro(**kwargs):\n",
    "    for key, value in kwargs.items():\n",
    "        print(f\"{key}: {value}\")\n",
    "\n",
    "intro(name=\"Alice\", age=25)\n",
    "```\n",
    "\n",
    "**Output:**\n",
    "\n",
    "```\n",
    "name: Alice\n",
    "age: 25\n",
    "```\n",
    "\n",
    "---\n",
    "\n",
    "## 🔹 Using both together\n",
    "\n",
    "```python\n",
    "def mix_example(a, b, *args, **kwargs):\n",
    "    print(\"a:\", a)\n",
    "    print(\"b:\", b)\n",
    "    print(\"args:\", args)\n",
    "    print(\"kwargs:\", kwargs)\n",
    "\n",
    "mix_example(1, 2, 3, 4, 5, x=10, y=20)\n",
    "```\n",
    "\n",
    "**Output:**\n",
    "\n",
    "```\n",
    "a: 1\n",
    "b: 2\n",
    "args: (3, 4, 5)\n",
    "kwargs: {'x': 10, 'y': 20}\n",
    "```\n",
    "\n",
    "---\n",
    "\n",
    "✅ **Summary**\n",
    "\n",
    "* `*args` → captures extra positional arguments (tuple).\n",
    "* `**kwargs` → captures extra keyword arguments (dict).\n",
    "* They make functions flexible and reusable.\n",
    "\n",
    "---\n"
   ],
   "id": "1f2674d716cff267"
  },
  {
   "metadata": {
    "ExecuteTime": {
     "end_time": "2025-08-19T17:07:18.619337Z",
     "start_time": "2025-08-19T17:07:18.613826Z"
    }
   },
   "cell_type": "code",
   "source": [
    "def marks(**kwargs):\n",
    "    for _,marks in kwargs.items():\n",
    "        print(marks)\n",
    "\n",
    "marks(x=10, y=20)"
   ],
   "id": "e336464ba1e14b44",
   "outputs": [
    {
     "name": "stdout",
     "output_type": "stream",
     "text": [
      "10\n",
      "20\n"
     ]
    }
   ],
   "execution_count": 17
  },
  {
   "metadata": {
    "ExecuteTime": {
     "end_time": "2025-08-19T17:10:46.445473Z",
     "start_time": "2025-08-19T17:10:46.419338Z"
    }
   },
   "cell_type": "code",
   "source": "print(pow.__doc__)",
   "id": "a00675b89a99de67",
   "outputs": [
    {
     "name": "stdout",
     "output_type": "stream",
     "text": [
      "Equivalent to base**exp with 2 arguments or base**exp % mod with 3 arguments\n",
      "\n",
      "Some types, such as ints, are able to use a more efficient algorithm when\n",
      "invoked using the three argument form.\n"
     ]
    }
   ],
   "execution_count": 18
  },
  {
   "metadata": {},
   "cell_type": "code",
   "outputs": [],
   "execution_count": null,
   "source": "",
   "id": "965e15e31f980f42"
  }
 ],
 "metadata": {
  "kernelspec": {
   "display_name": "Python 3",
   "language": "python",
   "name": "python3"
  },
  "language_info": {
   "codemirror_mode": {
    "name": "ipython",
    "version": 2
   },
   "file_extension": ".py",
   "mimetype": "text/x-python",
   "name": "python",
   "nbconvert_exporter": "python",
   "pygments_lexer": "ipython2",
   "version": "2.7.6"
  }
 },
 "nbformat": 4,
 "nbformat_minor": 5
}
