{
 "cells": [
  {
   "metadata": {},
   "cell_type": "markdown",
   "source": [
    "### **1. What is the difference between a function and a method in Python?**\n",
    "\n",
    "* **Function**: A block of code defined and can be called independently.\n",
    "* **Method**: A function that belongs to an object/class and is called using `object.method()`.\n",
    "\n",
    "Example:\n"
   ],
   "id": "f7673ab44e60989f"
  },
  {
   "metadata": {
    "ExecuteTime": {
     "end_time": "2025-08-27T18:53:09.412413Z",
     "start_time": "2025-08-27T18:53:09.406792Z"
    }
   },
   "cell_type": "code",
   "source": [
    "# Function\n",
    "def add(a, b):\n",
    "    return a + b\n",
    "print(add(2, 3))\n",
    "\n",
    "# Method\n",
    "text = \"hello\"\n",
    "print(text.upper())\n"
   ],
   "id": "cae7490b6057ac0a",
   "outputs": [
    {
     "name": "stdout",
     "output_type": "stream",
     "text": [
      "5\n",
      "HELLO\n"
     ]
    }
   ],
   "execution_count": 39
  },
  {
   "metadata": {},
   "cell_type": "markdown",
   "source": [
    "### **2. Explain the concept of function arguments and parameters in Python.**\n",
    "\n",
    "* **Parameter** → Variable defined inside function definition.\n",
    "* **Argument** → Value passed while calling the function.\n",
    "\n",
    "Example:"
   ],
   "id": "513ae0fc18ddf292"
  },
  {
   "metadata": {
    "ExecuteTime": {
     "end_time": "2025-08-27T18:03:22.050808Z",
     "start_time": "2025-08-27T18:03:22.046700Z"
    }
   },
   "cell_type": "code",
   "source": [
    "def greet(name):   \n",
    "    print(\"Hello\", name)\n",
    "\n",
    "greet(\"Jumaan\")"
   ],
   "id": "469a206c6e24eb28",
   "outputs": [
    {
     "name": "stdout",
     "output_type": "stream",
     "text": [
      "Hello Jumaan\n"
     ]
    }
   ],
   "execution_count": 3
  },
  {
   "metadata": {},
   "cell_type": "markdown",
   "source": [
    "### **3. What are the different ways to define and call a function in Python?**\n",
    "\n",
    "1. **Regular function** – Normal way with `def`.\n",
    "2. **Lambda function** – Anonymous function using `lambda`.\n",
    "3. **Default parameters** – Assign default values to parameters.\n",
    "4. **Variable positional arguments (`*args`)** – Collects multiple values as a tuple.\n",
    "5. **Variable keyword arguments (`**kwargs`)** – Collects multiple named arguments as a dictionary. ✅\n",
    "\n",
    "Example:"
   ],
   "id": "8f42cdcf4db91864"
  },
  {
   "metadata": {
    "ExecuteTime": {
     "end_time": "2025-08-27T18:16:39.288065Z",
     "start_time": "2025-08-27T18:16:39.278114Z"
    }
   },
   "cell_type": "code",
   "source": [
    "# Regular function\n",
    "def square(x):\n",
    "    return x * x\n",
    "print(\"\\nRegular Expression\")\n",
    "print(square(4)) \n",
    "\n",
    "\n",
    "# Lambda function\n",
    "sq = lambda x: x * x\n",
    "print(\"\\nLambda function\")\n",
    "print(sq(4))       \n",
    "\n",
    "\n",
    "# Default parameter\n",
    "def greet(name=\"Guest\"):\n",
    "    print(\"Hello\", name)\n",
    "print(\"\\nDefault Parameter\")\n",
    "greet(\"Suhani\")    \n",
    "\n",
    "\n",
    "# Variable positional arguments (*args)\n",
    "def add(*nums):\n",
    "    return sum(nums)\n",
    "print(\"\\nVariable positional arguments (*args)\")\n",
    "print(add(1, 2, 3, 4))\n",
    "\n",
    "\n",
    "# Variable keyword arguments (**kwargs)\n",
    "def introduce(**info):\n",
    "    for key, value in info.items():\n",
    "        print(f\"{key}: {value}\")\n",
    "\n",
    "print(\"\\nVariable keyword arguments (**kwargs)\")\n",
    "introduce(name=\"Jumaan\", age=23, role=\"Developer\")\n"
   ],
   "id": "c2a269180d5e62d4",
   "outputs": [
    {
     "name": "stdout",
     "output_type": "stream",
     "text": [
      "\n",
      "Regular Expression\n",
      "16\n",
      "\n",
      "Lambda function\n",
      "16\n",
      "\n",
      "Default Parameter\n",
      "Hello Suhani\n",
      "\n",
      "Variable positional arguments (*args)\n",
      "10\n",
      "\n",
      "Variable keyword arguments (**kwargs)\n",
      "name: Jumaan\n",
      "age: 23\n",
      "role: Developer\n"
     ]
    }
   ],
   "execution_count": 19
  },
  {
   "metadata": {},
   "cell_type": "markdown",
   "source": [
    "### **4. What is the purpose of the `return` statement in a Python function?**\n",
    "\n",
    "* The `return` statement sends a result back to the caller.\n",
    "* If not used, the function returns `None`.\n",
    "\n",
    "Example:"
   ],
   "id": "1a1da5d8b5478044"
  },
  {
   "metadata": {
    "ExecuteTime": {
     "end_time": "2025-08-27T18:16:48.453571Z",
     "start_time": "2025-08-27T18:16:48.445626Z"
    }
   },
   "cell_type": "code",
   "source": [
    "def add(a, b):\n",
    "    return a + b\n",
    "result = add(10, 20)\n",
    "print(result) "
   ],
   "id": "e1a8b4d60d422908",
   "outputs": [
    {
     "name": "stdout",
     "output_type": "stream",
     "text": [
      "30\n"
     ]
    }
   ],
   "execution_count": 20
  },
  {
   "metadata": {},
   "cell_type": "markdown",
   "source": [
    "### **5. What are iterators in Python and how do they differ from iterables?**\n",
    "\n",
    "* **Iterable**: An object that can return an iterator (like list, tuple, str).\n",
    "* **Iterator**: An object with `__next__()` method to fetch values one by one.\n",
    "\n",
    "Example:"
   ],
   "id": "9897b0cf07f2c18a"
  },
  {
   "metadata": {
    "ExecuteTime": {
     "end_time": "2025-08-27T18:16:50.900219Z",
     "start_time": "2025-08-27T18:16:50.890289Z"
    }
   },
   "cell_type": "code",
   "source": [
    "nums = [1, 2, 3]\n",
    "it = iter(nums)\n",
    "\n",
    "print(next(it))\n",
    "print(next(it))\n",
    "print(next(it))"
   ],
   "id": "2a1856a4d038368b",
   "outputs": [
    {
     "name": "stdout",
     "output_type": "stream",
     "text": [
      "1\n",
      "2\n",
      "3\n"
     ]
    }
   ],
   "execution_count": 21
  },
  {
   "metadata": {},
   "cell_type": "markdown",
   "source": [
    "### **6. Explain the concept of generators in Python and how they are defined.**\n",
    "\n",
    "* Generators are functions that use `yield` instead of `return` to produce values lazily (one at a time).\n",
    "\n",
    "Example:"
   ],
   "id": "7cb4a5f9b7751a75"
  },
  {
   "metadata": {
    "ExecuteTime": {
     "end_time": "2025-08-27T18:17:46.853919Z",
     "start_time": "2025-08-27T18:17:46.848840Z"
    }
   },
   "cell_type": "code",
   "source": [
    "def count_up_to(n):\n",
    "    i = 1\n",
    "    while i <= n:\n",
    "        yield i\n",
    "        i += 1\n",
    "\n",
    "for num in count_up_to(10):\n",
    "    print(num)"
   ],
   "id": "1eca26546897b7bf",
   "outputs": [
    {
     "name": "stdout",
     "output_type": "stream",
     "text": [
      "1\n",
      "2\n",
      "3\n",
      "4\n",
      "5\n",
      "6\n",
      "7\n",
      "8\n",
      "9\n",
      "10\n"
     ]
    }
   ],
   "execution_count": 25
  },
  {
   "metadata": {},
   "cell_type": "markdown",
   "source": [
    "### **7. What are the advantages of using generators over regular functions?**\n",
    "\n",
    "* Memory efficient (don’t store all values at once).\n",
    "* Lazy evaluation (values generated only when needed).\n",
    "* Useful for handling large datasets or infinite sequences.\n",
    "\n",
    "Example:"
   ],
   "id": "2eecfc3aac79a60a"
  },
  {
   "metadata": {
    "ExecuteTime": {
     "end_time": "2025-08-27T18:18:59.927638Z",
     "start_time": "2025-08-27T18:18:59.923172Z"
    }
   },
   "cell_type": "code",
   "source": [
    "gen = (x*x for x in range(1000000)) \n",
    "print(next(gen))  \n",
    "print(next(gen))"
   ],
   "id": "9d7e8fafe7aecbf",
   "outputs": [
    {
     "name": "stdout",
     "output_type": "stream",
     "text": [
      "0\n",
      "1\n"
     ]
    }
   ],
   "execution_count": 28
  },
  {
   "metadata": {},
   "cell_type": "markdown",
   "source": [
    "### **8. What is a lambda function in Python and when is it typically used?**\n",
    "\n",
    "* A **lambda function** is an anonymous function defined using `lambda`.\n",
    "* Used for short, throwaway functions (e.g., with `map`, `filter`, `reduce`).\n",
    "\n",
    "Example:"
   ],
   "id": "e1ff30f0ab622329"
  },
  {
   "metadata": {
    "ExecuteTime": {
     "end_time": "2025-08-27T18:19:41.894762Z",
     "start_time": "2025-08-27T18:19:41.890625Z"
    }
   },
   "cell_type": "code",
   "source": [
    "square = lambda x: x * x\n",
    "print(square(5))"
   ],
   "id": "7b74e9ab446df36c",
   "outputs": [
    {
     "name": "stdout",
     "output_type": "stream",
     "text": [
      "25\n"
     ]
    }
   ],
   "execution_count": 29
  },
  {
   "metadata": {},
   "cell_type": "markdown",
   "source": [
    "### **9. Explain the purpose and usage of the `map()` function in Python.**\n",
    "\n",
    "* The `map()` function applies a given function to each element of an iterable.\n",
    "* Returns a map object (iterator).\n",
    "\n",
    "Example:"
   ],
   "id": "53759ff00f47297b"
  },
  {
   "metadata": {
    "ExecuteTime": {
     "end_time": "2025-08-27T18:21:04.442723Z",
     "start_time": "2025-08-27T18:21:04.438468Z"
    }
   },
   "cell_type": "code",
   "source": [
    "nums = [1, 2, 3, 4]\n",
    "squared = map(lambda x: x**2, nums)\n",
    "print(list(squared))  "
   ],
   "id": "5e836f19fb04b3e",
   "outputs": [
    {
     "name": "stdout",
     "output_type": "stream",
     "text": [
      "[1, 4, 9, 16]\n"
     ]
    }
   ],
   "execution_count": 31
  },
  {
   "metadata": {},
   "cell_type": "markdown",
   "source": [
    "### **10. What is the difference between `map()`, `reduce()`, and `filter()` functions in Python?**\n",
    "\n",
    "* **map()**: Applies a function to each element.\n",
    "* **filter()**: Selects elements based on a condition.\n",
    "* **reduce()**: Applies function cumulatively to reduce list to a single value.\n",
    "\n",
    "Example:"
   ],
   "id": "7c257d3f2ca9ce92"
  },
  {
   "metadata": {
    "ExecuteTime": {
     "end_time": "2025-08-27T18:22:13.950287Z",
     "start_time": "2025-08-27T18:22:13.944150Z"
    }
   },
   "cell_type": "code",
   "source": [
    "from functools import reduce\n",
    "\n",
    "nums = [1, 2, 3, 4, 5]\n",
    "\n",
    "# map\n",
    "print(list(map(lambda x: x*2, nums)))\n",
    "\n",
    "# filter\n",
    "print(list(filter(lambda x: x%2==0, nums)))\n",
    "\n",
    "# reduce\n",
    "print(reduce(lambda x, y: x+y, nums))\n"
   ],
   "id": "2182f68cb8a084a",
   "outputs": [
    {
     "name": "stdout",
     "output_type": "stream",
     "text": [
      "[2, 4, 6, 8, 10]\n",
      "[2, 4]\n",
      "15\n"
     ]
    }
   ],
   "execution_count": 32
  },
  {
   "metadata": {},
   "cell_type": "markdown",
   "source": "### **11. Using pen & paper write the internal mechanism for sum operation using reduce function on this given list: \\[47, 11, 42, 13]**",
   "id": "4e7fd2e6af1bb770"
  },
  {
   "metadata": {
    "ExecuteTime": {
     "end_time": "2025-08-27T18:35:03.646008Z",
     "start_time": "2025-08-27T18:35:03.632203Z"
    }
   },
   "cell_type": "code",
   "source": [
    "from functools import reduce\n",
    "reduce(lambda x, y: x + y, [47, 11, 42, 13])"
   ],
   "id": "3afbb64a287f30fe",
   "outputs": [
    {
     "data": {
      "text/plain": [
       "113"
      ]
     },
     "execution_count": 35,
     "metadata": {},
     "output_type": "execute_result"
    }
   ],
   "execution_count": 35
  },
  {
   "metadata": {},
   "cell_type": "markdown",
   "source": [
    "Step-by-step:\n",
    "\n",
    "1. Take first two elements: `47 + 11 = 58`\n",
    "2. Take result and next element: `58 + 42 = 100`\n",
    "3. Take result and next element: `100 + 13 = 113`\n",
    "\n",
    "Final Result = **113**\n"
   ],
   "id": "2bb7800e3d2ec119"
  },
  {
   "metadata": {
    "ExecuteTime": {
     "end_time": "2025-08-27T18:52:12.139451Z",
     "start_time": "2025-08-27T18:52:10.619288Z"
    }
   },
   "cell_type": "code",
   "source": [
    "!pip install IPython\n",
    "from IPython.display import Image, display\n",
    "\n",
    "display(Image(filename='reduce.jpg'))"
   ],
   "id": "63756b056fd69938",
   "outputs": [
    {
     "name": "stdout",
     "output_type": "stream",
     "text": [
      "Requirement already satisfied: IPython in c:\\users\\moham\\anaconda3\\envs\\pw-data-science\\lib\\site-packages (9.1.0)\n",
      "Requirement already satisfied: colorama in c:\\users\\moham\\anaconda3\\envs\\pw-data-science\\lib\\site-packages (from IPython) (0.4.6)\n",
      "Requirement already satisfied: decorator in c:\\users\\moham\\anaconda3\\envs\\pw-data-science\\lib\\site-packages (from IPython) (5.1.1)\n",
      "Requirement already satisfied: ipython-pygments-lexers in c:\\users\\moham\\anaconda3\\envs\\pw-data-science\\lib\\site-packages (from IPython) (1.1.1)\n",
      "Requirement already satisfied: jedi>=0.16 in c:\\users\\moham\\anaconda3\\envs\\pw-data-science\\lib\\site-packages (from IPython) (0.19.2)\n",
      "Requirement already satisfied: matplotlib-inline in c:\\users\\moham\\anaconda3\\envs\\pw-data-science\\lib\\site-packages (from IPython) (0.1.6)\n",
      "Requirement already satisfied: prompt_toolkit<3.1.0,>=3.0.41 in c:\\users\\moham\\anaconda3\\envs\\pw-data-science\\lib\\site-packages (from IPython) (3.0.43)\n",
      "Requirement already satisfied: pygments>=2.4.0 in c:\\users\\moham\\anaconda3\\envs\\pw-data-science\\lib\\site-packages (from IPython) (2.19.1)\n",
      "Requirement already satisfied: stack_data in c:\\users\\moham\\anaconda3\\envs\\pw-data-science\\lib\\site-packages (from IPython) (0.2.0)\n",
      "Requirement already satisfied: traitlets>=5.13.0 in c:\\users\\moham\\anaconda3\\envs\\pw-data-science\\lib\\site-packages (from IPython) (5.14.3)\n",
      "Requirement already satisfied: typing_extensions>=4.6 in c:\\users\\moham\\anaconda3\\envs\\pw-data-science\\lib\\site-packages (from IPython) (4.12.2)\n",
      "Requirement already satisfied: wcwidth in c:\\users\\moham\\anaconda3\\envs\\pw-data-science\\lib\\site-packages (from prompt_toolkit<3.1.0,>=3.0.41->IPython) (0.2.13)\n",
      "Requirement already satisfied: parso<0.9.0,>=0.8.4 in c:\\users\\moham\\anaconda3\\envs\\pw-data-science\\lib\\site-packages (from jedi>=0.16->IPython) (0.8.4)\n",
      "Requirement already satisfied: executing in c:\\users\\moham\\anaconda3\\envs\\pw-data-science\\lib\\site-packages (from stack_data->IPython) (0.8.3)\n",
      "Requirement already satisfied: asttokens in c:\\users\\moham\\anaconda3\\envs\\pw-data-science\\lib\\site-packages (from stack_data->IPython) (3.0.0)\n",
      "Requirement already satisfied: pure-eval in c:\\users\\moham\\anaconda3\\envs\\pw-data-science\\lib\\site-packages (from stack_data->IPython) (0.2.2)\n"
     ]
    },
    {
     "data": {
      "image/jpeg": "[encoded data removed]",
      "text/plain": [
       "<IPython.core.display.Image object>"
      ]
     },
     "metadata": {},
     "output_type": "display_data"
    }
   ],
   "execution_count": 38
  },
  {
   "metadata": {},
   "cell_type": "markdown",
   "source": "# Practical Questions:",
   "id": "889a062740d4e7d9"
  },
  {
   "metadata": {},
   "cell_type": "markdown",
   "source": "### **1. Write a Python function that takes a list of numbers as input and returns the sum of all even numbers in the list.**",
   "id": "e8cdd2acde1d8880"
  },
  {
   "metadata": {
    "ExecuteTime": {
     "end_time": "2025-08-27T18:56:58.602194Z",
     "start_time": "2025-08-27T18:56:51.729478Z"
    }
   },
   "cell_type": "code",
   "source": [
    "nums=input(\"Enter the list of number seperated by coma\")\n",
    "list_nums=nums.split(\",\")\n",
    "list_nums"
   ],
   "id": "d7bb9fdbfc6c82be",
   "outputs": [
    {
     "data": {
      "text/plain": [
       "['1', '2', '3', '4']"
      ]
     },
     "execution_count": 40,
     "metadata": {},
     "output_type": "execute_result"
    }
   ],
   "execution_count": 40
  },
  {
   "metadata": {
    "ExecuteTime": {
     "end_time": "2025-08-27T18:58:21.533480Z",
     "start_time": "2025-08-27T18:58:21.527073Z"
    }
   },
   "cell_type": "code",
   "source": [
    "list_nums=list(map(lambda x:int(x),list_nums))\n",
    "list_nums"
   ],
   "id": "ef3a7e8652cb69dc",
   "outputs": [
    {
     "data": {
      "text/plain": [
       "[1, 2, 3, 4]"
      ]
     },
     "execution_count": 42,
     "metadata": {},
     "output_type": "execute_result"
    }
   ],
   "execution_count": 42
  },
  {
   "metadata": {
    "ExecuteTime": {
     "end_time": "2025-08-27T19:02:49.849479Z",
     "start_time": "2025-08-27T19:02:49.845109Z"
    }
   },
   "cell_type": "code",
   "source": [
    "from functools import reduce\n",
    "even_sum=reduce(lambda x,y:x+y,filter(lambda x:x%2==0,list_nums))"
   ],
   "id": "1311e1607a48c4d6",
   "outputs": [],
   "execution_count": 45
  },
  {
   "metadata": {
    "ExecuteTime": {
     "end_time": "2025-08-27T19:02:54.948699Z",
     "start_time": "2025-08-27T19:02:54.942848Z"
    }
   },
   "cell_type": "code",
   "source": "even_sum",
   "id": "1946f6d32bbdb331",
   "outputs": [
    {
     "data": {
      "text/plain": [
       "6"
      ]
     },
     "execution_count": 46,
     "metadata": {},
     "output_type": "execute_result"
    }
   ],
   "execution_count": 46
  },
  {
   "metadata": {},
   "cell_type": "markdown",
   "source": "### **2. Create a Python function that accepts a string and returns the reverse of that string.**",
   "id": "d58274018ce84947"
  },
  {
   "metadata": {
    "ExecuteTime": {
     "end_time": "2025-08-27T19:11:18.724608Z",
     "start_time": "2025-08-27T19:11:18.716744Z"
    }
   },
   "cell_type": "code",
   "source": "rev_string=lambda s:s[::-1];   ",
   "id": "eb58dbdb4b9b39b0",
   "outputs": [],
   "execution_count": 48
  },
  {
   "metadata": {
    "ExecuteTime": {
     "end_time": "2025-08-27T19:11:34.056984Z",
     "start_time": "2025-08-27T19:11:34.049859Z"
    }
   },
   "cell_type": "code",
   "source": "rev_string(\"Jumaan\")",
   "id": "82630cf81fa0a2a9",
   "outputs": [
    {
     "data": {
      "text/plain": [
       "'naamuJ'"
      ]
     },
     "execution_count": 49,
     "metadata": {},
     "output_type": "execute_result"
    }
   ],
   "execution_count": 49
  },
  {
   "metadata": {},
   "cell_type": "markdown",
   "source": "### **3. Implement a Python function that takes a list of integers and returns a new list containing the squares of each number.**",
   "id": "b31555d058fca7f9"
  },
  {
   "metadata": {
    "ExecuteTime": {
     "end_time": "2025-08-27T19:34:45.377208Z",
     "start_time": "2025-08-27T19:34:45.372293Z"
    }
   },
   "cell_type": "code",
   "source": "squared =lambda li:list(map(lambda x:x**2,li))",
   "id": "4e8773d94ca81331",
   "outputs": [],
   "execution_count": 60
  },
  {
   "metadata": {
    "ExecuteTime": {
     "end_time": "2025-08-27T19:34:54.929711Z",
     "start_time": "2025-08-27T19:34:54.918123Z"
    }
   },
   "cell_type": "code",
   "source": "squared([1,2,3,4,5])",
   "id": "f71ad5b119ce6288",
   "outputs": [
    {
     "data": {
      "text/plain": [
       "[1, 4, 9, 16, 25]"
      ]
     },
     "execution_count": 62,
     "metadata": {},
     "output_type": "execute_result"
    }
   ],
   "execution_count": 62
  },
  {
   "metadata": {},
   "cell_type": "markdown",
   "source": "### **4. Write a Python function that checks if a given number is prime or not from 1 to 200.**",
   "id": "2d7d0277ff47a97a"
  },
  {
   "metadata": {
    "ExecuteTime": {
     "end_time": "2025-08-27T19:23:16.729079Z",
     "start_time": "2025-08-27T19:23:16.720581Z"
    }
   },
   "cell_type": "code",
   "source": [
    "def is_prime(n):\n",
    "    if n <= 1:\n",
    "        return False\n",
    "    for i in range(2, int(n**0.5)+1):\n",
    "        if n % i == 0:\n",
    "            return False\n",
    "    return True"
   ],
   "id": "cb7256cf1a4164a5",
   "outputs": [],
   "execution_count": 52
  },
  {
   "metadata": {
    "ExecuteTime": {
     "end_time": "2025-08-27T19:23:32.476207Z",
     "start_time": "2025-08-27T19:23:32.466721Z"
    }
   },
   "cell_type": "code",
   "source": [
    "for num in range(1, 201):\n",
    "    if is_prime(num):\n",
    "        print(num)\n"
   ],
   "id": "88d7827ab51cf5ff",
   "outputs": [
    {
     "name": "stdout",
     "output_type": "stream",
     "text": [
      "2\n",
      "3\n",
      "5\n",
      "7\n",
      "11\n",
      "13\n",
      "17\n",
      "19\n",
      "23\n",
      "29\n",
      "31\n",
      "37\n",
      "41\n",
      "43\n",
      "47\n",
      "53\n",
      "59\n",
      "61\n",
      "67\n",
      "71\n",
      "73\n",
      "79\n",
      "83\n",
      "89\n",
      "97\n",
      "101\n",
      "103\n",
      "107\n",
      "109\n",
      "113\n",
      "127\n",
      "131\n",
      "137\n",
      "139\n",
      "149\n",
      "151\n",
      "157\n",
      "163\n",
      "167\n",
      "173\n",
      "179\n",
      "181\n",
      "191\n",
      "193\n",
      "197\n",
      "199\n"
     ]
    }
   ],
   "execution_count": 53
  },
  {
   "metadata": {},
   "cell_type": "markdown",
   "source": "### **5. Create an iterator class in Python that generates the Fibonacci sequence up to a specified number of terms.**",
   "id": "159641122a53f93c"
  },
  {
   "metadata": {
    "ExecuteTime": {
     "end_time": "2025-08-27T19:39:41.377182Z",
     "start_time": "2025-08-27T19:39:41.371917Z"
    }
   },
   "cell_type": "code",
   "source": [
    "def fibonacci(n):\n",
    "    a, b = 0, 1\n",
    "    for _ in range(n):\n",
    "        yield a\n",
    "        a, b = b, a + b"
   ],
   "id": "871e5eeec3e6c20d",
   "outputs": [],
   "execution_count": 68
  },
  {
   "metadata": {
    "ExecuteTime": {
     "end_time": "2025-08-27T19:39:55.445996Z",
     "start_time": "2025-08-27T19:39:55.441075Z"
    }
   },
   "cell_type": "code",
   "source": "result=fibonacci(10)",
   "id": "f54036a1c07110fa",
   "outputs": [],
   "execution_count": 72
  },
  {
   "metadata": {
    "ExecuteTime": {
     "end_time": "2025-08-27T19:39:57.082791Z",
     "start_time": "2025-08-27T19:39:57.076206Z"
    }
   },
   "cell_type": "code",
   "source": "next(result)",
   "id": "cfd66e96d34c78a",
   "outputs": [
    {
     "data": {
      "text/plain": [
       "0"
      ]
     },
     "execution_count": 73,
     "metadata": {},
     "output_type": "execute_result"
    }
   ],
   "execution_count": 73
  },
  {
   "metadata": {
    "ExecuteTime": {
     "end_time": "2025-08-27T19:40:04.992251Z",
     "start_time": "2025-08-27T19:40:04.987027Z"
    }
   },
   "cell_type": "code",
   "source": "next(result)",
   "id": "21c1aae57dd6843e",
   "outputs": [
    {
     "data": {
      "text/plain": [
       "1"
      ]
     },
     "execution_count": 74,
     "metadata": {},
     "output_type": "execute_result"
    }
   ],
   "execution_count": 74
  },
  {
   "metadata": {
    "ExecuteTime": {
     "end_time": "2025-08-27T19:40:22.790437Z",
     "start_time": "2025-08-27T19:40:22.785110Z"
    }
   },
   "cell_type": "code",
   "source": [
    "for i in result:\n",
    "    print(i)"
   ],
   "id": "ae2bbe6e8d0ba44c",
   "outputs": [
    {
     "name": "stdout",
     "output_type": "stream",
     "text": [
      "1\n",
      "2\n",
      "3\n",
      "5\n",
      "8\n",
      "13\n",
      "21\n",
      "34\n"
     ]
    }
   ],
   "execution_count": 75
  },
  {
   "metadata": {},
   "cell_type": "markdown",
   "source": "### **6. Write a generator function in Python that yields the powers of 2 up to a given exponent.**",
   "id": "2d25bea3ca65b047"
  },
  {
   "metadata": {
    "ExecuteTime": {
     "end_time": "2025-08-27T19:45:11.898569Z",
     "start_time": "2025-08-27T19:45:11.894422Z"
    }
   },
   "cell_type": "code",
   "source": [
    "def powers_of_two(n):\n",
    "    for i in range(n+1):\n",
    "        yield 2**i"
   ],
   "id": "e47243402f7e1ce9",
   "outputs": [],
   "execution_count": 78
  },
  {
   "metadata": {
    "ExecuteTime": {
     "end_time": "2025-08-27T19:45:24.331146Z",
     "start_time": "2025-08-27T19:45:24.326443Z"
    }
   },
   "cell_type": "code",
   "source": [
    "for i in powers_of_two(10):\n",
    "    print(i)"
   ],
   "id": "c7f065398a4cfb66",
   "outputs": [
    {
     "name": "stdout",
     "output_type": "stream",
     "text": [
      "1\n",
      "2\n",
      "4\n",
      "8\n",
      "16\n",
      "32\n",
      "64\n",
      "128\n",
      "256\n",
      "512\n",
      "1024\n"
     ]
    }
   ],
   "execution_count": 79
  },
  {
   "metadata": {},
   "cell_type": "markdown",
   "source": "### **7. Implement a generator function that reads a file line by line and yields each line as a string.**",
   "id": "a4bba5b4e611964b"
  },
  {
   "metadata": {
    "ExecuteTime": {
     "end_time": "2025-08-27T19:49:31.799377Z",
     "start_time": "2025-08-27T19:49:31.792604Z"
    }
   },
   "cell_type": "code",
   "source": [
    "# Generator function to read file line by line\n",
    "def read_file_line_by_line(filename):\n",
    "    with open(filename, 'r') as file:\n",
    "        for line in file:\n",
    "            yield line.rstrip('\\n')"
   ],
   "id": "287a499452053536",
   "outputs": [],
   "execution_count": 81
  },
  {
   "metadata": {
    "ExecuteTime": {
     "end_time": "2025-08-27T19:53:02.771445Z",
     "start_time": "2025-08-27T19:53:02.764926Z"
    }
   },
   "cell_type": "code",
   "source": [
    "for line in read_file_line_by_line(\"file.txt\"):\n",
    "    print(line)"
   ],
   "id": "680be07b4b6b628b",
   "outputs": [
    {
     "name": "stdout",
     "output_type": "stream",
     "text": [
      "hello bachoooooooooooooooo\n",
      "tho swagath hai aapka pw-skils mei\n"
     ]
    }
   ],
   "execution_count": 85
  },
  {
   "metadata": {},
   "cell_type": "markdown",
   "source": "### **8. Use a lambda function in Python to sort a list of tuples based on the second element of each tuple.**",
   "id": "fa2a7f5c54dd2872"
  },
  {
   "metadata": {
    "ExecuteTime": {
     "end_time": "2025-08-27T19:55:58.750559Z",
     "start_time": "2025-08-27T19:55:58.739453Z"
    }
   },
   "cell_type": "code",
   "source": [
    "data = [(1, 5), (2, 2), (3, 8), (4, 1)]\n",
    "\n",
    "sorted_data = sorted(data, key=lambda x: x[1])\n",
    "\n",
    "print(sorted_data)\n"
   ],
   "id": "8d7cb13272f7ba28",
   "outputs": [
    {
     "name": "stdout",
     "output_type": "stream",
     "text": [
      "[(4, 1), (2, 2), (1, 5), (3, 8)]\n"
     ]
    }
   ],
   "execution_count": 87
  },
  {
   "metadata": {},
   "cell_type": "markdown",
   "source": "### **9. Write a Python program that uses `map()` to convert a list of temperatures from Celsius to Fahrenheit**",
   "id": "9909c43d58333983"
  },
  {
   "metadata": {
    "ExecuteTime": {
     "end_time": "2025-08-27T20:00:51.075921Z",
     "start_time": "2025-08-27T20:00:51.070405Z"
    }
   },
   "cell_type": "code",
   "source": [
    "celsius=[18,40,36,22]\n",
    "fahrenheit=list(map((lambda x:(x*9/5)+32),celsius))"
   ],
   "id": "66a74776dad954a6",
   "outputs": [],
   "execution_count": 90
  },
  {
   "metadata": {
    "ExecuteTime": {
     "end_time": "2025-08-27T20:00:55.224548Z",
     "start_time": "2025-08-27T20:00:55.213533Z"
    }
   },
   "cell_type": "code",
   "source": "fahrenheit",
   "id": "c89175c91e83f120",
   "outputs": [
    {
     "data": {
      "text/plain": [
       "[64.4, 104.0, 96.8, 71.6]"
      ]
     },
     "execution_count": 91,
     "metadata": {},
     "output_type": "execute_result"
    }
   ],
   "execution_count": 91
  },
  {
   "metadata": {},
   "cell_type": "markdown",
   "source": "### **10. Create a Python program that uses `filter()` to remove all the vowels from a given string**",
   "id": "d630b98fd6f74892"
  },
  {
   "metadata": {
    "ExecuteTime": {
     "end_time": "2025-08-27T20:07:33.410731Z",
     "start_time": "2025-08-27T20:07:33.405301Z"
    }
   },
   "cell_type": "code",
   "source": [
    "name=\"Jumaan\"\n",
    "filtered=\"\".join(filter(lambda x:x.lower() not in [\"a\",\"e\",\"i\",\"o\",\"u\"],name))"
   ],
   "id": "5da0af8bf706c855",
   "outputs": [],
   "execution_count": 101
  },
  {
   "metadata": {
    "ExecuteTime": {
     "end_time": "2025-08-27T20:07:34.012595Z",
     "start_time": "2025-08-27T20:07:34.004445Z"
    }
   },
   "cell_type": "code",
   "source": "filtered",
   "id": "3bec85efb926686c",
   "outputs": [
    {
     "data": {
      "text/plain": [
       "'Jmn'"
      ]
     },
     "execution_count": 102,
     "metadata": {},
     "output_type": "execute_result"
    }
   ],
   "execution_count": 102
  },
  {
   "metadata": {},
   "cell_type": "markdown",
   "source": [
    "### 11) Imagine an accounting routine used in a book shop. It works on a list with sublists, which look like this: \n",
    "### Write a Python program, which returns a list with 2-tuples. Each tuple consists of the order number and the product of the price per item and the quantity. The product should be increased by 10,- € if the value of the order is smaller than 100,00 €. Write a Python program using lambda and map."
   ],
   "id": "60e4d11df175beee"
  },
  {
   "metadata": {
    "ExecuteTime": {
     "end_time": "2025-08-27T20:14:10.859772Z",
     "start_time": "2025-08-27T20:14:10.834637Z"
    }
   },
   "cell_type": "code",
   "source": [
    "orders = [\n",
    "    [34587, \"Learning Python, Mark Lutz\", 4, 40.95],\n",
    "    [98762, \"Programming Python, Mark Lutz\", 5, 56.80],\n",
    "    [77226, \"Head First Python, Paul Barry\", 3, 32.95],\n",
    "    [88112, \"Einführung in Python3, Bernd Klein\", 3, 24.99]\n",
    "]\n",
    "\n",
    "\n",
    "totals = list(map(lambda order: \n",
    "                  (order[0], order[2] * order[3] + (10 if order[2] * order[3] < 100 else 0)),\n",
    "                  orders))\n",
    "\n",
    "print(totals)"
   ],
   "id": "f8d39e61a5987787",
   "outputs": [
    {
     "name": "stdout",
     "output_type": "stream",
     "text": [
      "[(34587, 163.8), (98762, 284.0), (77226, 108.85000000000001), (88112, 84.97)]\n"
     ]
    }
   ],
   "execution_count": 103
  },
  {
   "metadata": {},
   "cell_type": "code",
   "outputs": [],
   "execution_count": null,
   "source": "",
   "id": "77e712646c1786fc"
  }
 ],
 "metadata": {
  "kernelspec": {
   "display_name": "Python 3",
   "language": "python",
   "name": "python3"
  },
  "language_info": {
   "codemirror_mode": {
    "name": "ipython",
    "version": 2
   },
   "file_extension": ".py",
   "mimetype": "text/x-python",
   "name": "python",
   "nbconvert_exporter": "python",
   "pygments_lexer": "ipython2",
   "version": "2.7.6"
  }
 },
 "nbformat": 4,
 "nbformat_minor": 5
}
