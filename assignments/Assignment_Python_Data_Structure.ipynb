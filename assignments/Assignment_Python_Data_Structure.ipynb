{
  "nbformat": 4,
  "nbformat_minor": 0,
  "metadata": {
    "colab": {
      "provenance": []
    },
    "kernelspec": {
      "name": "python3",
      "display_name": "Python 3"
    },
    "language_info": {
      "name": "python"
    }
  },
  "cells": [
    {
      "cell_type": "markdown",
      "source": [
        "# Data Types and Structures Questions"
      ],
      "metadata": {
        "id": "k5tOSDYRXPOR"
      }
    },
    {
      "cell_type": "markdown",
      "source": [
        "\n",
        "\n",
        "**1. What are data structures, and why are they important?**\n",
        "\n",
        "Data structures are specialized formats for organizing, storing, and managing data to enable efficient access and manipulation. Examples in Python include lists, tuples, dictionaries, and sets. They are important because they:\n",
        "\n",
        "- **Optimize Operations**: Different data structures are suited for specific tasks (e.g., lists for ordered sequences, dictionaries for key-value lookups).\n",
        "- **Improve Efficiency**: They reduce time and space complexity for operations like searching, inserting, or deleting data.\n",
        "- **Enhance Code Clarity**: Choosing the right data structure makes code more readable and maintainable.\n",
        "- **Support Scalability**: Efficient data structures handle large datasets effectively.\n",
        "\n",
        "For example, a dictionary allows fast lookups by key, while a list is ideal for maintaining an ordered sequence of items.\n",
        "\n"
      ],
      "metadata": {
        "id": "03zo047OXPsd"
      }
    },
    {
      "cell_type": "markdown",
      "source": [
        "**2. Explain the difference between mutable and immutable data types with examples.**\n",
        "\n",
        "- **Mutable Data Types**: Can be modified after creation (i.e., their content or structure can change).  \n",
        "  - **Examples**:\n",
        "    - **List**: `my_list = [1, 2, 3]; my_list[0] = 4` → `my_list` becomes `[4, 2, 3]`.\n",
        "    - **Dictionary**: `my_dict = {'a': 1}; my_dict['a'] = 2` → `my_dict` becomes `{'a': 2}`.\n",
        "    - **Set**: `my_set = {1, 2}; my_set.add(3)` → `my_set` becomes `{1, 2, 3}`.\n",
        "\n",
        "- **Immutable Data Types**: Cannot be modified after creation; any change creates a new object.  \n",
        "  - **Examples**:\n",
        "    - **String**: `my_str = \"hello\"; my_str[0] = \"H\"` → Raises an error; instead, `my_str = \"Hello\"` creates a new string.\n",
        "    - **Tuple**: `my_tuple = (1, 2, 3); my_tuple[0] = 4` → Raises an error; tuples are fixed.\n",
        "    - **Integer**: `x = 5; x += 1` → Creates a new integer object `6`.\n",
        "\n",
        "Mutable types are flexible for dynamic data, while immutable types ensure data integrity and are hashable (usable as dictionary keys or set elements).\n",
        "\n"
      ],
      "metadata": {
        "id": "thO_mkKsXilk"
      }
    },
    {
      "cell_type": "markdown",
      "source": [
        "\n",
        "**3. What are the main differences between lists and tuples in Python?**\n",
        "\n",
        "| Feature                | List                              | Tuple                            |\n",
        "|------------------------|-----------------------------------|----------------------------------|\n",
        "| **Mutability**         | Mutable (can modify elements)     | Immutable (cannot modify elements) |\n",
        "| **Syntax**             | Square brackets: `[1, 2, 3]`      | Parentheses: `(1, 2, 3)`         |\n",
        "| **Performance**        | Slightly slower due to mutability | Faster due to immutability       |\n",
        "| **Use Case**           | Dynamic data that may change      | Fixed data, e.g., constants      |\n",
        "| **Methods**            | Many (e.g., `append`, `remove`)   | Few (e.g., `count`, `index`)     |\n",
        "| **Hashability**        | Not hashable (cannot be dict key) | Hashable (can be dict key)       |\n",
        "\n",
        "**Example**:\n"
      ],
      "metadata": {
        "id": "G5Fdn1oxX11b"
      }
    },
    {
      "cell_type": "code",
      "source": [
        "my_list = [1, 2, 3]\n",
        "my_list[0] = 4\n",
        "my_list"
      ],
      "metadata": {
        "colab": {
          "base_uri": "https://localhost:8080/"
        },
        "id": "KQCcb5fPYJgB",
        "outputId": "a05e36d4-eaa4-4e8a-ee67-046125a20fec"
      },
      "execution_count": null,
      "outputs": [
        {
          "output_type": "execute_result",
          "data": {
            "text/plain": [
              "[4, 2, 3]"
            ]
          },
          "metadata": {},
          "execution_count": 6
        }
      ]
    },
    {
      "cell_type": "code",
      "source": [
        "my_tuple = (1, 2, 3)\n",
        "my_tuple[0] = 4"
      ],
      "metadata": {
        "colab": {
          "base_uri": "https://localhost:8080/",
          "height": 158
        },
        "id": "Yh3jYb_4YKso",
        "outputId": "fc4c91c9-daa2-4be3-9aff-f99b471dd27d"
      },
      "execution_count": null,
      "outputs": [
        {
          "output_type": "error",
          "ename": "TypeError",
          "evalue": "'tuple' object does not support item assignment",
          "traceback": [
            "\u001b[0;31m---------------------------------------------------------------------------\u001b[0m",
            "\u001b[0;31mTypeError\u001b[0m                                 Traceback (most recent call last)",
            "\u001b[0;32m/tmp/ipython-input-314531299.py\u001b[0m in \u001b[0;36m<cell line: 0>\u001b[0;34m()\u001b[0m\n\u001b[1;32m      1\u001b[0m \u001b[0mmy_tuple\u001b[0m \u001b[0;34m=\u001b[0m \u001b[0;34m(\u001b[0m\u001b[0;36m1\u001b[0m\u001b[0;34m,\u001b[0m \u001b[0;36m2\u001b[0m\u001b[0;34m,\u001b[0m \u001b[0;36m3\u001b[0m\u001b[0;34m)\u001b[0m\u001b[0;34m\u001b[0m\u001b[0;34m\u001b[0m\u001b[0m\n\u001b[0;32m----> 2\u001b[0;31m \u001b[0mmy_tuple\u001b[0m\u001b[0;34m[\u001b[0m\u001b[0;36m0\u001b[0m\u001b[0;34m]\u001b[0m \u001b[0;34m=\u001b[0m \u001b[0;36m4\u001b[0m\u001b[0;34m\u001b[0m\u001b[0;34m\u001b[0m\u001b[0m\n\u001b[0m",
            "\u001b[0;31mTypeError\u001b[0m: 'tuple' object does not support item assignment"
          ]
        }
      ]
    },
    {
      "cell_type": "markdown",
      "source": [
        "**4. Describe how dictionaries store data.**\n",
        "\n",
        "Dictionaries in Python store data as **key-value pairs**, where each key is unique and maps to a value. They are implemented using a **hash table** internally, which enables fast lookups. Keys must be immutable (e.g., strings, numbers, tuples), while values can be any data type.\n",
        "\n",
        "**How it works**:\n",
        "- A key is hashed using a hash function, producing an index that points to a memory location.\n",
        "- The value associated with the key is stored at that index.\n",
        "- If collisions occur (multiple keys hashing to the same index), Python resolves them (e.g., using open addressing).\n",
        "\n",
        "\n",
        "Dictionaries are ideal for quick lookups by key, like storing user data or configuration settings.\n",
        "\n",
        "**Example**:"
      ],
      "metadata": {
        "id": "tlhzRy73YUpP"
      }
    },
    {
      "cell_type": "code",
      "source": [
        "my_dict = {\"name\": \"Alice\", \"age\": 25}\n",
        "print(my_dict[\"name\"])"
      ],
      "metadata": {
        "colab": {
          "base_uri": "https://localhost:8080/"
        },
        "id": "kkJDEvWhYm8W",
        "outputId": "92193df3-59cb-434b-b452-6c8893774fa8"
      },
      "execution_count": null,
      "outputs": [
        {
          "output_type": "stream",
          "name": "stdout",
          "text": [
            "Alice\n"
          ]
        }
      ]
    },
    {
      "cell_type": "markdown",
      "source": [
        "**5. Why might you use a set instead of a list in Python?**\n",
        "\n",
        "Use a set instead of a list when:\n",
        "- **Uniqueness Matters**: Sets automatically remove duplicates, while lists allow duplicates.\n",
        "  - **Example**: `my_set = {1, 1, 2}` → `{1, 2}`; `my_list = [1, 1, 2]` → `[1, 1, 2]`.\n",
        "- **Fast Membership Testing**: Sets use hash tables, making `in` operations faster (O(1) vs. O(n) for lists).\n",
        "  - **Example**: Checking if `5 in my_set` is faster than `5 in my_list`.\n",
        "- **Set Operations**: Sets support mathematical operations like union, intersection, and difference.\n",
        "  - **Example**: `set1 = {1, 2}; set2 = {2, 3}; set1 & set2` → `{2}`.\n",
        "- **No Order Needed**: Sets are unordered, unlike lists, which maintain order.\n",
        "\n",
        "Use sets for tasks like removing duplicates or performing set operations; use lists for ordered sequences.\n"
      ],
      "metadata": {
        "id": "0CWDtU4BYoau"
      }
    },
    {
      "cell_type": "markdown",
      "source": [
        "**6. What is a string in Python, and how is it different from a list?**\n",
        "\n",
        "- **String**: A sequence of characters (e.g., `\"hello\"`) that is **immutable** and typically represents text. Strings are stored as a single object and support operations like slicing and concatenation.\n",
        "  - **Example**: `my_str = \"hello\"; my_str[0]` → `\"h\"`.\n",
        "\n",
        "- **Differences from a List**:\n",
        "  - **Mutability**: Strings are immutable (`my_str[0] = \"H\"` fails); lists are mutable (`my_list[0] = 4` works).\n",
        "  - **Data Type**: Strings contain only characters; lists can contain any data type (e.g., `[1, \"hello\", 3.14]`).\n",
        "  - **Methods**: Strings have text-specific methods (e.g., `upper()`, `split()`); lists have sequence methods (e.g., `append()`, `pop()`).\n",
        "  - **Use Case**: Strings are for text manipulation; lists are for general-purpose sequences.\n",
        "\n",
        "**Example**:\n"
      ],
      "metadata": {
        "id": "kN5B3YV4YuT2"
      }
    },
    {
      "cell_type": "code",
      "source": [
        "my_str = \"hello\"\n",
        "my_list = [\"h\", \"e\", \"l\", \"l\", \"o\"]"
      ],
      "metadata": {
        "id": "vSx6p3FKY4RB"
      },
      "execution_count": null,
      "outputs": []
    },
    {
      "cell_type": "code",
      "source": [
        "my_list[0] = \"H\"  # Works: [\"H\", \"e\", \"l\", \"l\", \"o\"]\n",
        "my_list"
      ],
      "metadata": {
        "colab": {
          "base_uri": "https://localhost:8080/"
        },
        "id": "5ud9h7jnY9B5",
        "outputId": "59246770-1100-4c6b-a94a-88418f721fac"
      },
      "execution_count": null,
      "outputs": [
        {
          "output_type": "execute_result",
          "data": {
            "text/plain": [
              "['H', 'e', 'l', 'l', 'o']"
            ]
          },
          "metadata": {},
          "execution_count": 11
        }
      ]
    },
    {
      "cell_type": "code",
      "source": [
        "my_str[0] = \"H\"   # Error: strings are immutable"
      ],
      "metadata": {
        "colab": {
          "base_uri": "https://localhost:8080/",
          "height": 141
        },
        "id": "7Q90DujKZAud",
        "outputId": "6e489918-ec18-44c8-d9ae-8a0521945208"
      },
      "execution_count": null,
      "outputs": [
        {
          "output_type": "error",
          "ename": "TypeError",
          "evalue": "'str' object does not support item assignment",
          "traceback": [
            "\u001b[0;31m---------------------------------------------------------------------------\u001b[0m",
            "\u001b[0;31mTypeError\u001b[0m                                 Traceback (most recent call last)",
            "\u001b[0;32m/tmp/ipython-input-3742055969.py\u001b[0m in \u001b[0;36m<cell line: 0>\u001b[0;34m()\u001b[0m\n\u001b[0;32m----> 1\u001b[0;31m \u001b[0mmy_str\u001b[0m\u001b[0;34m[\u001b[0m\u001b[0;36m0\u001b[0m\u001b[0;34m]\u001b[0m \u001b[0;34m=\u001b[0m \u001b[0;34m\"H\"\u001b[0m   \u001b[0;31m# Error: strings are immutable\u001b[0m\u001b[0;34m\u001b[0m\u001b[0;34m\u001b[0m\u001b[0m\n\u001b[0m",
            "\u001b[0;31mTypeError\u001b[0m: 'str' object does not support item assignment"
          ]
        }
      ]
    },
    {
      "cell_type": "markdown",
      "source": [
        "**8. What is a hash table, and how does it relate to dictionaries in Python?**\n",
        "\n",
        "A **hash table** is a data structure that stores key-value pairs, allowing fast retrieval by using a hash function to map keys to indices in an array.\n",
        "\n",
        "- **How it Works**:\n",
        "  - A key is passed through a hash function, producing a hash code (an integer).\n",
        "  - The hash code determines the index where the value is stored.\n",
        "  - Collisions (when different keys map to the same index) are resolved using techniques like open addressing or chaining.\n",
        "\n",
        "- **Relation to Dictionaries**: Python dictionaries are implemented as hash tables. The keys are hashed to store and retrieve values efficiently, making operations like lookup, insertion, and deletion average O(1) time complexity.\n",
        "\n",
        "Dictionaries leverage hash tables for quick key-based access.\n",
        "\n",
        "**Example**"
      ],
      "metadata": {
        "id": "UQDJGc7cZCR-"
      }
    },
    {
      "cell_type": "code",
      "source": [
        "my_dict = {\"a\": 1, \"b\": 2}\n",
        "print(my_dict[\"a\"])"
      ],
      "metadata": {
        "colab": {
          "base_uri": "https://localhost:8080/"
        },
        "id": "HgdwgK_QZYxD",
        "outputId": "27145b8e-ff8d-4fa0-c1fb-7d8bff8f6350"
      },
      "execution_count": null,
      "outputs": [
        {
          "output_type": "stream",
          "name": "stdout",
          "text": [
            "1\n"
          ]
        }
      ]
    },
    {
      "cell_type": "markdown",
      "source": [
        "**9. Can lists contain different data types in Python?**\n",
        "\n",
        "Yes, lists in Python can contain different data types. Lists are heterogeneous, meaning their elements can be of any type (integers, strings, floats, other lists, etc.).\n",
        "\n",
        "**Example**:\n",
        "\n"
      ],
      "metadata": {
        "id": "GsMKIxPVZgND"
      }
    },
    {
      "cell_type": "code",
      "source": [
        "# This flexibility makes lists versatile for storing mixed data, unlike arrays in some other languages that require uniform types.\n",
        "\n",
        "my_list = [1, \"hello\", 3.14, [2, 3], {\"key\": \"value\"}]\n",
        "print(my_list)"
      ],
      "metadata": {
        "colab": {
          "base_uri": "https://localhost:8080/"
        },
        "id": "3drJmBkzZpo2",
        "outputId": "f56d8d07-bed7-47be-d515-e084eb638d5f"
      },
      "execution_count": null,
      "outputs": [
        {
          "output_type": "stream",
          "name": "stdout",
          "text": [
            "[1, 'hello', 3.14, [2, 3], {'key': 'value'}]\n"
          ]
        }
      ]
    },
    {
      "cell_type": "markdown",
      "source": [
        "\n",
        "\n",
        "**10. Explain why strings are immutable in Python.**\n",
        "\n",
        "Strings are immutable in Python to ensure:\n",
        "- **Hashability**: Immutable strings can be used as dictionary keys or set elements, as their hash value remains constant.\n",
        "  - **Example**: `my_dict = {\"key\": 1}` works because `\"key\"` is immutable.\n",
        "- **Memory Efficiency**: Immutability allows Python to reuse string objects (string interning), saving memory for identical strings.\n",
        "- **Thread Safety**: Immutable strings are safe in multithreaded environments, as they cannot be modified concurrently.\n",
        "- **Data Integrity**: Immutability prevents accidental changes to strings, which are often used for constants or identifiers.\n",
        "\n",
        "**Example**:\n"
      ],
      "metadata": {
        "id": "gb6J7hFuZ1eb"
      }
    },
    {
      "cell_type": "code",
      "source": [
        "my_str = \"hello\"\n",
        "my_str[0] = \"H\"  # Error: strings cannot be modified"
      ],
      "metadata": {
        "colab": {
          "base_uri": "https://localhost:8080/",
          "height": 158
        },
        "id": "PdPBV_Y8cAvQ",
        "outputId": "7672eb8e-c97d-405a-da6f-0aa997da5d44"
      },
      "execution_count": null,
      "outputs": [
        {
          "output_type": "error",
          "ename": "TypeError",
          "evalue": "'str' object does not support item assignment",
          "traceback": [
            "\u001b[0;31m---------------------------------------------------------------------------\u001b[0m",
            "\u001b[0;31mTypeError\u001b[0m                                 Traceback (most recent call last)",
            "\u001b[0;32m/tmp/ipython-input-4067150485.py\u001b[0m in \u001b[0;36m<cell line: 0>\u001b[0;34m()\u001b[0m\n\u001b[1;32m      1\u001b[0m \u001b[0mmy_str\u001b[0m \u001b[0;34m=\u001b[0m \u001b[0;34m\"hello\"\u001b[0m\u001b[0;34m\u001b[0m\u001b[0;34m\u001b[0m\u001b[0m\n\u001b[0;32m----> 2\u001b[0;31m \u001b[0mmy_str\u001b[0m\u001b[0;34m[\u001b[0m\u001b[0;36m0\u001b[0m\u001b[0;34m]\u001b[0m \u001b[0;34m=\u001b[0m \u001b[0;34m\"H\"\u001b[0m  \u001b[0;31m# Error: strings cannot be modified\u001b[0m\u001b[0;34m\u001b[0m\u001b[0;34m\u001b[0m\u001b[0m\n\u001b[0m",
            "\u001b[0;31mTypeError\u001b[0m: 'str' object does not support item assignment"
          ]
        }
      ]
    },
    {
      "cell_type": "code",
      "source": [
        "print(my_str)\n",
        "my_str = \"Hello\"  # Creates a new string object\n",
        "print(my_str)"
      ],
      "metadata": {
        "colab": {
          "base_uri": "https://localhost:8080/"
        },
        "id": "XLs4GRWfcEWL",
        "outputId": "5ffcd32e-a956-40df-d02f-45d2b8607abd"
      },
      "execution_count": null,
      "outputs": [
        {
          "output_type": "stream",
          "name": "stdout",
          "text": [
            "hello\n",
            "Hello\n"
          ]
        }
      ]
    },
    {
      "cell_type": "markdown",
      "source": [
        "**11. What advantages do dictionaries offer over lists for certain tasks?**\n",
        "\n",
        "Dictionaries offer advantages over lists for tasks involving:\n",
        "- **Fast Lookups**: Dictionaries use hash tables for O(1) average-case lookup by key, while lists require O(n) for searching.\n",
        "  - **Example**: `my_dict[\"key\"]` is faster than searching `my_list` for a value.\n",
        "- **Key-Value Association**: Dictionaries store data as key-value pairs, ideal for mapping relationships (e.g., user IDs to names).\n",
        "  - **Example**: `users = {\"id1\": \"Alice\", \"id2\": \"Bob\"}`.\n",
        "- **No Duplicates**: Dictionary keys are unique, preventing duplicate entries, unlike lists.\n",
        "- **Flexible Access**: Access values directly by meaningful keys, not indices.\n",
        "\n",
        "**Example**:"
      ],
      "metadata": {
        "id": "qaNQ31OlcFi8"
      }
    },
    {
      "cell_type": "code",
      "source": [
        "# Dictionary: fast lookup\n",
        "my_dict = {\"name\": \"Alice\", \"age\": 25}\n",
        "print(\"my_dict['name']: \",my_dict[\"name\"])"
      ],
      "metadata": {
        "colab": {
          "base_uri": "https://localhost:8080/"
        },
        "id": "Rtey8LYxchf2",
        "outputId": "77831b10-9fb5-418a-d7ea-83d9ee9922db"
      },
      "execution_count": null,
      "outputs": [
        {
          "output_type": "stream",
          "name": "stdout",
          "text": [
            "my_dict['name']:  Alice\n"
          ]
        }
      ]
    },
    {
      "cell_type": "markdown",
      "source": [
        "**12. Describe a scenario where using a tuple would be preferable over a list.**\n",
        "\n",
        "**Scenario**: Storing fixed coordinates for a geometric point in a graphics application.\n",
        "\n",
        "- **Why Tuple**:\n",
        "  - **Immutability**: Ensures the coordinates (x, y) cannot be accidentally modified, preserving the point’s integrity.\n",
        "  - **Hashability**: Allows the tuple to be used as a dictionary key (e.g., to map points to colors).\n",
        "  - **Performance**: Tuples are slightly faster and use less memory than lists.\n",
        "\n",
        "Tuples are preferable for fixed, immutable data like coordinates.\n",
        "\n"
      ],
      "metadata": {
        "id": "3pBkEKp7crSM"
      }
    },
    {
      "cell_type": "code",
      "source": [
        "# Tuple for fixed coordinates\n",
        "point = (10, 20)\n",
        "color_map = {point: \"red\"}  # Works: tuples are hashable\n",
        "print(color_map[point])  # Output: red\n"
      ],
      "metadata": {
        "colab": {
          "base_uri": "https://localhost:8080/"
        },
        "id": "6k_AKoFXiTIW",
        "outputId": "ae825c85-6ac2-479c-9510-bc1a517edf98"
      },
      "execution_count": null,
      "outputs": [
        {
          "output_type": "stream",
          "name": "stdout",
          "text": [
            "red\n"
          ]
        }
      ]
    },
    {
      "cell_type": "code",
      "source": [
        "# List would fail as a dict key\n",
        "point_list = [10, 20]\n",
        "color_map = {point_list: \"red\"}  # Error: lists are unhashable"
      ],
      "metadata": {
        "colab": {
          "base_uri": "https://localhost:8080/",
          "height": 176
        },
        "id": "K2OgdIXJiVpP",
        "outputId": "6085102f-d1d0-4deb-f462-fc7d7bfe9f54"
      },
      "execution_count": null,
      "outputs": [
        {
          "output_type": "error",
          "ename": "TypeError",
          "evalue": "unhashable type: 'list'",
          "traceback": [
            "\u001b[0;31m---------------------------------------------------------------------------\u001b[0m",
            "\u001b[0;31mTypeError\u001b[0m                                 Traceback (most recent call last)",
            "\u001b[0;32m/tmp/ipython-input-3534355961.py\u001b[0m in \u001b[0;36m<cell line: 0>\u001b[0;34m()\u001b[0m\n\u001b[1;32m      1\u001b[0m \u001b[0;31m# List would fail as a dict key\u001b[0m\u001b[0;34m\u001b[0m\u001b[0;34m\u001b[0m\u001b[0m\n\u001b[1;32m      2\u001b[0m \u001b[0mpoint_list\u001b[0m \u001b[0;34m=\u001b[0m \u001b[0;34m[\u001b[0m\u001b[0;36m10\u001b[0m\u001b[0;34m,\u001b[0m \u001b[0;36m20\u001b[0m\u001b[0;34m]\u001b[0m\u001b[0;34m\u001b[0m\u001b[0;34m\u001b[0m\u001b[0m\n\u001b[0;32m----> 3\u001b[0;31m \u001b[0mcolor_map\u001b[0m \u001b[0;34m=\u001b[0m \u001b[0;34m{\u001b[0m\u001b[0mpoint_list\u001b[0m\u001b[0;34m:\u001b[0m \u001b[0;34m\"red\"\u001b[0m\u001b[0;34m}\u001b[0m  \u001b[0;31m# Error: lists are unhashable\u001b[0m\u001b[0;34m\u001b[0m\u001b[0;34m\u001b[0m\u001b[0m\n\u001b[0m",
            "\u001b[0;31mTypeError\u001b[0m: unhashable type: 'list'"
          ]
        }
      ]
    },
    {
      "cell_type": "markdown",
      "source": [
        "**13. How do sets handle duplicate values in Python?**\n",
        "\n",
        "Sets in Python automatically eliminate duplicate values because they store only unique elements, using a hash table internally.\n",
        "\n",
        "- **How it Works**:\n",
        "  - When an element is added to a set, its hash is computed and checked against existing elements.\n",
        "  - If the element already exists (same hash and value), it is not added again.\n",
        "  - This ensures no duplicates are stored.\n",
        "\n",
        "**Example**:\n",
        "\n"
      ],
      "metadata": {
        "id": "eQBaYQz3iXpy"
      }
    },
    {
      "cell_type": "code",
      "source": [
        "my_set = {1, 2, 2, 3}\n",
        "print(my_set)  # Output: {1, 2, 3}\n",
        "my_set.add(2)  # No effect: 2 is already present\n",
        "print(my_set)  # Output: {1, 2, 3}"
      ],
      "metadata": {
        "colab": {
          "base_uri": "https://localhost:8080/"
        },
        "id": "7ObPmhKJKl-N",
        "outputId": "8b9f0a10-2805-4ea1-e30f-7fd295f98cbf"
      },
      "execution_count": null,
      "outputs": [
        {
          "output_type": "stream",
          "name": "stdout",
          "text": [
            "{1, 2, 3}\n",
            "{1, 2, 3}\n"
          ]
        }
      ]
    },
    {
      "cell_type": "markdown",
      "source": [
        "**14. How does the “in” keyword work differently for lists and dictionaries?**\n",
        "\n",
        "- **Lists**: The `in` keyword checks if an element exists in the list by scanning each item sequentially, resulting in O(n) time complexity.\n",
        "  - **Example**:\n",
        "    ```python\n",
        "    my_list = [1, 2, 3]\n",
        "    print(2 in my_list)  # Output: True (searches each element)\n",
        "    ```\n",
        "\n",
        "- **Dictionaries**: The `in` keyword checks if a key exists in the dictionary using the hash table, resulting in O(1) average-case time complexity.\n",
        "  - **Example**:\n",
        "    ```python\n",
        "    my_dict = {\"a\": 1, \"b\": 2}\n",
        "    print(\"a\" in my_dict)  # Output: True (checks keys only)\n",
        "    print(1 in my_dict)    # Output: False (does not check values)\n",
        "    ```\n",
        "\n",
        "**Key Difference**: `in` for lists searches all elements; `in` for dictionaries checks only keys, and it’s faster due to hashing.\n"
      ],
      "metadata": {
        "id": "PdAWTx5NKm4z"
      }
    },
    {
      "cell_type": "markdown",
      "source": [
        "**15. Can you modify the elements of a tuple? Explain why or why not.**\n",
        "\n",
        "No, you cannot modify the elements of a tuple because tuples are **immutable**.\n",
        "\n",
        "- **Why**:\n",
        "  - Tuples are designed to be fixed after creation to ensure data integrity and hashability.\n",
        "  - Modifying a tuple would change its hash value, breaking its use in hash-based structures like dictionaries or sets.\n",
        "  - Any attempt to modify a tuple (e.g., `my_tuple[0] = 1`) raises a `TypeError`.\n",
        "\n",
        "**Example**:\n"
      ],
      "metadata": {
        "id": "2C4LrYZ4Nc-x"
      }
    },
    {
      "cell_type": "code",
      "source": [
        "my_tuple = (1, 2, 3)\n",
        "my_tuple[0] = 4  # Error: 'tuple' object does not support item assignment\n"
      ],
      "metadata": {
        "colab": {
          "base_uri": "https://localhost:8080/",
          "height": 158
        },
        "id": "nTHMcHEHe81Y",
        "outputId": "2550d2c2-26b0-4bbe-e145-59beefb3ec3f"
      },
      "execution_count": null,
      "outputs": [
        {
          "output_type": "error",
          "ename": "TypeError",
          "evalue": "'tuple' object does not support item assignment",
          "traceback": [
            "\u001b[0;31m---------------------------------------------------------------------------\u001b[0m",
            "\u001b[0;31mTypeError\u001b[0m                                 Traceback (most recent call last)",
            "\u001b[0;32m/tmp/ipython-input-4001400846.py\u001b[0m in \u001b[0;36m<cell line: 0>\u001b[0;34m()\u001b[0m\n\u001b[1;32m      1\u001b[0m \u001b[0mmy_tuple\u001b[0m \u001b[0;34m=\u001b[0m \u001b[0;34m(\u001b[0m\u001b[0;36m1\u001b[0m\u001b[0;34m,\u001b[0m \u001b[0;36m2\u001b[0m\u001b[0;34m,\u001b[0m \u001b[0;36m3\u001b[0m\u001b[0;34m)\u001b[0m\u001b[0;34m\u001b[0m\u001b[0;34m\u001b[0m\u001b[0m\n\u001b[0;32m----> 2\u001b[0;31m \u001b[0mmy_tuple\u001b[0m\u001b[0;34m[\u001b[0m\u001b[0;36m0\u001b[0m\u001b[0;34m]\u001b[0m \u001b[0;34m=\u001b[0m \u001b[0;36m4\u001b[0m  \u001b[0;31m# Error: 'tuple' object does not support item assignment\u001b[0m\u001b[0;34m\u001b[0m\u001b[0;34m\u001b[0m\u001b[0m\n\u001b[0m",
            "\u001b[0;31mTypeError\u001b[0m: 'tuple' object does not support item assignment"
          ]
        }
      ]
    },
    {
      "cell_type": "code",
      "source": [
        "\n",
        "# However, if a tuple contains mutable objects (e.g., a list), those objects can be modified:\n",
        "#The tuple’s structure remains unchanged, but mutable elements within it can be altered.\n",
        "my_tuple = (1, [2, 3])\n",
        "my_tuple[1][0] = 4  # Works: modifies the list inside the tuple\n",
        "print(my_tuple)     # Output: (1, [4, 3])"
      ],
      "metadata": {
        "colab": {
          "base_uri": "https://localhost:8080/"
        },
        "id": "Jpx9y1YwfGmY",
        "outputId": "41d17836-29e1-41fe-a637-5dc9fef58d5d"
      },
      "execution_count": null,
      "outputs": [
        {
          "output_type": "stream",
          "name": "stdout",
          "text": [
            "(1, [4, 3])\n"
          ]
        }
      ]
    },
    {
      "cell_type": "code",
      "source": [
        "# We can also change its length\n",
        "my_tuple[1].append(4);\n",
        "print(my_tuple)"
      ],
      "metadata": {
        "colab": {
          "base_uri": "https://localhost:8080/"
        },
        "id": "HNLCna7sfKIo",
        "outputId": "01dcbd24-b2f9-4d6d-f28d-44826d8e7099"
      },
      "execution_count": null,
      "outputs": [
        {
          "output_type": "stream",
          "name": "stdout",
          "text": [
            "(1, [4, 3, 4])\n"
          ]
        }
      ]
    },
    {
      "cell_type": "markdown",
      "source": [
        "**16. What is a nested dictionary, and give an example of its use case?**\n",
        "\n",
        "A **nested dictionary** is a dictionary that contains other dictionaries as values, allowing hierarchical data storage.\n",
        "\n",
        "- **Use Case**: Storing student records with multiple attributes, such as grades for different subjects across semesters.\n",
        "  - **Example**:\n",
        "    "
      ],
      "metadata": {
        "id": "WQnlPzwrfQyA"
      }
    },
    {
      "cell_type": "code",
      "source": [
        "\n",
        "students = {\n",
        "        \"Alice\": {\"math\": 95, \"science\": 88, \"semester\": 1},\n",
        "        \"Bob\": {\"math\": 78, \"science\": 92, \"semester\": 2}\n",
        "}\n",
        "print(students[\"Alice\"][\"math\"])  # Output: 95\n"
      ],
      "metadata": {
        "colab": {
          "base_uri": "https://localhost:8080/"
        },
        "id": "tK1O8hSkfwXn",
        "outputId": "60eb4245-574f-4556-f917-9ef5d38c9e95"
      },
      "execution_count": null,
      "outputs": [
        {
          "output_type": "stream",
          "name": "stdout",
          "text": [
            "95\n"
          ]
        }
      ]
    },
    {
      "cell_type": "markdown",
      "source": [
        "- **Benefits**:\n",
        "  - Organizes complex data hierarchically.\n",
        "  - Allows easy access to nested values using multiple keys.\n",
        "  - Useful for representing structured data, like JSON-like objects or database records."
      ],
      "metadata": {
        "id": "2691BO93f2S0"
      }
    },
    {
      "cell_type": "markdown",
      "source": [
        "\n",
        "**17. Describe the time complexity of accessing elements in a dictionary.**\n",
        "\n",
        "Accessing elements in a Python dictionary (via key) has an **average-case time complexity of O(1)**.\n",
        "\n",
        "- **Why**:\n",
        "  - Dictionaries use a hash table. The key is hashed to compute an index, and the value is retrieved directly from that index.\n",
        "  - In the average case, hashing and lookup are constant-time operations.\n",
        "- **Worst Case**: O(n) if there are many hash collisions (rare with Python’s hash table implementation, which uses open addressing to resolve collisions efficiently).\n",
        "\n",
        "**Example**:\n"
      ],
      "metadata": {
        "id": "vFRfZprYf5ht"
      }
    },
    {
      "cell_type": "code",
      "source": [
        "# This makes dictionaries ideal for tasks requiring frequent key-based access.\n",
        "my_dict = {\"a\": 1, \"b\": 2}\n",
        "print(my_dict[\"a\"])  # O(1) lookup\n",
        "\n",
        "\n"
      ],
      "metadata": {
        "colab": {
          "base_uri": "https://localhost:8080/"
        },
        "id": "Xo7RaqeygDZ2",
        "outputId": "bb861887-bfb3-418d-d8de-8d7d7e736079"
      },
      "execution_count": null,
      "outputs": [
        {
          "output_type": "stream",
          "name": "stdout",
          "text": [
            "1\n"
          ]
        }
      ]
    },
    {
      "cell_type": "markdown",
      "source": [
        "**18. In what situations are lists preferred over dictionaries?**\n",
        "\n",
        "Lists are preferred over dictionaries when:\n",
        "- **Order Matters**: Lists maintain insertion order (since Python 3.7), while dictionaries are conceptually unordered (though they preserve order since 3.7).\n",
        "  - **Example**: Storing a sequence of events: `events = [\"start\", \"pause\", \"end\"]`.\n",
        "- **Simple Sequences**: Lists are better for storing homogeneous or ordered data without key-value relationships.\n",
        "  - **Example**: `[1, 2, 3]` for a sequence of numbers.\n",
        "- **Indexing by Position**: Lists allow access by integer index, which is simpler for sequential data.\n",
        "  - **Example**: `my_list[0]` vs. needing a key in a dictionary.\n",
        "- **Duplicates Allowed**: Lists allow duplicate elements, unlike dictionary keys.\n",
        "  - **Example**: `[1, 1, 2]` vs. `{\"a\": 1, \"a\": 2}` (duplicate key overwrites).\n",
        "- **Iterating Sequentially**: Lists are ideal for iterating over items in order.\n",
        "  - **Example**: `for item in my_list:` is straightforward.\n",
        "\n",
        "Use lists for ordered, index-based, or duplicate-friendly data; use dictionaries for key-value mappings.\n"
      ],
      "metadata": {
        "id": "hUB7tIlXgIOS"
      }
    },
    {
      "cell_type": "markdown",
      "source": [
        "**19. Why are dictionaries considered unordered, and how does that affect data retrieval?**\n",
        "\n",
        "- **Why Unordered**: Historically, Python dictionaries (before 3.7) did not guarantee insertion order due to their hash table implementation, where keys are mapped to indices based on hash values, not insertion sequence. While Python 3.7+ preserves insertion order, dictionaries are still considered unordered in a conceptual sense because their primary purpose is key-based access, not sequential access.\n",
        "\n",
        "- **Impact on Data Retrieval**:\n",
        "  - Retrieval is **key-based**, not index-based, so order doesn’t affect accessing values: `my_dict[\"key\"]` is O(1) regardless of order.\n",
        "  - Iteration order (e.g., `for key in my_dict`) matches insertion order (since 3.7), but you shouldn’t rely on order for logic, as it’s not the primary feature.\n",
        "  - If order is critical, lists or tuples are better for sequential access.\n",
        "\n",
        "**Example**:\n"
      ],
      "metadata": {
        "id": "woc2f6wXgXuI"
      }
    },
    {
      "cell_type": "code",
      "source": [
        "my_dict = {\"b\": 2, \"a\": 1}\n",
        "print(list(my_dict.keys()))  # Output: [\"b\", \"a\"] (insertion order preserved)\n",
        "print(my_dict[\"a\"])          # Output: 1 (order doesn’t affect retrieval)"
      ],
      "metadata": {
        "colab": {
          "base_uri": "https://localhost:8080/"
        },
        "id": "Qdd-DcI-ggGM",
        "outputId": "000fe50f-e23d-45ef-94ca-12d760833870"
      },
      "execution_count": null,
      "outputs": [
        {
          "output_type": "stream",
          "name": "stdout",
          "text": [
            "['b', 'a']\n",
            "1\n"
          ]
        }
      ]
    },
    {
      "cell_type": "markdown",
      "source": [
        "**20. Explain the difference between a list and a dictionary in terms of data retrieval.**\n",
        "\n",
        "- **List Data Retrieval**:\n",
        "  - **Method**: Access elements by integer index (0-based).\n",
        "  - **Time Complexity**: O(1) for direct index access (e.g., `my_list[0]`), but O(n) for searching an element (e.g., `value in my_list`).\n",
        "  - **Use Case**: Suitable for ordered data where position matters.\n",
        "  - **Example**:\n",
        "    ```python\n",
        "    my_list = [\"apple\", \"banana\", \"orange\"]\n",
        "    print(my_list[1])  # Output: banana (index-based)\n",
        "    print(\"banana\" in my_list)  # Output: True (searches entire list)\n",
        "    ```\n",
        "\n",
        "- **Dictionary Data Retrieval**:\n",
        "  - **Method**: Access values by key (not index).\n",
        "  - **Time Complexity**: O(1) average case for key lookup (e.g., `my_dict[\"key\"]`) due to hash table implementation.\n",
        "  - **Use Case**: Suitable for key-value mappings where keys are meaningful.\n",
        "  - **Example**:\n",
        "    ```python\n",
        "    my_dict = {\"fruit1\": \"apple\", \"fruit2\": \"banana\"}\n",
        "    print(my_dict[\"fruit2\"])  # Output: banana (key-based)\n",
        "    print(\"fruit2\" in my_dict)  # Output: True (fast key check)\n",
        "    ```\n",
        "\n",
        "- **Key Differences**:\n",
        "  - Lists use indices (sequential access); dictionaries use keys (direct access).\n",
        "  - Dictionary lookups are faster for key-based retrieval; list searches are slower unless accessing by index.\n",
        "  - Lists are ordered and allow duplicates; dictionaries use unique keys and focus on mappings.\n",
        "\n",
        "---\n"
      ],
      "metadata": {
        "id": "XZLc_VBzggxZ"
      }
    },
    {
      "cell_type": "markdown",
      "source": [
        "# Practical Questions"
      ],
      "metadata": {
        "id": "LKF4_EYMi3mT"
      }
    },
    {
      "cell_type": "markdown",
      "source": [
        "## 1. Write a code to create a string with your name and print it"
      ],
      "metadata": {
        "id": "sJQqf3A2i6Ka"
      }
    },
    {
      "cell_type": "code",
      "source": [
        "name=\"Mohammed Jumaan\"\n",
        "print(name)"
      ],
      "metadata": {
        "colab": {
          "base_uri": "https://localhost:8080/"
        },
        "id": "dDrFtEGei-VO",
        "outputId": "f94bca43-7ceb-453b-9b8f-39527731eb2e"
      },
      "execution_count": null,
      "outputs": [
        {
          "output_type": "stream",
          "name": "stdout",
          "text": [
            "Mohammed Jumaan\n"
          ]
        }
      ]
    },
    {
      "cell_type": "markdown",
      "source": [
        "## 2. Write a code to find the length of the string \"Hello World\"."
      ],
      "metadata": {
        "id": "aBa3UrOojDbp"
      }
    },
    {
      "cell_type": "code",
      "source": [
        "len(\"Hello World\")"
      ],
      "metadata": {
        "colab": {
          "base_uri": "https://localhost:8080/"
        },
        "id": "oB7ByvISjLit",
        "outputId": "ab56546e-5667-49ec-f913-d68f4797d409"
      },
      "execution_count": null,
      "outputs": [
        {
          "output_type": "execute_result",
          "data": {
            "text/plain": [
              "11"
            ]
          },
          "metadata": {},
          "execution_count": 32
        }
      ]
    },
    {
      "cell_type": "markdown",
      "source": [
        "## 3. Write a code to slice the first 3 characters from the string \"Python Programming\""
      ],
      "metadata": {
        "id": "mWDI0gDijS9t"
      }
    },
    {
      "cell_type": "code",
      "source": [
        "string=\"Python Programming\"\n",
        "print(string[:3])"
      ],
      "metadata": {
        "colab": {
          "base_uri": "https://localhost:8080/"
        },
        "id": "IxKKq2kpjZ-U",
        "outputId": "90caa0af-e057-41ec-c95b-551535eb1815"
      },
      "execution_count": null,
      "outputs": [
        {
          "output_type": "stream",
          "name": "stdout",
          "text": [
            "Pyt\n"
          ]
        }
      ]
    },
    {
      "cell_type": "markdown",
      "source": [
        "## 4. Write a code to convert the string \"hello\" to uppercase"
      ],
      "metadata": {
        "id": "xDDAYLuJjj6V"
      }
    },
    {
      "cell_type": "code",
      "source": [
        "\"hello\".upper()"
      ],
      "metadata": {
        "colab": {
          "base_uri": "https://localhost:8080/",
          "height": 36
        },
        "id": "3xEA0zTmjsuz",
        "outputId": "72667905-0b05-436f-caa2-52bad39cf4ca"
      },
      "execution_count": null,
      "outputs": [
        {
          "output_type": "execute_result",
          "data": {
            "text/plain": [
              "'HELLO'"
            ],
            "application/vnd.google.colaboratory.intrinsic+json": {
              "type": "string"
            }
          },
          "metadata": {},
          "execution_count": 35
        }
      ]
    },
    {
      "cell_type": "markdown",
      "source": [
        "## 5. Write a code to replace the word \"apple\" with \"orange\" in the string \"I like apple\""
      ],
      "metadata": {
        "id": "3BfalUs8jwJi"
      }
    },
    {
      "cell_type": "code",
      "source": [
        "# Method 1\n",
        "string=\"I like apple\"\n",
        "string.replace(\"apple\",\"orange\")"
      ],
      "metadata": {
        "colab": {
          "base_uri": "https://localhost:8080/",
          "height": 36
        },
        "id": "tIwQCRwBj14W",
        "outputId": "090eef96-93ce-4e0b-ca40-cc3ff23c170b"
      },
      "execution_count": null,
      "outputs": [
        {
          "output_type": "execute_result",
          "data": {
            "text/plain": [
              "'I like orange'"
            ],
            "application/vnd.google.colaboratory.intrinsic+json": {
              "type": "string"
            }
          },
          "metadata": {},
          "execution_count": 37
        }
      ]
    },
    {
      "cell_type": "code",
      "source": [
        "# Method 2\n",
        "string=\"I like {}\"\n",
        "string.format(\"apple\")\n"
      ],
      "metadata": {
        "colab": {
          "base_uri": "https://localhost:8080/",
          "height": 36
        },
        "id": "DeXD9wq2j966",
        "outputId": "9e799b75-d959-4b15-a8fe-fd9fb5096bfc"
      },
      "execution_count": null,
      "outputs": [
        {
          "output_type": "execute_result",
          "data": {
            "text/plain": [
              "'I like apple'"
            ],
            "application/vnd.google.colaboratory.intrinsic+json": {
              "type": "string"
            }
          },
          "metadata": {},
          "execution_count": 42
        }
      ]
    },
    {
      "cell_type": "code",
      "source": [
        "string.format(\"orange\")"
      ],
      "metadata": {
        "colab": {
          "base_uri": "https://localhost:8080/",
          "height": 36
        },
        "id": "StXzk9UtkCNs",
        "outputId": "d46ca69c-8ef7-4dff-de4d-46819a951e3d"
      },
      "execution_count": null,
      "outputs": [
        {
          "output_type": "execute_result",
          "data": {
            "text/plain": [
              "'I like orange'"
            ],
            "application/vnd.google.colaboratory.intrinsic+json": {
              "type": "string"
            }
          },
          "metadata": {},
          "execution_count": 43
        }
      ]
    },
    {
      "cell_type": "markdown",
      "source": [
        "## 6. Write a code to create a list with numbers 1 to 5 and print it"
      ],
      "metadata": {
        "id": "7bW20UNAkQgP"
      }
    },
    {
      "cell_type": "code",
      "source": [
        "li=[1,2,3,4,5]\n",
        "for i in li:\n",
        "  print(i)"
      ],
      "metadata": {
        "colab": {
          "base_uri": "https://localhost:8080/"
        },
        "id": "ZGpowKQEkilz",
        "outputId": "ed5f24e9-7b98-4329-c1d1-2a8468c09fb7"
      },
      "execution_count": null,
      "outputs": [
        {
          "output_type": "stream",
          "name": "stdout",
          "text": [
            "1\n",
            "2\n",
            "3\n",
            "4\n",
            "5\n"
          ]
        }
      ]
    },
    {
      "cell_type": "markdown",
      "source": [
        "## 7. Write a code to append the number 10 to the list [1, 2, 3, 4]?"
      ],
      "metadata": {
        "id": "oIqqsEhHksR9"
      }
    },
    {
      "cell_type": "code",
      "source": [
        "list=[1,2,3,4]\n",
        "list.append(10)\n",
        "print(list)"
      ],
      "metadata": {
        "colab": {
          "base_uri": "https://localhost:8080/"
        },
        "id": "x2jevL7LkzWG",
        "outputId": "61397893-bbac-43a0-f29e-5080d0469df9"
      },
      "execution_count": null,
      "outputs": [
        {
          "output_type": "stream",
          "name": "stdout",
          "text": [
            "[1, 2, 3, 4, 10]\n"
          ]
        }
      ]
    },
    {
      "cell_type": "markdown",
      "source": [
        "## 8. Write a code to remove the number 3 from the list [1, 2, 3, 4, 5]"
      ],
      "metadata": {
        "id": "jZLvEV_uk4KX"
      }
    },
    {
      "cell_type": "code",
      "source": [
        "list =[1,2,3,4,5]\n",
        "list.remove(3)\n",
        "list"
      ],
      "metadata": {
        "colab": {
          "base_uri": "https://localhost:8080/"
        },
        "id": "61JUzo8IqqWD",
        "outputId": "28da14d1-5a5a-4768-c3da-3122b639da75"
      },
      "execution_count": null,
      "outputs": [
        {
          "output_type": "execute_result",
          "data": {
            "text/plain": [
              "[1, 2, 4, 5]"
            ]
          },
          "metadata": {},
          "execution_count": 47
        }
      ]
    },
    {
      "cell_type": "markdown",
      "source": [
        "## 9. Write a code to access the second element in the list ['a', 'b', 'c', 'd']"
      ],
      "metadata": {
        "id": "w8V2UU7irUUQ"
      }
    },
    {
      "cell_type": "code",
      "source": [
        "list=['a', 'b', 'c', 'd']"
      ],
      "metadata": {
        "id": "mRdGZ6VkyC0U"
      },
      "execution_count": null,
      "outputs": []
    },
    {
      "cell_type": "code",
      "source": [
        "list[1]"
      ],
      "metadata": {
        "colab": {
          "base_uri": "https://localhost:8080/",
          "height": 36
        },
        "id": "3Y5cdtWvzf70",
        "outputId": "99e9d713-c98a-437b-9ed7-223fd7c1ce01"
      },
      "execution_count": null,
      "outputs": [
        {
          "output_type": "execute_result",
          "data": {
            "text/plain": [
              "'b'"
            ],
            "application/vnd.google.colaboratory.intrinsic+json": {
              "type": "string"
            }
          },
          "metadata": {},
          "execution_count": 51
        }
      ]
    },
    {
      "cell_type": "markdown",
      "source": [
        "## 10. Write a code to reverse the list [10, 20, 30, 40, 50]."
      ],
      "metadata": {
        "id": "gZ1AhVBzzhXv"
      }
    },
    {
      "cell_type": "code",
      "source": [
        "li= [10, 20, 30, 40, 50]"
      ],
      "metadata": {
        "id": "CQrHBelFzoa5"
      },
      "execution_count": null,
      "outputs": []
    },
    {
      "cell_type": "code",
      "source": [
        "# Method 1\n",
        "for i in range(0,int(len(li)/2)):\n",
        "  temp=li[i]\n",
        "  li[i]=li[len(li)-i-1]\n",
        "  li[len(li)-i-1]=temp\n",
        "print(li)"
      ],
      "metadata": {
        "colab": {
          "base_uri": "https://localhost:8080/"
        },
        "id": "iBs4PPO0zq_s",
        "outputId": "52cbc780-824a-49bf-d6a9-2a988f5c5ac0"
      },
      "execution_count": null,
      "outputs": [
        {
          "output_type": "stream",
          "name": "stdout",
          "text": [
            "[50, 40, 30, 20, 10]\n"
          ]
        }
      ]
    },
    {
      "cell_type": "code",
      "source": [
        "# Method 2\n",
        "li= [10, 20, 30, 40, 50]\n",
        "li.reverse()\n",
        "li"
      ],
      "metadata": {
        "colab": {
          "base_uri": "https://localhost:8080/"
        },
        "id": "ezZPXEv2zuFf",
        "outputId": "5539a496-9744-4f18-8ba9-42d0015e7fd4"
      },
      "execution_count": null,
      "outputs": [
        {
          "output_type": "execute_result",
          "data": {
            "text/plain": [
              "[50, 40, 30, 20, 10]"
            ]
          },
          "metadata": {},
          "execution_count": 62
        }
      ]
    },
    {
      "cell_type": "code",
      "source": [
        "# Method 3\n",
        "li= [10, 20, 30, 40, 50]\n",
        "li[:: -1]"
      ],
      "metadata": {
        "colab": {
          "base_uri": "https://localhost:8080/"
        },
        "id": "yGczKRyA0xls",
        "outputId": "97b3257a-a33f-4953-8e19-7505789dd0be"
      },
      "execution_count": null,
      "outputs": [
        {
          "output_type": "execute_result",
          "data": {
            "text/plain": [
              "[50, 40, 30, 20, 10]"
            ]
          },
          "metadata": {},
          "execution_count": 63
        }
      ]
    },
    {
      "cell_type": "markdown",
      "source": [
        "## 11. Write a code to create a tuple with the elements 100, 200, 300 and print it."
      ],
      "metadata": {
        "id": "ZlTtdgHa04XW"
      }
    },
    {
      "cell_type": "code",
      "source": [
        "my_tuple = (100, 200, 300)\n",
        "print(my_tuple)\n"
      ],
      "metadata": {
        "colab": {
          "base_uri": "https://localhost:8080/"
        },
        "id": "fHRrJCb806MU",
        "outputId": "90060d02-2f99-468b-f5d1-590c0046d200"
      },
      "execution_count": null,
      "outputs": [
        {
          "output_type": "stream",
          "name": "stdout",
          "text": [
            "(100, 200, 300)\n"
          ]
        }
      ]
    },
    {
      "cell_type": "markdown",
      "source": [
        "## 12. Write a code to access the second-to-last element of the tuple ('red', 'green', 'blue', 'yellow')."
      ],
      "metadata": {
        "id": "0oMr22II1FPR"
      }
    },
    {
      "cell_type": "code",
      "source": [
        "my_tuple = ('red', 'green', 'blue', 'yellow')\n",
        "my_tuple[-2]"
      ],
      "metadata": {
        "colab": {
          "base_uri": "https://localhost:8080/",
          "height": 36
        },
        "id": "zvYHUixR1L4T",
        "outputId": "73d978ba-a77e-4406-a5af-031bbb78347b"
      },
      "execution_count": null,
      "outputs": [
        {
          "output_type": "execute_result",
          "data": {
            "text/plain": [
              "'blue'"
            ],
            "application/vnd.google.colaboratory.intrinsic+json": {
              "type": "string"
            }
          },
          "metadata": {},
          "execution_count": 66
        }
      ]
    },
    {
      "cell_type": "markdown",
      "source": [
        "## 13. Write a code to find the minimum number in the tuple (10, 20, 5, 15)."
      ],
      "metadata": {
        "id": "H2NafQtT1Q1x"
      }
    },
    {
      "cell_type": "code",
      "source": [
        "# Method 1\n",
        "my_tuple=(10,20,5,15)\n",
        "min(my_tuple)"
      ],
      "metadata": {
        "colab": {
          "base_uri": "https://localhost:8080/"
        },
        "id": "lDp39NJp1XRb",
        "outputId": "9c3aadf3-028f-4d06-a787-8219e7a3db13"
      },
      "execution_count": null,
      "outputs": [
        {
          "output_type": "execute_result",
          "data": {
            "text/plain": [
              "5"
            ]
          },
          "metadata": {},
          "execution_count": 67
        }
      ]
    },
    {
      "cell_type": "code",
      "source": [
        "# Method 2\n",
        "min=my_tuple[0]\n",
        "for i in my_tuple:\n",
        "  if i<min:\n",
        "    min=i\n",
        "print(min)"
      ],
      "metadata": {
        "colab": {
          "base_uri": "https://localhost:8080/"
        },
        "id": "WXjPFbqC1eUE",
        "outputId": "b6711b08-77e3-4f4c-9ae9-544658752f7e"
      },
      "execution_count": null,
      "outputs": [
        {
          "output_type": "stream",
          "name": "stdout",
          "text": [
            "5\n"
          ]
        }
      ]
    },
    {
      "cell_type": "markdown",
      "source": [
        "## 14. Write a code to find the index of the element \"cat\" in the tuple ('dog', 'cat', 'rabbit')."
      ],
      "metadata": {
        "id": "PISiYSX21pMs"
      }
    },
    {
      "cell_type": "code",
      "source": [
        "my_tuple=('dog', 'cat', 'rabbit')\n",
        "my_tuple.index(\"cat\")"
      ],
      "metadata": {
        "colab": {
          "base_uri": "https://localhost:8080/"
        },
        "id": "ajOSJchN1uLz",
        "outputId": "75d05d98-2464-42d2-9571-cf9197f49e90"
      },
      "execution_count": null,
      "outputs": [
        {
          "output_type": "execute_result",
          "data": {
            "text/plain": [
              "1"
            ]
          },
          "metadata": {},
          "execution_count": 70
        }
      ]
    },
    {
      "cell_type": "markdown",
      "source": [
        "## 15. Write a code to create a tuple containing three different fruits and check if \"kiwi\" is in it"
      ],
      "metadata": {
        "id": "1U9Q6Nn814pa"
      }
    },
    {
      "cell_type": "code",
      "source": [
        "my_fruits=(\"apple\",\"mango\",\"kiwi\")\n",
        "if \"kiwi\" in my_fruits:\n",
        "  print(\"Kiwi is present\",my_fruits.index(\"kiwi\"))\n",
        "\n",
        "else:\n",
        "  print(\"kiwi is not in the tuple\")"
      ],
      "metadata": {
        "colab": {
          "base_uri": "https://localhost:8080/"
        },
        "id": "iBmVpH2Z2AZX",
        "outputId": "ed72196c-9205-4b3d-87c3-525056cbd620"
      },
      "execution_count": null,
      "outputs": [
        {
          "output_type": "stream",
          "name": "stdout",
          "text": [
            "Kiwi is present 2\n"
          ]
        }
      ]
    },
    {
      "cell_type": "markdown",
      "source": [
        "## 16. Write a code to create a set with the elements 'a', 'b', 'c' and print it"
      ],
      "metadata": {
        "id": "JWHPPzGV2KQB"
      }
    },
    {
      "cell_type": "code",
      "source": [
        "alpha={\"a\",\"b\",\"c\",\"c\"}\n",
        "alpha"
      ],
      "metadata": {
        "colab": {
          "base_uri": "https://localhost:8080/"
        },
        "id": "D8WBqKyf3NeR",
        "outputId": "0272c093-2a63-47c9-81aa-609e4a6ac67d"
      },
      "execution_count": null,
      "outputs": [
        {
          "output_type": "execute_result",
          "data": {
            "text/plain": [
              "{'a', 'b', 'c'}"
            ]
          },
          "metadata": {},
          "execution_count": 83
        }
      ]
    },
    {
      "cell_type": "markdown",
      "source": [
        "## 17. Write a code to clear all elements from the set {1, 2, 3, 4, 5}"
      ],
      "metadata": {
        "id": "ME4yY9953dwg"
      }
    },
    {
      "cell_type": "code",
      "source": [
        "my_set={1,2,3,4,5}\n",
        "my_set.clear()\n",
        "my_set"
      ],
      "metadata": {
        "colab": {
          "base_uri": "https://localhost:8080/"
        },
        "id": "3J_YpUav3lJb",
        "outputId": "48530a4a-2588-4915-94fb-0df899f4a9c0"
      },
      "execution_count": null,
      "outputs": [
        {
          "output_type": "execute_result",
          "data": {
            "text/plain": [
              "set()"
            ]
          },
          "metadata": {},
          "execution_count": 84
        }
      ]
    },
    {
      "cell_type": "markdown",
      "source": [
        "## 18. Write a code to remove the element 4 from the set {1, 2, 3, 4}."
      ],
      "metadata": {
        "id": "DzIcMpqU3qHQ"
      }
    },
    {
      "cell_type": "code",
      "source": [
        "my_set={1,2,3,4}\n",
        "my_set.remove(4)\n",
        "my_set"
      ],
      "metadata": {
        "colab": {
          "base_uri": "https://localhost:8080/"
        },
        "id": "SBJt6Wx23w4k",
        "outputId": "cb44a510-a71e-4602-fd9e-24ea88b1e8e5"
      },
      "execution_count": null,
      "outputs": [
        {
          "output_type": "execute_result",
          "data": {
            "text/plain": [
              "{1, 2, 3}"
            ]
          },
          "metadata": {},
          "execution_count": 85
        }
      ]
    },
    {
      "cell_type": "markdown",
      "source": [
        "## 19. Write a code to find the union of two sets {1, 2, 3} and {3, 4, 5}."
      ],
      "metadata": {
        "id": "aL6aoiNG32mo"
      }
    },
    {
      "cell_type": "code",
      "source": [
        "# Method 1\n",
        "set1={1,2,3}\n",
        "set2={3,4,5}\n",
        "setUnion=set1|set2\n",
        "setUnion"
      ],
      "metadata": {
        "colab": {
          "base_uri": "https://localhost:8080/"
        },
        "id": "KE9Hlp-s38JQ",
        "outputId": "1d315dcc-f515-4deb-86f0-eaf438cb7b28"
      },
      "execution_count": null,
      "outputs": [
        {
          "output_type": "execute_result",
          "data": {
            "text/plain": [
              "{1, 2, 3, 4, 5}"
            ]
          },
          "metadata": {},
          "execution_count": 91
        }
      ]
    },
    {
      "cell_type": "code",
      "source": [
        "# Method 2\n",
        "set1={1,2,3}\n",
        "set2={3,4,5}\n",
        "set1.union(set2)"
      ],
      "metadata": {
        "colab": {
          "base_uri": "https://localhost:8080/"
        },
        "id": "64sQidOk4Cur",
        "outputId": "3d2eec82-8d3d-4ffe-bc1f-bf5775b11f71"
      },
      "execution_count": null,
      "outputs": [
        {
          "output_type": "execute_result",
          "data": {
            "text/plain": [
              "{1, 2, 3, 4, 5}"
            ]
          },
          "metadata": {},
          "execution_count": 92
        }
      ]
    },
    {
      "cell_type": "markdown",
      "source": [
        "## 20. Write a code to find the intersection of two sets {1, 2, 3} and {2, 3, 4}"
      ],
      "metadata": {
        "id": "c8xwDM7q4WR8"
      }
    },
    {
      "cell_type": "code",
      "source": [
        "# Method 1\n",
        "set1={1,2,3}\n",
        "set2={2,3,4}\n",
        "set1.intersection(set2)"
      ],
      "metadata": {
        "colab": {
          "base_uri": "https://localhost:8080/"
        },
        "id": "CjxnvBuH4b2z",
        "outputId": "50226f28-e9ce-4203-b0f4-2d432970c0e7"
      },
      "execution_count": null,
      "outputs": [
        {
          "output_type": "execute_result",
          "data": {
            "text/plain": [
              "{2, 3}"
            ]
          },
          "metadata": {},
          "execution_count": 94
        }
      ]
    },
    {
      "cell_type": "code",
      "source": [
        "# Method 2\n",
        "set1={1,2,3}\n",
        "set2={2,3,4}\n",
        "set1&set2"
      ],
      "metadata": {
        "colab": {
          "base_uri": "https://localhost:8080/"
        },
        "id": "twBNoOU44fSY",
        "outputId": "cf3cf994-d256-4be9-895d-0a7227188b84"
      },
      "execution_count": null,
      "outputs": [
        {
          "output_type": "execute_result",
          "data": {
            "text/plain": [
              "{2, 3}"
            ]
          },
          "metadata": {},
          "execution_count": 95
        }
      ]
    },
    {
      "cell_type": "markdown",
      "source": [
        "## 21. Write a code to create a dictionary with the keys \"name\", \"age\", and \"city\", and print it"
      ],
      "metadata": {
        "id": "0izKGuDY4lMs"
      }
    },
    {
      "cell_type": "code",
      "source": [
        "info={\"name\":\"Mohammed Jumaan\",\"age\":21,\"city\":\"Bangalore\"}\n",
        "info"
      ],
      "metadata": {
        "colab": {
          "base_uri": "https://localhost:8080/"
        },
        "id": "EqcAe9pv4wEp",
        "outputId": "1501ad1c-60a9-4b2e-def3-7d8bf9a66e45"
      },
      "execution_count": null,
      "outputs": [
        {
          "output_type": "execute_result",
          "data": {
            "text/plain": [
              "{'name': 'Mohammed Jumaan', 'age': 21, 'city': 'Bangalore'}"
            ]
          },
          "metadata": {},
          "execution_count": 97
        }
      ]
    },
    {
      "cell_type": "markdown",
      "source": [
        "## 22. Write a code to add a new key-value pair \"country\": \"USA\" to the dictionary {'name': 'John', 'age': 25}."
      ],
      "metadata": {
        "id": "YoqRyXTG44K9"
      }
    },
    {
      "cell_type": "code",
      "source": [
        "my_dict={'name': 'John', 'age': 25}\n",
        "my_dict[\"country\"]=\"USA\"\n",
        "my_dict"
      ],
      "metadata": {
        "colab": {
          "base_uri": "https://localhost:8080/"
        },
        "id": "9clOl0bY49Sx",
        "outputId": "5f5784ca-9799-425c-fc34-93622431ddd0"
      },
      "execution_count": null,
      "outputs": [
        {
          "output_type": "execute_result",
          "data": {
            "text/plain": [
              "{'name': 'John', 'age': 25, 'country': 'USA'}"
            ]
          },
          "metadata": {},
          "execution_count": 98
        }
      ]
    },
    {
      "cell_type": "markdown",
      "source": [
        "## 23. Write a code to access the value associated with the key \"name\" in the dictionary {'name': 'Alice', 'age': 30}"
      ],
      "metadata": {
        "id": "0H5u6mhv5Cyg"
      }
    },
    {
      "cell_type": "code",
      "source": [
        "my_dict={'name': 'Alice', 'age': 30}\n",
        "my_dict[\"name\"]"
      ],
      "metadata": {
        "colab": {
          "base_uri": "https://localhost:8080/",
          "height": 36
        },
        "id": "QrSOyzoV5LuA",
        "outputId": "7172ccb3-c1c8-450a-ad70-8a984df3113b"
      },
      "execution_count": null,
      "outputs": [
        {
          "output_type": "execute_result",
          "data": {
            "text/plain": [
              "'Alice'"
            ],
            "application/vnd.google.colaboratory.intrinsic+json": {
              "type": "string"
            }
          },
          "metadata": {},
          "execution_count": 99
        }
      ]
    },
    {
      "cell_type": "markdown",
      "source": [
        "## 24. Write a code to remove the key \"age\" from the dictionary {'name': 'Bob', 'age': 22, 'city': 'New York'}."
      ],
      "metadata": {
        "id": "grFcP0vv5Und"
      }
    },
    {
      "cell_type": "code",
      "source": [
        "info={'name': 'Bob', 'age': 22, 'city': 'New York'}\n",
        "del info['age']"
      ],
      "metadata": {
        "id": "AgSbDp2UEdv1"
      },
      "execution_count": null,
      "outputs": []
    },
    {
      "cell_type": "code",
      "source": [
        "info"
      ],
      "metadata": {
        "colab": {
          "base_uri": "https://localhost:8080/"
        },
        "id": "NYC0L9iNEj4u",
        "outputId": "2e569b3c-fafa-4e34-edb6-ffcf0f9888c0"
      },
      "execution_count": null,
      "outputs": [
        {
          "output_type": "execute_result",
          "data": {
            "text/plain": [
              "{'name': 'Bob', 'city': 'New York'}"
            ]
          },
          "metadata": {},
          "execution_count": 103
        }
      ]
    },
    {
      "cell_type": "markdown",
      "source": [
        "## 25. Write a code to check if the key \"city\" exists in the dictionary {'name': 'Alice', 'city': 'Paris'}."
      ],
      "metadata": {
        "id": "mjuNmwcQEoxn"
      }
    },
    {
      "cell_type": "code",
      "source": [
        "my_dict = {'name': 'Alice', 'city': 'Paris'}\n",
        "if 'city' in my_dict:\n",
        "    print(\"Key 'city' exists in the dictionary\")\n",
        "else:\n",
        "    print(\"Key 'city' does not exist in the dictionary\")"
      ],
      "metadata": {
        "colab": {
          "base_uri": "https://localhost:8080/"
        },
        "id": "RDTiqR54Et-W",
        "outputId": "a8df18a1-3fe8-4781-a2a6-6c49312dd9db"
      },
      "execution_count": null,
      "outputs": [
        {
          "output_type": "stream",
          "name": "stdout",
          "text": [
            "Key 'city' exists in the dictionary\n"
          ]
        }
      ]
    },
    {
      "cell_type": "code",
      "source": [
        "# Create a list\n",
        "my_list = [\"apple\", \"mango\", \"banana\"]\n",
        "\n",
        "# Create a tuple\n",
        "my_tuple = (\"Paris\", \"London\", \"Tokyo\")\n",
        "\n",
        "# Create a dictionary\n",
        "my_dict = {\"name\": \"Alice\", \"city\": \"Paris\", \"age\": 25}\n",
        "\n",
        "# Print all\n",
        "print(\"List:\", my_list)\n",
        "print(\"Tuple:\", my_tuple)\n",
        "print(\"Dictionary:\", my_dict)"
      ],
      "metadata": {
        "colab": {
          "base_uri": "https://localhost:8080/"
        },
        "id": "IUvj8OzRE0pQ",
        "outputId": "26037f60-95bb-4030-9690-7070ea0105cd"
      },
      "execution_count": null,
      "outputs": [
        {
          "output_type": "stream",
          "name": "stdout",
          "text": [
            "List: ['apple', 'mango', 'banana']\n",
            "Tuple: ('Paris', 'London', 'Tokyo')\n",
            "Dictionary: {'name': 'Alice', 'city': 'Paris', 'age': 25}\n"
          ]
        }
      ]
    },
    {
      "cell_type": "markdown",
      "source": [
        "## 27. Write a code to create a list of 5 random numbers between 1 and 100, sort it in ascending order, and print the result.(replaced)"
      ],
      "metadata": {
        "id": "-7YOkQy2E-fI"
      }
    },
    {
      "cell_type": "code",
      "source": [
        "import random\n",
        "\n",
        "\n",
        "my_list = [random.randint(1, 100) for _ in range(5)]\n",
        "print(\"Original list:\", my_list)\n",
        "my_list.sort()\n",
        "print(\"Sorted list:\", my_list)"
      ],
      "metadata": {
        "colab": {
          "base_uri": "https://localhost:8080/"
        },
        "id": "HfN5amJqFHpy",
        "outputId": "8bf351d8-9c98-47e8-e863-736f635c9c43"
      },
      "execution_count": null,
      "outputs": [
        {
          "output_type": "stream",
          "name": "stdout",
          "text": [
            "Original list: [89, 3, 86, 13, 75]\n",
            "Sorted list: [3, 13, 75, 86, 89]\n"
          ]
        }
      ]
    },
    {
      "cell_type": "markdown",
      "source": [
        "## 28. Write a code to create a list with strings and print the element at the third index."
      ],
      "metadata": {
        "id": "yc7KpGO5FYSI"
      }
    },
    {
      "cell_type": "code",
      "source": [
        "my_list = [\"apple\", \"banana\", \"mango\", \"orange\", \"grape\"]\n",
        "my_list[2]"
      ],
      "metadata": {
        "colab": {
          "base_uri": "https://localhost:8080/",
          "height": 36
        },
        "id": "IHoOgCdFFekn",
        "outputId": "4dad3b9f-fd95-4c55-c03c-182a662d4e95"
      },
      "execution_count": null,
      "outputs": [
        {
          "output_type": "execute_result",
          "data": {
            "text/plain": [
              "'mango'"
            ],
            "application/vnd.google.colaboratory.intrinsic+json": {
              "type": "string"
            }
          },
          "metadata": {},
          "execution_count": 107
        }
      ]
    },
    {
      "cell_type": "markdown",
      "source": [
        "## 29. Write a code to combine two dictionaries into one and print the result."
      ],
      "metadata": {
        "id": "i5_S7j5oFoaL"
      }
    },
    {
      "cell_type": "code",
      "source": [
        "dict1 = {'name': 'Alice', 'city': 'Paris'}\n",
        "dict2 = {'age': 25, 'city': 'London'}\n",
        "\n",
        "combined_dict = dict1 | dict2\n",
        "\n",
        "print(\"Combined dictionary:\", combined_dict)"
      ],
      "metadata": {
        "colab": {
          "base_uri": "https://localhost:8080/"
        },
        "id": "b7uOTqJaFtza",
        "outputId": "992fa3a8-af92-4387-b401-d7a5820df367"
      },
      "execution_count": null,
      "outputs": [
        {
          "output_type": "stream",
          "name": "stdout",
          "text": [
            "Combined dictionary: {'name': 'Alice', 'city': 'London', 'age': 25}\n"
          ]
        }
      ]
    },
    {
      "cell_type": "markdown",
      "source": [
        "## 30. Write a code to convert a list of strings into a set."
      ],
      "metadata": {
        "id": "F9cOU72cF41v"
      }
    },
    {
      "cell_type": "code",
      "source": [
        "my_list = [\"apple\", \"banana\", \"apple\", \"mango\", \"banana\"]\n",
        "\n",
        "my_set = set(my_list)\n",
        "\n",
        "print(\"Set:\", my_set)"
      ],
      "metadata": {
        "colab": {
          "base_uri": "https://localhost:8080/"
        },
        "id": "QY42kC6rF-zn",
        "outputId": "1d8bf253-88d5-44e1-ad36-b2aa9ff8fff2"
      },
      "execution_count": null,
      "outputs": [
        {
          "output_type": "stream",
          "name": "stdout",
          "text": [
            "Set: {'banana', 'apple', 'mango'}\n"
          ]
        }
      ]
    },
    {
      "cell_type": "code",
      "source": [],
      "metadata": {
        "id": "Dy665eHsGH8R"
      },
      "execution_count": null,
      "outputs": []
    }
  ]
}