{
 "cells": [
  {
   "metadata": {},
   "cell_type": "markdown",
   "source": "# Python OOPS",
   "id": "5a1f8f51933aa069"
  },
  {
   "metadata": {},
   "cell_type": "markdown",
   "source": [
    "### **Q1. What is Object-Oriented Programming (OOP)?**\n",
    "\n",
    "**Answer:**\n",
    "Object-Oriented Programming (OOP) is a paradigm that organizes code into **objects**, which combine **data (attributes)** and **behavior (methods)**.\n",
    "It makes programs modular, reusable, and easier to maintain."
   ],
   "id": "91c096191464e73e"
  },
  {
   "metadata": {
    "ExecuteTime": {
     "end_time": "2025-09-04T17:18:15.354948Z",
     "start_time": "2025-09-04T17:18:15.347728Z"
    }
   },
   "cell_type": "code",
   "source": [
    "class Car:\n",
    "    def __init__(self, brand, model):\n",
    "        self.brand = brand\n",
    "        self.model = model\n",
    "    \n",
    "    def drive(self):\n",
    "        print(f\"{self.brand} {self.model} is driving!\")\n",
    "\n",
    "my_car = Car(\"Tesla\", \"Model 3\")\n",
    "my_car.drive()"
   ],
   "id": "4dadc2fde13d993a",
   "outputs": [
    {
     "name": "stdout",
     "output_type": "stream",
     "text": [
      "Tesla Model 3 is driving!\n"
     ]
    }
   ],
   "execution_count": 2
  },
  {
   "metadata": {},
   "cell_type": "markdown",
   "source": [
    "### **Q2. What is a class in OOP?**\n",
    "\n",
    "**Answer:**\n",
    "A class is a **blueprint** for creating objects. It defines attributes and methods that the objects will have."
   ],
   "id": "d47c29eeb5b5aba2"
  },
  {
   "metadata": {
    "ExecuteTime": {
     "end_time": "2025-09-04T17:19:32.032112Z",
     "start_time": "2025-09-04T17:19:32.019251Z"
    }
   },
   "cell_type": "code",
   "source": [
    "class Student:\n",
    "    def __init__(self, name, age):\n",
    "        self.name = name\n",
    "        self.age = age\n",
    "    \n",
    "    def introduce(self):\n",
    "        return f\"My name is {self.name}, I am {self.age} years old.\"\n"
   ],
   "id": "661777681a9872af",
   "outputs": [],
   "execution_count": 4
  },
  {
   "metadata": {},
   "cell_type": "markdown",
   "source": [
    "### **Q3. What is an object in OOP?**\n",
    "**Answer:**\n",
    "An object is an **instance of a class**. Each object has its own **state** (attribute values).\n"
   ],
   "id": "319aa46849ba4672"
  },
  {
   "metadata": {
    "ExecuteTime": {
     "end_time": "2025-09-04T17:21:03.570891Z",
     "start_time": "2025-09-04T17:21:03.565529Z"
    }
   },
   "cell_type": "code",
   "source": [
    "s1 = Student(\"Jumaan\", 20)\n",
    "s2 = Student(\"Mohammed\", 22)\n",
    "\n",
    "print(s1.introduce())\n",
    "print(s2.introduce())"
   ],
   "id": "d6555535d75ee72c",
   "outputs": [
    {
     "name": "stdout",
     "output_type": "stream",
     "text": [
      "My name is Jumaan, I am 20 years old.\n",
      "My name is Mohammed, I am 22 years old.\n"
     ]
    }
   ],
   "execution_count": 6
  },
  {
   "metadata": {},
   "cell_type": "markdown",
   "source": [
    "### **Q4. What is the difference between Abstraction and Encapsulation?**\n",
    "\n",
    "**Answer:**\n",
    "\n",
    "* **Abstraction:** Hides implementation details and shows only essential features (e.g., using `len()` without knowing internal logic).\n",
    "* **Encapsulation:** Bundles data and methods, restricting access with private/protected attributes.\n",
    "\n"
   ],
   "id": "14fcdeea25da3093"
  },
  {
   "metadata": {
    "ExecuteTime": {
     "end_time": "2025-09-04T17:23:51.245815Z",
     "start_time": "2025-09-04T17:23:51.238475Z"
    }
   },
   "cell_type": "code",
   "source": [
    "#Abstact Method\n",
    "from abc import ABC, abstractmethod\n",
    "\n",
    "class Vehicle(ABC):\n",
    "    @abstractmethod\n",
    "    def start(self): pass\n",
    "\n",
    "class Bike(Vehicle):\n",
    "    def start(self):\n",
    "        print(\"Bike started!\")\n",
    "\n",
    "bike = Bike()\n",
    "bike.start()\n"
   ],
   "id": "7d9e3ca47c78db58",
   "outputs": [
    {
     "name": "stdout",
     "output_type": "stream",
     "text": [
      "Bike started!\n"
     ]
    }
   ],
   "execution_count": 7
  },
  {
   "metadata": {
    "ExecuteTime": {
     "end_time": "2025-09-04T17:26:10.525270Z",
     "start_time": "2025-09-04T17:26:10.502789Z"
    }
   },
   "cell_type": "code",
   "source": [
    "#Encapsulation\n",
    "class BankAccount:\n",
    "    def __init__(self, balance):\n",
    "        self.__balance = balance  # private variable\n",
    "    \n",
    "    def deposit(self, amount):\n",
    "        self.__balance += amount\n",
    "    \n",
    "    def get_balance(self):\n",
    "        return self.__balance\n",
    "\n",
    "account = BankAccount(1000)\n",
    "account.deposit(500)\n",
    "print(account.get_balance())  # 1500\n"
   ],
   "id": "a9b0940246dfc21",
   "outputs": [
    {
     "name": "stdout",
     "output_type": "stream",
     "text": [
      "1500\n"
     ]
    }
   ],
   "execution_count": 8
  },
  {
   "metadata": {},
   "cell_type": "markdown",
   "source": [
    "\n",
    "### **Q5. What are dunder methods in Python?**\n",
    "\n",
    "**Answer:**\n",
    "Dunder (double underscore) methods are **special methods** in Python, e.g., `__init__`, `__str__`, `__repr__`, `__call__`.\n",
    "They allow objects to behave like built-in types."
   ],
   "id": "f31a3c2a589b3a84"
  },
  {
   "metadata": {
    "ExecuteTime": {
     "end_time": "2025-09-04T17:28:28.530003Z",
     "start_time": "2025-09-04T17:28:28.483375Z"
    }
   },
   "cell_type": "code",
   "source": [
    "class Book:\n",
    "    def __init__(self, title):\n",
    "        self.title = title\n",
    "    \n",
    "    def __str__(self):\n",
    "        return f\"Book: {self.title}\"\n",
    "\n",
    "book = Book(\"Python 101\")\n",
    "print(book) "
   ],
   "id": "6954a2dca3e8a6bf",
   "outputs": [
    {
     "name": "stdout",
     "output_type": "stream",
     "text": [
      "Book: Python 101\n"
     ]
    }
   ],
   "execution_count": 9
  },
  {
   "metadata": {},
   "cell_type": "markdown",
   "source": [
    "### **Q6. Explain inheritance in OOP.**\n",
    "\n",
    "**Answer:**\n",
    "Inheritance allows a **child class** to acquire properties and methods of a **parent class**, promoting reusability.\n"
   ],
   "id": "3e413edf0d8d5e88"
  },
  {
   "metadata": {
    "ExecuteTime": {
     "end_time": "2025-09-04T17:31:48.587805Z",
     "start_time": "2025-09-04T17:31:48.574821Z"
    }
   },
   "cell_type": "code",
   "source": [
    "class Animal:\n",
    "    def speak(self):\n",
    "        print(\"Animal sound\")\n",
    "\n",
    "class Dog(Animal):\n",
    "    def speak(self):\n",
    "        print(\"Bark\")\n",
    "\n",
    "Dog().speak()"
   ],
   "id": "ad64cdf3b1f86f84",
   "outputs": [
    {
     "name": "stdout",
     "output_type": "stream",
     "text": [
      "Bark\n"
     ]
    }
   ],
   "execution_count": 10
  },
  {
   "metadata": {},
   "cell_type": "markdown",
   "source": [
    "### **Q7. What is polymorphism in OOP?**\n",
    "\n",
    "**Answer:**\n",
    "Polymorphism means \"same function, different behavior\" depending on the object.\n",
    "\n"
   ],
   "id": "3ccaf9fa4e1c11b1"
  },
  {
   "metadata": {
    "ExecuteTime": {
     "end_time": "2025-09-05T04:04:51.667116Z",
     "start_time": "2025-09-05T04:04:51.635386Z"
    }
   },
   "cell_type": "code",
   "source": [
    "class Cat:\n",
    "    def sound(self): print(\"Meow\")\n",
    "\n",
    "class Dog:\n",
    "    def sound(self): print(\"Bark\")\n",
    "\n",
    "for animal in [Cat(), Dog()]:\n",
    "    animal.sound()"
   ],
   "id": "3e0837be5fc0dad9",
   "outputs": [
    {
     "name": "stdout",
     "output_type": "stream",
     "text": [
      "Meow\n",
      "Bark\n"
     ]
    }
   ],
   "execution_count": 11
  },
  {
   "metadata": {},
   "cell_type": "markdown",
   "source": [
    "### **Q8. How is encapsulation achieved in Python?**\n",
    "\n",
    "**Answer:**\n",
    "Encapsulation is achieved using **private (`__var`)** and **protected (`_var`)** variables with getter/setter methods.\n"
   ],
   "id": "9510c0c7b4239651"
  },
  {
   "metadata": {
    "ExecuteTime": {
     "end_time": "2025-09-05T16:51:43.345726Z",
     "start_time": "2025-09-05T16:51:43.341012Z"
    }
   },
   "cell_type": "code",
   "source": [
    "class Person:\n",
    "    def __init__(self, name):\n",
    "        self.__name = name   # private\n",
    "    \n",
    "    def get_name(self):\n",
    "        return self.__name"
   ],
   "id": "cec0c5b143ad5a6b",
   "outputs": [],
   "execution_count": 2
  },
  {
   "metadata": {},
   "cell_type": "markdown",
   "source": [
    "### **Q9. What is a constructor in Python?**\n",
    "\n",
    "**Answer:**\n",
    "A constructor is the `__init__` method that initializes object attributes when an object is created.\n"
   ],
   "id": "e19699194b640f4c"
  },
  {
   "metadata": {
    "ExecuteTime": {
     "end_time": "2025-09-05T16:54:00.472959Z",
     "start_time": "2025-09-05T16:54:00.467923Z"
    }
   },
   "cell_type": "code",
   "source": [
    "class Student:\n",
    "    def __init__(self, name):\n",
    "        self.name= name\n",
    "        print(self.name)\n",
    "\n",
    "a=Student(\"Mohammed\");"
   ],
   "id": "e287ef83072da27f",
   "outputs": [
    {
     "name": "stdout",
     "output_type": "stream",
     "text": [
      "Mohammed\n"
     ]
    }
   ],
   "execution_count": 5
  },
  {
   "metadata": {},
   "cell_type": "markdown",
   "source": [
    "### **Q10. What are class and static methods in Python?**\n",
    "\n",
    "**Answer:**\n",
    "\n",
    "## **Class Methods in Python**\n",
    "\n",
    "* Declared using the **`@classmethod`** decorator.\n",
    "* The first parameter is **`cls`** (represents the class itself, not the instance).\n",
    "* Can **access and modify class-level variables** but not instance-specific data.\n",
    "* Typically used when you want methods that affect the class as a whole (e.g., factory methods, alternate constructors).\n"
   ],
   "id": "4691e4a9e4bfe948"
  },
  {
   "metadata": {
    "ExecuteTime": {
     "end_time": "2025-09-05T16:59:35.453758Z",
     "start_time": "2025-09-05T16:59:35.447601Z"
    }
   },
   "cell_type": "code",
   "source": [
    "class Student:\n",
    "    school_name = \"MIT\"\n",
    "\n",
    "    def __init__(self, name):\n",
    "        self.name = name\n",
    "\n",
    "    @classmethod\n",
    "    def change_school(cls, new_name):\n",
    "        cls.school_name = new_name  # modifies class variable for all objects\n",
    "\n",
    "# Usage\n",
    "s1 = Student(\"Harsha\")\n",
    "s2 = Student(\"Jumaan\")\n",
    "\n",
    "print(s1.school_name)  \n",
    "Student.change_school(\"IIT\")\n",
    "print(s2.school_name)  \n"
   ],
   "id": "ca51d1aefaaf4b48",
   "outputs": [
    {
     "name": "stdout",
     "output_type": "stream",
     "text": [
      "MIT\n",
      "IIT\n"
     ]
    }
   ],
   "execution_count": 11
  },
  {
   "metadata": {},
   "cell_type": "markdown",
   "source": [
    "## **Static Methods in Python**\n",
    "\n",
    "* Declared using the **`@staticmethod`** decorator.\n",
    "* No `self` (instance) or `cls` (class) parameter.\n",
    "* Behaves like a **normal function inside the class** — cannot modify instance or class state.\n",
    "* Used when the method logic is **independent** of class or instance data, but is still conceptually related to the class.\n",
    "\n"
   ],
   "id": "8f0c115fdf8453ec"
  },
  {
   "metadata": {
    "ExecuteTime": {
     "end_time": "2025-09-05T17:00:19.328425Z",
     "start_time": "2025-09-05T17:00:19.321078Z"
    }
   },
   "cell_type": "code",
   "source": [
    "class MathUtils:\n",
    "    @staticmethod\n",
    "    def add(a, b):\n",
    "        return a + b\n",
    "\n",
    "    @staticmethod\n",
    "    def is_even(num):\n",
    "        return num % 2 == 0\n",
    "\n",
    "# Usage\n",
    "print(MathUtils.add(10, 20))     # 30\n",
    "print(MathUtils.is_even(4))      # True"
   ],
   "id": "de7e4d4ab2d1e13d",
   "outputs": [
    {
     "name": "stdout",
     "output_type": "stream",
     "text": [
      "30\n",
      "True\n"
     ]
    }
   ],
   "execution_count": 12
  },
  {
   "metadata": {},
   "cell_type": "markdown",
   "source": [
    "### **Q11. What is method overloading in Python?**\n",
    "\n",
    "**Answer:**\n",
    "Python doesn’t support true method overloading. Achieved using **default arguments** or `*args`.\n",
    "`"
   ],
   "id": "cab5605eff6be131"
  },
  {
   "metadata": {
    "ExecuteTime": {
     "end_time": "2025-09-05T17:01:58.854982Z",
     "start_time": "2025-09-05T17:01:58.849047Z"
    }
   },
   "cell_type": "code",
   "source": [
    "class Math:\n",
    "    def add(self, a, b=0):\n",
    "        return a + b\n",
    "\n",
    "print(Math().add(5))\n",
    "print(Math().add(5, 3))"
   ],
   "id": "d88f7405a54ad3ce",
   "outputs": [
    {
     "name": "stdout",
     "output_type": "stream",
     "text": [
      "5\n",
      "8\n"
     ]
    }
   ],
   "execution_count": 13
  },
  {
   "metadata": {},
   "cell_type": "markdown",
   "source": [
    "### **Q12. What is method overriding in OOP?**\n",
    "## **Method Overloading in Python**\n",
    "\n",
    "### General Idea\n",
    "\n",
    "* **Method overloading** means defining **multiple methods with the same name but different parameter lists**.\n",
    "* In languages like **Java or C++**, this is common (e.g., `add(int a, int b)` vs. `add(float a, float b)`).\n",
    "\n",
    "---\n",
    "\n",
    "### In Python\n",
    "\n",
    "* **Python does not support traditional method overloading** (like Java or C++).\n",
    "* If you define multiple methods with the same name, the **latest definition overrides the previous ones**.\n"
   ],
   "id": "ea15d8ff9f5f15df"
  },
  {
   "metadata": {
    "ExecuteTime": {
     "end_time": "2025-09-05T17:04:51.922481Z",
     "start_time": "2025-09-05T17:04:51.864577Z"
    }
   },
   "cell_type": "code",
   "source": [
    "class MathOps:\n",
    "    def add(self, a, b):\n",
    "        return a + b\n",
    "\n",
    "    def add(self, a, b, c):  # This overrides the previous add()\n",
    "        return a + b + c\n",
    "\n",
    "m = MathOps()\n",
    "print(m.add(2, 3, 4))   # Works: 9\n",
    "print(m.add(2, 3))    # Error: missing 1 argument\n"
   ],
   "id": "b9a633feb40342d6",
   "outputs": [
    {
     "name": "stdout",
     "output_type": "stream",
     "text": [
      "9\n"
     ]
    },
    {
     "ename": "TypeError",
     "evalue": "MathOps.add() missing 1 required positional argument: 'c'",
     "output_type": "error",
     "traceback": [
      "\u001B[31m---------------------------------------------------------------------------\u001B[39m",
      "\u001B[31mTypeError\u001B[39m                                 Traceback (most recent call last)",
      "\u001B[36mCell\u001B[39m\u001B[36m \u001B[39m\u001B[32mIn[16]\u001B[39m\u001B[32m, line 10\u001B[39m\n\u001B[32m      8\u001B[39m m = MathOps()\n\u001B[32m      9\u001B[39m \u001B[38;5;28mprint\u001B[39m(m.add(\u001B[32m2\u001B[39m, \u001B[32m3\u001B[39m, \u001B[32m4\u001B[39m))   \u001B[38;5;66;03m# Works: 9\u001B[39;00m\n\u001B[32m---> \u001B[39m\u001B[32m10\u001B[39m \u001B[38;5;28mprint\u001B[39m(m.add(\u001B[32m2\u001B[39m, \u001B[32m3\u001B[39m))\n",
      "\u001B[31mTypeError\u001B[39m: MathOps.add() missing 1 required positional argument: 'c'"
     ]
    }
   ],
   "execution_count": 16
  },
  {
   "metadata": {},
   "cell_type": "markdown",
   "source": [
    "### How Python Achieves Overloading (Workarounds)\n",
    "\n",
    "1. **Default Arguments**\n"
   ],
   "id": "70a3dc8cb4146260"
  },
  {
   "metadata": {
    "ExecuteTime": {
     "end_time": "2025-09-05T17:06:00.487014Z",
     "start_time": "2025-09-05T17:06:00.481444Z"
    }
   },
   "cell_type": "code",
   "source": [
    "class MathOps:\n",
    "       def add(self, a, b=0, c=0):\n",
    "           return a + b + c\n",
    "\n",
    "m = MathOps()\n",
    "print(m.add(2, 3))     # 5\n",
    "print(m.add(2, 3, 4))  # 9\n",
    "print(m.add(5))        # 5"
   ],
   "id": "a1cd6fae0095ae46",
   "outputs": [
    {
     "name": "stdout",
     "output_type": "stream",
     "text": [
      "5\n",
      "9\n",
      "5\n"
     ]
    }
   ],
   "execution_count": 20
  },
  {
   "metadata": {},
   "cell_type": "markdown",
   "source": "2. **Variable-Length Arguments (`*args`)**",
   "id": "12f84ed941381fbf"
  },
  {
   "metadata": {
    "ExecuteTime": {
     "end_time": "2025-09-05T17:07:55.659225Z",
     "start_time": "2025-09-05T17:07:55.653681Z"
    }
   },
   "cell_type": "code",
   "source": [
    "class MathOps:\n",
    "       def add(self, *args):\n",
    "           return sum(args)\n",
    "\n",
    "m = MathOps()\n",
    "print(m.add(2, 3))        # 5\n",
    "print(m.add(2, 3, 4))     # 9\n",
    "print(m.add(1, 2, 3, 4))  # 10"
   ],
   "id": "47e5e1d18550b9a5",
   "outputs": [
    {
     "name": "stdout",
     "output_type": "stream",
     "text": [
      "5\n",
      "9\n",
      "10\n"
     ]
    }
   ],
   "execution_count": 24
  },
  {
   "metadata": {},
   "cell_type": "markdown",
   "source": [
    "\n",
    "### **Q13. What is a property decorator in Python?**\n",
    "\n",
    "**Answer:**\n",
    "## **Property Decorator in Python (`@property`)**\n",
    "\n",
    "### Definition\n",
    "\n",
    "* The **`@property` decorator** is used to **define methods in a class that can be accessed like attributes**, without explicitly calling them.\n",
    "* It is a way to **implement getters, setters, and deleters** in Python in a clean, Pythonic style.\n",
    "\n",
    "---\n",
    "\n",
    "### Why Use It?\n",
    "\n",
    "* To **control attribute access** (encapsulation).\n",
    "* To make code **readable** (`obj.attr` instead of `obj.get_attr()`).\n",
    "* To add **validation logic** when setting values.\n",
    "\n",
    "---"
   ],
   "id": "780d081e115df8d4"
  },
  {
   "metadata": {
    "ExecuteTime": {
     "end_time": "2025-09-05T17:13:01.959399Z",
     "start_time": "2025-09-05T17:13:01.949665Z"
    }
   },
   "cell_type": "code",
   "source": [
    "class Student:\n",
    "    def __init__(self, name):\n",
    "        self._name = name\n",
    "\n",
    "    @property\n",
    "    def name(self):\n",
    "        return self._name\n",
    "\n",
    "    @name.setter\n",
    "    def name(self, value):\n",
    "        if not value.strip():\n",
    "            raise ValueError(\"Name cannot be empty\")\n",
    "        self._name = value\n",
    "\n",
    "    @name.deleter\n",
    "    def name(self):\n",
    "        print(\"Deleting name...\")\n",
    "        del self._name\n",
    "\n",
    "s = Student(\"Jumaan\")\n",
    "print(s.name)   # Jumaan\n",
    "s.name = \"Harsha\"\n",
    "print(s.name)   # Harsha\n",
    "del s.name      # Deletes the attribute\n"
   ],
   "id": "681740c309a77f8a",
   "outputs": [
    {
     "name": "stdout",
     "output_type": "stream",
     "text": [
      "Jumaan\n",
      "Harsha\n",
      "Deleting name...\n"
     ]
    }
   ],
   "execution_count": 26
  },
  {
   "metadata": {},
   "cell_type": "markdown",
   "source": [
    "###  Summary\n",
    "\n",
    "* `@property` → creates **getter**.\n",
    "* `@property_name.setter` → creates **setter**.\n",
    "* `@property_name.deleter` → creates **deleter**.\n",
    "* Makes code **cleaner and more readable** by letting methods behave like attributes.\n"
   ],
   "id": "322d5169f3e4f84d"
  },
  {
   "metadata": {},
   "cell_type": "markdown",
   "source": [
    "### **Q14. Why is polymorphism important in OOP?**\n",
    "\n",
    "**Answer:**\n",
    "It provides **flexibility** and allows different objects to be treated with the same interface.\n",
    "Example: `len()` works on strings, lists, tuples, etc."
   ],
   "id": "f6aeb5d93332d542"
  },
  {
   "metadata": {},
   "cell_type": "code",
   "outputs": [],
   "execution_count": null,
   "source": "",
   "id": "f2d0aa9b1b35504a"
  },
  {
   "metadata": {},
   "cell_type": "markdown",
   "source": [
    "### **Q15. What is an abstract class in Python?**\n",
    "## **Abstract Class in Python (Simple Answer)**\n",
    "\n",
    "* An **abstract class** is a class that **cannot be directly used to create objects**.\n",
    "* It has **abstract methods** (methods with no body) that **must be implemented in child classes**.\n"
   ],
   "id": "364549854aebc919"
  },
  {
   "metadata": {
    "ExecuteTime": {
     "end_time": "2025-09-05T17:17:49.789837Z",
     "start_time": "2025-09-05T17:17:49.781466Z"
    }
   },
   "cell_type": "code",
   "source": [
    "from abc import ABC, abstractmethod\n",
    "\n",
    "class Animal(ABC):              # Abstract class\n",
    "    @abstractmethod\n",
    "    def sound(self):            # Abstract method\n",
    "        pass\n",
    "\n",
    "class Dog(Animal):              # Child class\n",
    "    def sound(self):\n",
    "        return \"Woof!\"\n",
    "\n",
    "class Cat(Animal):              # Child class\n",
    "    def sound(self):\n",
    "        return \"Meow!\"\n",
    "\n",
    "dog = Dog()\n",
    "cat = Cat()\n",
    "\n",
    "print(dog.sound())  # Woof!\n",
    "print(cat.sound())  # Meow!\n"
   ],
   "id": "64ab9daf4af8205d",
   "outputs": [
    {
     "name": "stdout",
     "output_type": "stream",
     "text": [
      "Woof!\n",
      "Meow!\n"
     ]
    }
   ],
   "execution_count": 28
  },
  {
   "metadata": {},
   "cell_type": "markdown",
   "source": [
    "### **Q16. What are the advantages of OOP?**\n",
    "\n",
    "**Answer:**\n",
    "\n",
    "* Code reusability\n",
    "* Modularity\n",
    "* Maintainability\n",
    "* Encapsulation\n",
    "* Abstraction\n"
   ],
   "id": "cdccafa85be9b59d"
  },
  {
   "metadata": {},
   "cell_type": "markdown",
   "source": [
    "### **Q17. What is the difference between a class variable and an instance variable?**\n",
    "\n",
    "\n",
    "### **Class Variable vs Instance Variable**\n",
    "\n",
    "| Feature           | **Class Variable**                            | **Instance Variable**                                             |\n",
    "| ----------------- | --------------------------------------------- | ----------------------------------------------------------------- |\n",
    "| **Definition**    | Shared by **all objects** of the class.       | Belongs to a **specific object**.                                 |\n",
    "| **Where defined** | Inside the class but **outside methods**.     | Inside the **constructor (`__init__`)** or methods, using `self`. |\n",
    "| **Accessed by**   | `ClassName.variable` or `object.variable`.    | Always with `object.variable`.                                    |\n",
    "| **Memory**        | Only **one copy** exists for the whole class. | Each object gets its **own copy**.                                |\n",
    "\n",
    "---"
   ],
   "id": "249c98fe82b9eed8"
  },
  {
   "metadata": {
    "ExecuteTime": {
     "end_time": "2025-09-05T17:22:36.962698Z",
     "start_time": "2025-09-05T17:22:36.954376Z"
    }
   },
   "cell_type": "code",
   "source": [
    "class Student:\n",
    "    school = \"ABC School\"\n",
    "\n",
    "    def __init__(self, name, age):\n",
    "        self.name = name\n",
    "        self.age = age\n",
    "\n",
    "s1 = Student(\"Harsha\", 21)\n",
    "s2 = Student(\"Jumaan\", 22)\n",
    "\n",
    "print(s1.school)\n",
    "print(s2.school)\n",
    "\n",
    "s1.school = \"XYZ School\"\n",
    "print(s1.school)\n",
    "print(s2.school)\n",
    "print(Student.school)"
   ],
   "id": "c4b1c58af7f87990",
   "outputs": [
    {
     "name": "stdout",
     "output_type": "stream",
     "text": [
      "ABC School\n",
      "ABC School\n",
      "XYZ School\n",
      "ABC School\n",
      "ABC School\n"
     ]
    }
   ],
   "execution_count": 30
  },
  {
   "metadata": {},
   "cell_type": "markdown",
   "source": [
    "### **Q18. What is multiple inheritance in Python?**\n",
    "\n",
    "\n",
    "## **Multiple Inheritance in Python**\n",
    "\n",
    "### Definition\n",
    "\n",
    "* **Multiple inheritance** means a class can **inherit from more than one parent class**.\n",
    "* Python fully supports it.\n"
   ],
   "id": "9725db367215ba6c"
  },
  {
   "metadata": {
    "ExecuteTime": {
     "end_time": "2025-09-05T17:24:18.431309Z",
     "start_time": "2025-09-05T17:24:18.421103Z"
    }
   },
   "cell_type": "code",
   "source": [
    "class Father:\n",
    "    def skill(self):\n",
    "        return \"Gardening\"\n",
    "\n",
    "class Mother:\n",
    "    def talent(self):\n",
    "        return \"Cooking\"\n",
    "\n",
    "class Child(Father, Mother):   # Multiple Inheritance\n",
    "    def hobby(self):\n",
    "        return \"Cricket\"\n",
    "\n",
    "c = Child()\n",
    "print(c.skill())    # From Father → Gardening\n",
    "print(c.talent())   # From Mother → Cooking\n",
    "print(c.hobby())    # From Child   → Cricket\n"
   ],
   "id": "d0e8dd9705218800",
   "outputs": [
    {
     "name": "stdout",
     "output_type": "stream",
     "text": [
      "Gardening\n",
      "Cooking\n",
      "Cricket\n"
     ]
    }
   ],
   "execution_count": 31
  },
  {
   "metadata": {},
   "cell_type": "markdown",
   "source": [
    "### Key Point\n",
    "\n",
    "* If **both parents have the same method name**, Python follows **MRO (Method Resolution Order)** → looks left to right in inheritance list.\n"
   ],
   "id": "9a70982d22d3f03"
  },
  {
   "metadata": {
    "ExecuteTime": {
     "end_time": "2025-09-05T17:25:18.583401Z",
     "start_time": "2025-09-05T17:25:18.577958Z"
    }
   },
   "cell_type": "code",
   "source": [
    "class A:\n",
    "    def show(self):\n",
    "        return \"From A\"\n",
    "\n",
    "class B:\n",
    "    def show(self):\n",
    "        return \"From B\"\n",
    "\n",
    "class C(A, B):   # MRO → A first, then B\n",
    "    pass\n",
    "\n",
    "obj = C()\n",
    "print(obj.show())   # From A"
   ],
   "id": "d165ad03bac82598",
   "outputs": [
    {
     "name": "stdout",
     "output_type": "stream",
     "text": [
      "From A\n"
     ]
    }
   ],
   "execution_count": 32
  },
  {
   "metadata": {},
   "cell_type": "markdown",
   "source": [
    "### **Q19. Explain the purpose of `__str__` and `__repr__`.**\n",
    "\n",
    "## **`__str__` vs `__repr__`**\n",
    "\n",
    "| Method     | Purpose                                                           | Used By                                                          | Goal                                                                                                               |\n",
    "| ---------- | ----------------------------------------------------------------- | ---------------------------------------------------------------- | ------------------------------------------------------------------------------------------------------------------ |\n",
    "| `__str__`  | Defines a **human-readable** string representation of the object. | Called by `str(obj)` or `print(obj)`.                            | Meant for **end users** (friendly output).                                                                         |\n",
    "| `__repr__` | Defines an **unambiguous** string representation of the object.   | Called by `repr(obj)` or just typing the object in Python shell. | Meant for **developers** (debugging, logging). Ideally, output should be valid Python code to recreate the object. |\n",
    "\n",
    "---"
   ],
   "id": "15dedff8d4cfe5a7"
  },
  {
   "metadata": {
    "ExecuteTime": {
     "end_time": "2025-09-05T17:26:54.228903Z",
     "start_time": "2025-09-05T17:26:54.222167Z"
    }
   },
   "cell_type": "code",
   "source": [
    "class Student:\n",
    "    def __init__(self, name, marks):\n",
    "        self.name = name\n",
    "        self.marks = marks\n",
    "\n",
    "    def __str__(self):\n",
    "        return f\"Student Name: {self.name}, Marks: {self.marks}\"\n",
    "\n",
    "    def __repr__(self):\n",
    "        return f\"Student('{self.name}', {self.marks})\"\n",
    "\n",
    "s = Student(\"Harsha\", 90)\n",
    "\n",
    "print(s)        # Uses __str__ → Student Name: Harsha, Marks: 90\n",
    "print(str(s))   # Same as above\n",
    "print(repr(s))  # Uses __repr__ → Student('Harsha', 90)\n"
   ],
   "id": "5342407dd09b6884",
   "outputs": [
    {
     "name": "stdout",
     "output_type": "stream",
     "text": [
      "Student Name: Harsha, Marks: 90\n",
      "Student Name: Harsha, Marks: 90\n",
      "Student('Harsha', 90)\n"
     ]
    }
   ],
   "execution_count": 33
  },
  {
   "metadata": {},
   "cell_type": "markdown",
   "source": [
    "### **Q20. What is the significance of `super()` in Python?**\n",
    "\n",
    "**Answer:**\n",
    "Used to call parent class methods inside child class.\n"
   ],
   "id": "e0aa62f14b2116e1"
  },
  {
   "metadata": {
    "ExecuteTime": {
     "end_time": "2025-09-05T17:29:41.686558Z",
     "start_time": "2025-09-05T17:29:41.680406Z"
    }
   },
   "cell_type": "code",
   "source": [
    "class Parent:\n",
    "    def greet(self): print(\"Hello from Parent\")\n",
    "\n",
    "class Child(Parent):\n",
    "    def greet(self):\n",
    "        super().greet()\n",
    "        print(\"Hello from Child\")"
   ],
   "id": "fa72e81e3cbbecda",
   "outputs": [],
   "execution_count": 34
  },
  {
   "metadata": {
    "ExecuteTime": {
     "end_time": "2025-09-05T17:30:14.283682Z",
     "start_time": "2025-09-05T17:30:14.276454Z"
    }
   },
   "cell_type": "code",
   "source": "Child().greet()",
   "id": "7dafd6164c62338e",
   "outputs": [
    {
     "name": "stdout",
     "output_type": "stream",
     "text": [
      "Hello from Parent\n",
      "Hello from Child\n"
     ]
    }
   ],
   "execution_count": 35
  },
  {
   "metadata": {},
   "cell_type": "markdown",
   "source": [
    "### **Q21. What is the significance of the `__del__` method?**\n",
    "\n",
    "**Answer:**\n",
    "## **`__del__` Method in Python**\n",
    "\n",
    "### Definition\n",
    "\n",
    "* `__del__` is a **destructor method** in Python.\n",
    "* It is called **when an object is about to be destroyed** (i.e., when it is no longer referenced).\n",
    "* Purpose: to **free resources**, **close files/connections**, or do **cleanup work** before the object is removed from memory.\n",
    "\n"
   ],
   "id": "e634a29bfc449ca"
  },
  {
   "metadata": {
    "ExecuteTime": {
     "end_time": "2025-09-05T17:33:16.857348Z",
     "start_time": "2025-09-05T17:33:16.850001Z"
    }
   },
   "cell_type": "code",
   "source": [
    "class Demo:\n",
    "    def __init__(self, name):\n",
    "        self.name = name\n",
    "        print(f\"Object {self.name} created.\")\n",
    "\n",
    "    def __del__(self):\n",
    "        print(f\"Object {self.name} destroyed.\")\n",
    "\n",
    "d1 = Demo(\"A\")\n",
    "d2 = Demo(\"B\")\n",
    "\n",
    "del d1       # Explicitly deleting object\n",
    "print(\"End of program\")"
   ],
   "id": "89cc8a79e6d374f",
   "outputs": [
    {
     "name": "stdout",
     "output_type": "stream",
     "text": [
      "Object A created.\n",
      "Object B created.\n",
      "Object A destroyed.\n",
      "End of program\n"
     ]
    }
   ],
   "execution_count": 36
  },
  {
   "metadata": {},
   "cell_type": "markdown",
   "source": [
    "### **Q22. What is the difference between @staticmethod and @classmethod?**\n",
    "\n",
    "### **@staticmethod**\n",
    "- **Definition**: A `@staticmethod` is a method that belongs to a class but does not require access to the instance (`self`) or the class (`cls`). It behaves like a regular function but is defined within the class's namespace.\n",
    "- **Access**: It cannot access or modify instance-specific data (`self`) or class-specific data (`cls`).\n",
    "- **Use Case**: Used for utility functions related to the class that don't depend on instance or class state.\n",
    "- **How to Define**: Decorated with `@staticmethod`.\n",
    "- **Calling**: Can be called on the class or an instance, without passing `self` or `cls`."
   ],
   "id": "efa8b845d71da63e"
  },
  {
   "metadata": {
    "ExecuteTime": {
     "end_time": "2025-09-05T17:37:31.778555Z",
     "start_time": "2025-09-05T17:37:31.773347Z"
    }
   },
   "cell_type": "code",
   "source": [
    "class MathUtils:\n",
    "    @staticmethod\n",
    "    def add(a, b):\n",
    "        return a + b\n",
    "\n",
    "# Call via class\n",
    "print(MathUtils.add(2, 3))  # Output: 5\n",
    "# Call via instance\n",
    "obj = MathUtils()\n",
    "print(obj.add(2, 3))  # Output: 5"
   ],
   "id": "bcf3ad4581949ae9",
   "outputs": [
    {
     "name": "stdout",
     "output_type": "stream",
     "text": [
      "5\n",
      "5\n"
     ]
    }
   ],
   "execution_count": 38
  },
  {
   "metadata": {},
   "cell_type": "markdown",
   "source": [
    "### **@classmethod**\n",
    "- **Definition**: A `@classmethod` is a method that receives the class itself (`cls`) as its first argument, allowing it to access or modify class-level data (e.g., class variables).\n",
    "- **Access**: It can access and modify class state but not instance-specific data unless an instance is explicitly passed.\n",
    "- **Use Case**: Used for methods that need to work with the class, such as factory methods or modifying class-level attributes.\n",
    "- **How to Define**: Decorated with `@classmethod`, and the first parameter is conventionally named `cls`.\n",
    "- **Calling**: Can be called on the class or an instance, and the class is automatically passed as the first argument."
   ],
   "id": "408cdb19f96ecc24"
  },
  {
   "metadata": {
    "ExecuteTime": {
     "end_time": "2025-09-05T17:38:32.730995Z",
     "start_time": "2025-09-05T17:38:32.723260Z"
    }
   },
   "cell_type": "code",
   "source": [
    "class MyClass:\n",
    "      class_variable = \"I am a class variable\"\n",
    "\n",
    "      @classmethod\n",
    "      def get_class_variable(cls):\n",
    "          return cls.class_variable\n",
    "\n",
    "# Call via class\n",
    "print(MyClass.get_class_variable())  # Output: I am a class variable\n",
    "# Call via instance\n",
    "obj = MyClass()\n",
    "print(obj.get_class_variable())  # Output: I am a class variable"
   ],
   "id": "97867ab3f658134a",
   "outputs": [
    {
     "name": "stdout",
     "output_type": "stream",
     "text": [
      "I am a class variable\n",
      "I am a class variable\n"
     ]
    }
   ],
   "execution_count": 40
  },
  {
   "metadata": {},
   "cell_type": "markdown",
   "source": [
    "### **Q23. How does polymorphism work in Python with inheritance?**\n",
    "## **Polymorphism in Python (with Inheritance)**\n",
    "\n",
    "### Definition\n",
    "\n",
    "* **Polymorphism** means **“many forms”**.\n",
    "* In Python, it allows **the same method or operator to behave differently** depending on the object that calls it.\n",
    "* With **inheritance**, a **child class can override a method** of the parent class, and the correct method is called depending on the object type.\n"
   ],
   "id": "ae99c5d4a8da8556"
  },
  {
   "metadata": {
    "ExecuteTime": {
     "end_time": "2025-09-05T17:41:39.347873Z",
     "start_time": "2025-09-05T17:41:39.335536Z"
    }
   },
   "cell_type": "code",
   "source": [
    "class Animal:\n",
    "    def sound(self):\n",
    "        return \"Some sound\"\n",
    "\n",
    "class Dog(Animal):\n",
    "    def sound(self):   # Overrides parent method\n",
    "        return \"Woof!\"\n",
    "\n",
    "class Cat(Animal):\n",
    "    def sound(self):   # Overrides parent method\n",
    "        return \"Meow!\"\n",
    "\n",
    "# Polymorphism in action\n",
    "animals = [Dog(), Cat(), Animal()]\n",
    "\n",
    "for a in animals:\n",
    "    print(a.sound())\n"
   ],
   "id": "17d5000f568e940a",
   "outputs": [
    {
     "name": "stdout",
     "output_type": "stream",
     "text": [
      "Woof!\n",
      "Meow!\n",
      "Some sound\n"
     ]
    }
   ],
   "execution_count": 41
  },
  {
   "metadata": {},
   "cell_type": "markdown",
   "source": [
    "### **Q24. What is method chaining in Python OOP?**\n",
    "## **Method Chaining in Python OOP**\n",
    "\n",
    "### Definition\n",
    "\n",
    "* **Method chaining** is a technique where **multiple methods are called in a single statement**, one after another, on the **same object**.\n",
    "* Achieved by having methods **return `self`** (the object itself)."
   ],
   "id": "cfe7fc2874622217"
  },
  {
   "metadata": {
    "ExecuteTime": {
     "end_time": "2025-09-05T17:46:42.992270Z",
     "start_time": "2025-09-05T17:46:42.983495Z"
    }
   },
   "cell_type": "code",
   "source": [
    "class Person:\n",
    "    def __init__(self, name):\n",
    "        self.name = name\n",
    "        self.age = 0\n",
    "\n",
    "    def set_name(self, name):\n",
    "        self.name = name\n",
    "        return self\n",
    "\n",
    "    def set_age(self, age):\n",
    "        self.age = age\n",
    "        return self\n",
    "\n",
    "    def display(self):\n",
    "        print(f\"Name: {self.name}, Age: {self.age}\")\n",
    "        return self\n",
    "\n",
    "# Method chaining\n",
    "p = Person(\"Harsha\")\n",
    "p.set_name(\"Jumaan\").set_age(25).display()\n"
   ],
   "id": "1f5274190bd8aa2a",
   "outputs": [
    {
     "name": "stdout",
     "output_type": "stream",
     "text": [
      "Name: Jumaan, Age: 25\n"
     ]
    },
    {
     "data": {
      "text/plain": [
       "<__main__.Person at 0x25d686e95d0>"
      ]
     },
     "execution_count": 44,
     "metadata": {},
     "output_type": "execute_result"
    }
   ],
   "execution_count": 44
  },
  {
   "metadata": {},
   "cell_type": "markdown",
   "source": [
    "### **Q25. What is the purpose of the `__call__` method in Python?**\n",
    "## **`__call__` Method in Python**\n",
    "\n",
    "### Definition\n",
    "\n",
    "* `__call__` is a **special (dunder) method** in Python.\n",
    "* It allows an **object of a class to be called like a function**.\n",
    "* Essentially, it **makes an instance “callable”**.\n"
   ],
   "id": "ea22321a671b20ab"
  },
  {
   "metadata": {
    "ExecuteTime": {
     "end_time": "2025-09-05T17:49:48.614833Z",
     "start_time": "2025-09-05T17:49:48.608207Z"
    }
   },
   "cell_type": "code",
   "source": [
    "class Printer:\n",
    "    def __call__(self, msg):\n",
    "        print(msg)\n",
    "\n",
    "p = Printer()\n",
    "p(\"Hello\")  # Works like a function\n"
   ],
   "id": "569341c8a673e84b",
   "outputs": [
    {
     "name": "stdout",
     "output_type": "stream",
     "text": [
      "Hello\n"
     ]
    }
   ],
   "execution_count": 45
  },
  {
   "metadata": {},
   "cell_type": "markdown",
   "source": "### **Q1. Create a parent class Animal with a method speak() that prints a generic message. Create a child class Dog that overrides the speak() method to print \"Bark!\".**\n",
   "id": "2eae80280d36093e"
  },
  {
   "metadata": {
    "ExecuteTime": {
     "end_time": "2025-09-05T17:54:59.149024Z",
     "start_time": "2025-09-05T17:54:59.142356Z"
    }
   },
   "cell_type": "code",
   "source": [
    "class Animal:\n",
    "    def speak(self):\n",
    "        print(\"This is a generic animal sound.\")\n",
    "\n",
    "class Dog(Animal):\n",
    "    def speak(self):\n",
    "        print(\"Bark!\")\n",
    "\n",
    "a = Animal()\n",
    "a.speak()\n",
    "\n",
    "d = Dog()\n",
    "d.speak()\n"
   ],
   "id": "84668d9e8b64de12",
   "outputs": [
    {
     "name": "stdout",
     "output_type": "stream",
     "text": [
      "This is a generic animal sound.\n",
      "Bark!\n"
     ]
    }
   ],
   "execution_count": 48
  },
  {
   "metadata": {},
   "cell_type": "markdown",
   "source": "### **Q2. Create an abstract class Shape with a method area(). Derive Circle and Rectangle from it and implement area().**\n",
   "id": "ab43bbcea7074a13"
  },
  {
   "metadata": {
    "ExecuteTime": {
     "end_time": "2025-09-05T18:04:41.395502Z",
     "start_time": "2025-09-05T18:04:41.373472Z"
    }
   },
   "cell_type": "code",
   "source": [
    "from abc import ABC, abstractmethod\n",
    "import math\n",
    "\n",
    "class Shape(ABC):\n",
    "    @abstractmethod\n",
    "    def area(self):\n",
    "        pass\n",
    "\n",
    "class Circle(Shape):\n",
    "    def __init__(self, radius):\n",
    "        self.radius = radius\n",
    "\n",
    "    def area(self):\n",
    "        return math.pi * self.radius ** 2\n",
    "\n",
    "class Rectangle(Shape):\n",
    "    def __init__(self, length, width):\n",
    "        self.length = length\n",
    "        self.width = width\n",
    "\n",
    "    def area(self):\n",
    "        return self.length * self.width\n",
    "\n",
    "c = Circle(5)\n",
    "r = Rectangle(4, 6)\n",
    "\n",
    "print(c.area())\n",
    "print(r.area())\n"
   ],
   "id": "4b12da8ec258e810",
   "outputs": [
    {
     "name": "stdout",
     "output_type": "stream",
     "text": [
      "78.53981633974483\n",
      "24\n"
     ]
    }
   ],
   "execution_count": 49
  },
  {
   "metadata": {},
   "cell_type": "markdown",
   "source": [
    "\n",
    "### **Q3. Implement a multi-level inheritance scenario where a class Vehicle has an attribute `type`. Derive a class Car and further derive a class ElectricCar that adds a `battery` attribute.**"
   ],
   "id": "95a320831f9ad2b7"
  },
  {
   "metadata": {
    "ExecuteTime": {
     "end_time": "2025-09-05T18:30:36.581171Z",
     "start_time": "2025-09-05T18:30:36.549211Z"
    }
   },
   "cell_type": "code",
   "source": [
    "class Vehicle:\n",
    "    def __init__(self, vehicle_type):\n",
    "        self.type = vehicle_type\n",
    "\n",
    "class Car(Vehicle):\n",
    "    def __init__(self, vehicle_type, brand):\n",
    "        super().__init__(vehicle_type)\n",
    "        self.brand = brand\n",
    "\n",
    "class ElectricCar(Car):\n",
    "    def __init__(self, vehicle_type, brand, battery):\n",
    "        super().__init__(vehicle_type, brand)\n",
    "        self.battery = battery\n",
    "\n",
    "e_car = ElectricCar(\"Car\", \"Tesla\", \"100 kWh\")\n",
    "print(e_car.type)\n",
    "print(e_car.brand)\n",
    "print(e_car.battery)\n"
   ],
   "id": "f9a3c964a0b73e82",
   "outputs": [
    {
     "name": "stdout",
     "output_type": "stream",
     "text": [
      "Car\n",
      "Tesla\n",
      "100 kWh\n"
     ]
    }
   ],
   "execution_count": 50
  },
  {
   "metadata": {},
   "cell_type": "markdown",
   "source": "### **Q4. Demonstrate polymorphism by creating a base class Bird with a method fly(). Create two derived classes Sparrow and Penguin that override the fly() method.**",
   "id": "4486acb78509231e"
  },
  {
   "metadata": {
    "ExecuteTime": {
     "end_time": "2025-09-05T18:32:34.637716Z",
     "start_time": "2025-09-05T18:32:34.622096Z"
    }
   },
   "cell_type": "code",
   "source": [
    "class Bird:\n",
    "    def fly(self):\n",
    "        print(\"Some birds can fly.\")\n",
    "\n",
    "class Sparrow(Bird):\n",
    "    def fly(self):\n",
    "        print(\"Sparrow can fly high.\")\n",
    "\n",
    "class Penguin(Bird):\n",
    "    def fly(self):\n",
    "        print(\"Penguin cannot fly.\")\n",
    "\n",
    "birds = [Sparrow(), Penguin()]\n",
    "\n",
    "for b in birds:\n",
    "    b.fly()\n"
   ],
   "id": "f1514b495e950384",
   "outputs": [
    {
     "name": "stdout",
     "output_type": "stream",
     "text": [
      "Sparrow can fly high.\n",
      "Penguin cannot fly.\n"
     ]
    }
   ],
   "execution_count": 51
  },
  {
   "metadata": {},
   "cell_type": "markdown",
   "source": "### **Q5. Write a program to demonstrate encapsulation by creating a class `BankAccount` with private attributes `balance`. The class should have methods to deposit money, withdraw money, and check the current balance. Ensure that the `balance` attribute cannot be accessed directly from outside the class.**",
   "id": "633220f557c775d7"
  },
  {
   "metadata": {
    "ExecuteTime": {
     "end_time": "2025-09-05T18:45:28.016536Z",
     "start_time": "2025-09-05T18:45:27.969965Z"
    }
   },
   "cell_type": "code",
   "source": [
    "class BankAccount:\n",
    "    def __init__(self, balance):\n",
    "        self.__balance = balance  # private attribute\n",
    "\n",
    "    def deposit(self, amount):\n",
    "        if amount > 0:\n",
    "            self.__balance += amount\n",
    "\n",
    "    def withdraw(self, amount):\n",
    "        if 0 < amount <= self.__balance:\n",
    "            self.__balance -= amount\n",
    "        else:\n",
    "            print(\"Insufficient balance or invalid amount\")\n",
    "\n",
    "    def get_balance(self):\n",
    "        return self.__balance\n",
    "\n",
    "account = BankAccount(1000)\n",
    "account.deposit(500)\n",
    "account.withdraw(300)\n",
    "print(account.get_balance())\n"
   ],
   "id": "e13da9d98dfc02e8",
   "outputs": [
    {
     "name": "stdout",
     "output_type": "stream",
     "text": [
      "1200\n"
     ]
    }
   ],
   "execution_count": 52
  },
  {
   "metadata": {},
   "cell_type": "markdown",
   "source": "### **Q6. Demonstrate runtime polymorphism using a method `play()` in a base class `Instrument`. Derive classes `Guitar` and `Piano` that implement their own version of `play()`.**",
   "id": "c423e6e884a17a76"
  },
  {
   "metadata": {
    "ExecuteTime": {
     "end_time": "2025-09-05T18:46:44.775548Z",
     "start_time": "2025-09-05T18:46:44.762976Z"
    }
   },
   "cell_type": "code",
   "source": [
    "class Instrument:\n",
    "    def play(self):\n",
    "        print(\"Playing some instrument\")\n",
    "\n",
    "class Guitar(Instrument):\n",
    "    def play(self):\n",
    "        print(\"Playing Guitar music\")\n",
    "\n",
    "class Piano(Instrument):\n",
    "    def play(self):\n",
    "        print(\"Playing Piano music\")\n",
    "\n",
    "instruments = [Guitar(), Piano()]\n",
    "\n",
    "for instr in instruments:\n",
    "    instr.play()\n"
   ],
   "id": "288d10bd8598c6ef",
   "outputs": [
    {
     "name": "stdout",
     "output_type": "stream",
     "text": [
      "Playing Guitar music\n",
      "Playing Piano music\n"
     ]
    }
   ],
   "execution_count": 54
  },
  {
   "metadata": {},
   "cell_type": "markdown",
   "source": "### **Q7. Create a class `MathOperations` with a class method `add_numbers()` to add two numbers and a static method `subtract_numbers()` to subtract two numbers.**",
   "id": "73758ff520924d98"
  },
  {
   "metadata": {
    "ExecuteTime": {
     "end_time": "2025-09-05T18:47:58.198909Z",
     "start_time": "2025-09-05T18:47:58.183033Z"
    }
   },
   "cell_type": "code",
   "source": [
    "class MathOperations:\n",
    "    @classmethod\n",
    "    def add_numbers(cls, a, b):\n",
    "        return a + b\n",
    "\n",
    "    @staticmethod\n",
    "    def subtract_numbers(a, b):\n",
    "        return a - b\n",
    "\n",
    "# Using class method\n",
    "sum_result = MathOperations.add_numbers(10, 5)\n",
    "print(sum_result)\n",
    "\n",
    "# Using static method\n",
    "diff_result = MathOperations.subtract_numbers(10, 5)\n",
    "print(diff_result)\n"
   ],
   "id": "711edbc3ab8aedaa",
   "outputs": [
    {
     "name": "stdout",
     "output_type": "stream",
     "text": [
      "15\n",
      "5\n"
     ]
    }
   ],
   "execution_count": 56
  },
  {
   "metadata": {},
   "cell_type": "markdown",
   "source": "### **Q8. Implement a class `Person` with a class method to count the total number of persons created.**\n",
   "id": "5ff84fea15eda702"
  },
  {
   "metadata": {},
   "cell_type": "code",
   "outputs": [],
   "execution_count": null,
   "source": "",
   "id": "1c537931773d232c"
  },
  {
   "metadata": {
    "ExecuteTime": {
     "end_time": "2025-09-05T18:50:07.459411Z",
     "start_time": "2025-09-05T18:50:07.445929Z"
    }
   },
   "cell_type": "code",
   "source": [
    "class Person:\n",
    "    count = 0 \n",
    "\n",
    "    def __init__(self, name):\n",
    "        self.name = name\n",
    "        Person.count += 1\n",
    "\n",
    "    @classmethod\n",
    "    def total_persons(cls):\n",
    "        return cls.count\n",
    "\n",
    "p1 = Person(\"Harsha\")\n",
    "p2 = Person(\"Jumaan\")\n",
    "p3 = Person(\"Suhani\")\n",
    "\n",
    "print(Person.total_persons())\n"
   ],
   "id": "736f9ee111ceb01d",
   "outputs": [
    {
     "name": "stdout",
     "output_type": "stream",
     "text": [
      "3\n"
     ]
    }
   ],
   "execution_count": 57
  },
  {
   "metadata": {},
   "cell_type": "markdown",
   "source": "### **Q9. Write a class `Fraction` with attributes `numerator` and `denominator`. Override the `__str__` method to display the fraction as \"numerator/denominator\".**",
   "id": "eb25da2bcbaaded7"
  },
  {
   "metadata": {
    "ExecuteTime": {
     "end_time": "2025-09-05T18:51:11.014536Z",
     "start_time": "2025-09-05T18:51:11.007049Z"
    }
   },
   "cell_type": "code",
   "source": [
    "class Fraction:\n",
    "    def __init__(self, numerator, denominator):\n",
    "        self.numerator = numerator\n",
    "        self.denominator = denominator\n",
    "\n",
    "    def __str__(self):\n",
    "        return f\"{self.numerator}/{self.denominator}\"\n",
    "\n",
    "f1 = Fraction(3, 4)\n",
    "f2 = Fraction(5, 6)\n",
    "\n",
    "print(f1)\n",
    "print(f2)\n"
   ],
   "id": "657310bc8c4ff5db",
   "outputs": [
    {
     "name": "stdout",
     "output_type": "stream",
     "text": [
      "3/4\n",
      "5/6\n"
     ]
    }
   ],
   "execution_count": 58
  },
  {
   "metadata": {},
   "cell_type": "markdown",
   "source": "### **Q10. Demonstrate operator overloading by creating a class `Vector` and overriding the `+` operator to add two vectors.**\n",
   "id": "1c51bf445e9cff3a"
  },
  {
   "metadata": {
    "ExecuteTime": {
     "end_time": "2025-09-05T18:52:03.613221Z",
     "start_time": "2025-09-05T18:52:03.599749Z"
    }
   },
   "cell_type": "code",
   "source": [
    "class Vector:\n",
    "    def __init__(self, x, y):\n",
    "        self.x = x\n",
    "        self.y = y\n",
    "\n",
    "    def __add__(self, other):\n",
    "        return Vector(self.x + other.x, self.y + other.y)\n",
    "\n",
    "    def __str__(self):\n",
    "        return f\"({self.x}, {self.y})\"\n",
    "\n",
    "v1 = Vector(2, 3)\n",
    "v2 = Vector(4, 5)\n",
    "\n",
    "v3 = v1 + v2\n",
    "print(v3)\n"
   ],
   "id": "e744fef106b5df8",
   "outputs": [
    {
     "name": "stdout",
     "output_type": "stream",
     "text": [
      "(6, 8)\n"
     ]
    }
   ],
   "execution_count": 59
  },
  {
   "metadata": {},
   "cell_type": "markdown",
   "source": "### **Q11. Create a class `Person` with attributes `name` and `age`. Add a method `greet()` that prints \"Hello, my name is {name} and I am {age} years old.\"**",
   "id": "83369db25076880e"
  },
  {
   "metadata": {
    "ExecuteTime": {
     "end_time": "2025-09-05T18:58:04.922930Z",
     "start_time": "2025-09-05T18:58:04.904516Z"
    }
   },
   "cell_type": "code",
   "source": [
    "class Person:\n",
    "    def __init__(self, name, age):\n",
    "        self.name = name\n",
    "        self.age = age\n",
    "\n",
    "    def greet(self):\n",
    "        print(f\"Hello, my name is {self.name} and I am {self.age} years old.\")\n",
    "\n",
    "p1 = Person(\"Harsha\", 21)\n",
    "p1.greet()\n"
   ],
   "id": "9c33d672187dbaef",
   "outputs": [
    {
     "name": "stdout",
     "output_type": "stream",
     "text": [
      "Hello, my name is Harsha and I am 21 years old.\n"
     ]
    }
   ],
   "execution_count": 60
  },
  {
   "metadata": {},
   "cell_type": "markdown",
   "source": "### **Q12. Implement a class `Student` with attributes `name` and `grades`. Create a method `average_grade()` to compute the average of the grades.**",
   "id": "91ba97a733f6b405"
  },
  {
   "metadata": {
    "ExecuteTime": {
     "end_time": "2025-09-05T18:59:16.824675Z",
     "start_time": "2025-09-05T18:59:16.816455Z"
    }
   },
   "cell_type": "code",
   "source": [
    "class Student:\n",
    "    def __init__(self, name, grades):\n",
    "        self.name = name\n",
    "        self.grades = grades\n",
    "\n",
    "    def average_grade(self):\n",
    "        return sum(self.grades) / len(self.grades) if self.grades else 0\n",
    "\n",
    "s1 = Student(\"Harsha\", [85, 90, 78])\n",
    "print(s1.average_grade())\n"
   ],
   "id": "b8928872b5c3102a",
   "outputs": [
    {
     "name": "stdout",
     "output_type": "stream",
     "text": [
      "84.33333333333333\n"
     ]
    }
   ],
   "execution_count": 61
  },
  {
   "metadata": {},
   "cell_type": "markdown",
   "source": [
    "### **Q13. Create a class `Rectangle` with methods `set_dimensions()` to set the dimensions and `area()` to calculate the area.**\n",
    "\n"
   ],
   "id": "1e3b6f341753753b"
  },
  {
   "metadata": {
    "ExecuteTime": {
     "end_time": "2025-09-05T19:01:32.977607Z",
     "start_time": "2025-09-05T19:01:32.966348Z"
    }
   },
   "cell_type": "code",
   "source": [
    "class Rectangle:\n",
    "    def __init__(self):\n",
    "        self.length = 0\n",
    "        self.width = 0\n",
    "\n",
    "    def set_dimensions(self, length, width):\n",
    "        self.length = length\n",
    "        self.width = width\n",
    "\n",
    "    def area(self):\n",
    "        return self.length * self.width\n",
    "\n",
    "rect = Rectangle()\n",
    "rect.set_dimensions(5, 3)\n",
    "print(rect.area())\n"
   ],
   "id": "eb17f9faa059e4e8",
   "outputs": [
    {
     "name": "stdout",
     "output_type": "stream",
     "text": [
      "15\n"
     ]
    }
   ],
   "execution_count": 62
  },
  {
   "metadata": {},
   "cell_type": "markdown",
   "source": "### **Q14. Create a class `Employee` with a method `calculate_salary()` that computes the salary based on hours worked and hourly rate. Create a derived class `Manager` that adds a bonus to the salary.**",
   "id": "b9d654b58794d21"
  },
  {
   "metadata": {
    "ExecuteTime": {
     "end_time": "2025-09-05T19:02:47.348272Z",
     "start_time": "2025-09-05T19:02:47.319567Z"
    }
   },
   "cell_type": "code",
   "source": [
    "class Employee:\n",
    "    def __init__(self, name, hours_worked, hourly_rate):\n",
    "        self.name = name\n",
    "        self.hours_worked = hours_worked\n",
    "        self.hourly_rate = hourly_rate\n",
    "\n",
    "    def calculate_salary(self):\n",
    "        return self.hours_worked * self.hourly_rate\n",
    "\n",
    "class Manager(Employee):\n",
    "    def __init__(self, name, hours_worked, hourly_rate, bonus):\n",
    "        super().__init__(name, hours_worked, hourly_rate)\n",
    "        self.bonus = bonus\n",
    "\n",
    "    def calculate_salary(self):\n",
    "        base_salary = super().calculate_salary()\n",
    "        return base_salary + self.bonus\n",
    "\n",
    "e1 = Employee(\"Harsha\", 40, 500)\n",
    "m1 = Manager(\"Jumaan\", 40, 500, 5000)\n",
    "\n",
    "print(e1.calculate_salary())\n",
    "print(m1.calculate_salary())\n"
   ],
   "id": "2f0c08c7f8399f20",
   "outputs": [
    {
     "name": "stdout",
     "output_type": "stream",
     "text": [
      "20000\n",
      "25000\n"
     ]
    }
   ],
   "execution_count": 64
  },
  {
   "metadata": {},
   "cell_type": "markdown",
   "source": "### **Q15. Create a class `Product` with attributes `name`, `price`, and `quantity`. Implement a method `total_price()` that calculates the total price of the product.**",
   "id": "d385269bf2ccb9cc"
  },
  {
   "metadata": {
    "ExecuteTime": {
     "end_time": "2025-09-05T19:04:19.484023Z",
     "start_time": "2025-09-05T19:04:19.470625Z"
    }
   },
   "cell_type": "code",
   "source": [
    "class Product:\n",
    "    def __init__(self, name, price, quantity):\n",
    "        self.name = name\n",
    "        self.price = price\n",
    "        self.quantity = quantity\n",
    "\n",
    "    def total_price(self):\n",
    "        return self.price * self.quantity\n",
    "\n",
    "p1 = Product(\"Laptop\", 50000, 2)\n",
    "print(p1.total_price())\n"
   ],
   "id": "9e8a98678b9f06a2",
   "outputs": [
    {
     "name": "stdout",
     "output_type": "stream",
     "text": [
      "100000\n"
     ]
    }
   ],
   "execution_count": 65
  },
  {
   "metadata": {},
   "cell_type": "markdown",
   "source": "### **Q16. Create a class `Animal` with an abstract method `sound()`. Create two derived classes `Cow` and `Sheep` that implement the `sound()` method.**",
   "id": "46477f7ee03e661f"
  },
  {
   "metadata": {
    "ExecuteTime": {
     "end_time": "2025-09-05T19:05:22.986632Z",
     "start_time": "2025-09-05T19:05:22.974582Z"
    }
   },
   "cell_type": "code",
   "source": [
    "from abc import ABC, abstractmethod\n",
    "\n",
    "class Animal(ABC):\n",
    "    @abstractmethod\n",
    "    def sound(self):\n",
    "        pass\n",
    "\n",
    "class Cow(Animal):\n",
    "    def sound(self):\n",
    "        return \"Moo\"\n",
    "\n",
    "class Sheep(Animal):\n",
    "    def sound(self):\n",
    "        return \"Baa\"\n",
    "\n",
    "c = Cow()\n",
    "s = Sheep()\n",
    "\n",
    "print(c.sound())\n",
    "print(s.sound())\n"
   ],
   "id": "c3082935ec8c4dc7",
   "outputs": [
    {
     "name": "stdout",
     "output_type": "stream",
     "text": [
      "Moo\n",
      "Baa\n"
     ]
    }
   ],
   "execution_count": 66
  },
  {
   "metadata": {},
   "cell_type": "markdown",
   "source": "### **Q17. Create a class `Book` with attributes `title`, `author`, and `year_published`. Add a method `get_book_info()` that returns a formatted string with the book's details.**",
   "id": "58638e1b06cab3f1"
  },
  {
   "metadata": {
    "ExecuteTime": {
     "end_time": "2025-09-05T19:11:27.220486Z",
     "start_time": "2025-09-05T19:11:27.212894Z"
    }
   },
   "cell_type": "code",
   "source": [
    "class Book:\n",
    "    def __init__(self, title, author, year_published):\n",
    "        self.title = title\n",
    "        self.author = author\n",
    "        self.year_published = year_published\n",
    "\n",
    "    def get_book_info(self):\n",
    "        return f\"Title: {self.title}, Author: {self.author}, Year Published: {self.year_published}\"\n",
    "\n",
    "b1 = Book(\"Python Basics\", \"Harsha\", 2025)\n",
    "print(b1.get_book_info())\n"
   ],
   "id": "44f21ae11d6592ca",
   "outputs": [
    {
     "name": "stdout",
     "output_type": "stream",
     "text": [
      "Title: Python Basics, Author: Harsha, Year Published: 2025\n"
     ]
    }
   ],
   "execution_count": 67
  },
  {
   "metadata": {},
   "cell_type": "markdown",
   "source": "### **Q18. Create a class `House` with attributes `address` and `price`. Create a derived class `Mansion` that adds an attribute `number_of_rooms`.**",
   "id": "bf1e83472fa057ee"
  },
  {
   "metadata": {
    "ExecuteTime": {
     "end_time": "2025-09-05T19:12:36.806820Z",
     "start_time": "2025-09-05T19:12:36.793310Z"
    }
   },
   "cell_type": "code",
   "source": [
    "class House:\n",
    "    def __init__(self, address, price):\n",
    "        self.address = address\n",
    "        self.price = price\n",
    "\n",
    "class Mansion(House):\n",
    "    def __init__(self, address, price, number_of_rooms):\n",
    "        super().__init__(address, price)\n",
    "        self.number_of_rooms = number_of_rooms\n",
    "\n",
    "m1 = Mansion(\"123 Luxury St\", 5000000, 10)\n",
    "print(m1.address)\n",
    "print(m1.price)\n",
    "print(m1.number_of_rooms)\n"
   ],
   "id": "58e473cf33626d43",
   "outputs": [
    {
     "name": "stdout",
     "output_type": "stream",
     "text": [
      "123 Luxury St\n",
      "5000000\n",
      "10\n"
     ]
    }
   ],
   "execution_count": 68
  },
  {
   "metadata": {},
   "cell_type": "code",
   "outputs": [],
   "execution_count": null,
   "source": "",
   "id": "344c107946d85da9"
  }
 ],
 "metadata": {
  "kernelspec": {
   "display_name": "Python 3",
   "language": "python",
   "name": "python3"
  },
  "language_info": {
   "codemirror_mode": {
    "name": "ipython",
    "version": 2
   },
   "file_extension": ".py",
   "mimetype": "text/x-python",
   "name": "python",
   "nbconvert_exporter": "python",
   "pygments_lexer": "ipython2",
   "version": "2.7.6"
  }
 },
 "nbformat": 4,
 "nbformat_minor": 5
}
