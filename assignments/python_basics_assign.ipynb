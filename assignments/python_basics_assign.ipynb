{
 "nbformat": 4,
 "nbformat_minor": 0,
 "metadata": {
  "colab": {
   "provenance": []
  },
  "kernelspec": {
   "name": "python3",
   "display_name": "Python 3 (ipykernel)",
   "language": "python"
  },
  "language_info": {
   "name": "python"
  }
 },
 "cells": [
  {
   "cell_type": "markdown",
   "source": [
    "# Python Programming Questions and Answers\n",
    "\n",
    "## 1. What is Python, and why is it popular?\n",
    "**Python** is a high-level, interpreted programming language known for its readability, simplicity, and versatility. It supports multiple programming paradigms, including object-oriented, procedural, and functional programming.\n",
    "\n",
    "**Why is it popular?**\n",
    "- **Readability**: Python’s syntax is clear and concise, making it easy to learn and write.\n",
    "- **Versatility**: Used in web development, data science, automation, AI, machine learning, and more.\n",
    "- **Large Community**: Extensive libraries (e.g., NumPy, Pandas, Django) and active community support.\n",
    "- **Cross-Platform**: Runs on various operating systems (Windows, macOS, Linux).\n",
    "- **Beginner-Friendly**: Ideal for beginners due to its straightforward syntax.\n",
    "- **Extensive Applications**: Powers applications like YouTube, Instagram, and scientific research tools.\n",
    "\n",
    "## 2. What is an interpreter in Python?\n",
    "An **interpreter** in Python is a program that executes Python code directly, line by line, without requiring it to be compiled into machine code first. Python’s interpreter reads the source code, translates it into bytecode, and executes it in the Python Virtual Machine (PVM).\n",
    "\n",
    "- **Key Features**:\n",
    "  - Immediate execution, enabling interactive coding.\n",
    "  - Slower than compiled languages but easier for debugging.\n",
    "  - Examples: CPython (default interpreter), PyPy, Jython.\n",
    "\n",
    "## 3. What are pre-defined keywords in Python?\n",
    "**Pre-defined keywords** in Python are reserved words with specific meanings in the language. They define the syntax and structure of Python programs and cannot be used as variable names, function names, or identifiers.\n",
    "\n",
    "- **Examples** (Python 3.9+): `and`, `as`, `assert`, `break`, `class`, `continue`, `def`, `del`, `elif`, `else`, `except`, `False`, `finally`, `for`, `from`, `global`, `if`, `import`, `in`, `is`, `lambda`, `None`, `nonlocal`, `not`, `or`, `pass`, `raise`, `return`, `True`, `try`, `while`, `with`, `yield`.\n",
    "- Total: 35 keywords (as of Python 3.9).\n",
    "- Use `help('keywords')` in Python to view the full list.\n",
    "\n",
    "## 4. Can keywords be used as variable names?\n",
    "No, **keywords** cannot be used as variable names in Python. They are reserved for specific syntactic purposes, and using them as variable names will result in a `SyntaxError`.\n",
    "\n",
    "- **Example**:\n",
    "  ```python\n",
    "  if = 10  # Invalid: SyntaxError\n",
    "  ```\n",
    "- **Workaround**: Use variations (e.g., `class_` instead of `class`) or descriptive names to avoid conflicts.\n",
    "\n",
    "## 5. What is mutability in Python?\n",
    "**Mutability** refers to whether an object’s content can be changed after creation.\n",
    "- **Mutable Objects**: Can be modified in place (e.g., lists, dictionaries, sets).\n",
    "- **Immutable Objects**: Cannot be modified after creation (e.g., strings, tuples, integers).\n",
    "- Mutability affects memory usage and performance, as mutable objects can be altered without creating new objects.\n",
    "\n",
    "## 6. Why are lists mutable, but tuples are immutable?\n",
    "- **Lists**:\n",
    "  - Mutable, meaning their elements can be changed (e.g., append, remove, modify).\n",
    "  - Stored in memory as dynamic arrays, allowing in-place modifications.\n",
    "  - Example: `my_list = [1, 2, 3]; my_list[0] = 10` (changes to `[10, 2, 3]`).\n",
    "- **Tuples**:\n",
    "  - Immutable, meaning their elements cannot be changed after creation.\n",
    "  - Stored as fixed-size objects, ensuring data integrity and efficiency in memory.\n",
    "  - Example: `my_tuple = (1, 2, 3); my_tuple[0] = 10` (raises `TypeError`).\n",
    "- **Reason**:\n",
    "  - Lists are designed for flexibility and dynamic data manipulation.\n",
    "  - Tuples are designed for fixed, unchanging data, often used as keys in dictionaries or for constant data.\n",
    "\n",
    "## 7. What is the difference between “==” and “is” operators in Python?\n",
    "- **`==` Operator**:\n",
    "  - Checks for **value equality**, comparing the values of two objects.\n",
    "  - Example: `[1, 2] == [1, 2]` returns `True` (same values).\n",
    "- **`is` Operator**:\n",
    "  - Checks for **identity equality**, verifying if two variables point to the same memory location.\n",
    "  - Example: `a = [1, 2]; b = a; a is b` returns `True` (same object).\n",
    "- **Key Difference**:\n",
    "  - `==` compares content; `is` compares object identity (memory address).\n",
    "  - Example: `a = [1, 2]; b = [1, 2]; a == b` is `True`, but `a is b` is `False` (different objects).\n",
    "\n",
    "## 8. What are logical operators in Python?\n",
    "**Logical operators** are used to combine conditional statements and evaluate their truth values:\n",
    "- **`and`**: Returns `True` if both operands are `True`.\n",
    "  - Example: `True and False` → `False`.\n",
    "- **`or`**: Returns `True` if at least one operand is `True`.\n",
    "  - Example: `True or False` → `True`.\n",
    "- **`not`**: Returns the opposite of the operand’s truth value.\n",
    "  - Example: `not True` → `False`.\n",
    "- Used in conditional statements and loops to control program flow.\n",
    "\n",
    "## 9. What is type casting in Python?\n",
    "**Type casting** is the process of converting a variable from one data type to another.\n",
    "- Examples:\n",
    "  - `int(3.14)` → `3` (float to integer).\n",
    "  - `str(123)` → `'123'` (integer to string).\n",
    "  - `float(\"5.5\")` → `5.5` (string to float).\n",
    "- Python provides built-in functions like `int()`, `float()`, `str()`, `list()`, `tuple()`, etc., for type casting.\n",
    "\n",
    "## 10. What is the difference between implicit and explicit type casting?\n",
    "- **Implicit Type Casting**:\n",
    "  - Automatically performed by Python when operations involve compatible data types.\n",
    "  - Example: `a = 5; b = 2.0; c = a + b` → `c` is `7.0` (integer + float → float).\n",
    "  - No explicit function call required.\n",
    "- **Explicit Type Casting**:\n",
    "  - Manually performed using functions like `int()`, `float()`, `str()`, etc.\n",
    "  - Example: `a = \"10\"; b = int(a)` → `b` is `10` (string to integer).\n",
    "  - Required when types are incompatible or specific conversion is needed.\n",
    "- **Key Difference**: Implicit is automatic and safe; explicit requires manual intervention for precise control.\n",
    "\n",
    "## 11. What is the purpose of conditional statements in Python?\n",
    "**Conditional statements** allow a program to execute different blocks of code based on specific conditions. They control the flow of execution by evaluating expressions to `True` or `False`.\n",
    "- **Purpose**:\n",
    "  - Decision-making (e.g., execute code if a condition is met).\n",
    "  - Examples: `if`, `elif`, `else` statements.\n",
    "  - Example:\n",
    "    ```python\n",
    "    if age >= 18:\n",
    "        print(\"Adult\")\n",
    "    else:\n",
    "        print(\"Minor\")\n",
    "    ```\n",
    "\n",
    "## 12. How does the elif statement work?\n",
    "The **`elif`** (else if) statement is used in conditional blocks to check additional conditions if the previous `if` or `elif` conditions are `False`.\n",
    "- **Syntax**:\n",
    "  ```python\n",
    "  if condition1:\n",
    "      # Code block\n",
    "  elif condition2:\n",
    "      # Code block\n",
    "  else:\n",
    "      # Code block\n",
    "  ```\n",
    "- **How it works**:\n",
    "  - Python checks conditions sequentially.\n",
    "  - If an `if` or `elif` condition evaluates to `True`, its block executes, and the rest are skipped.\n",
    "  - If no condition is `True`, the `else` block (if present) executes.\n",
    "  - Example:\n",
    "    ```python\n",
    "    score = 85\n",
    "    if score >= 90:\n",
    "        print(\"A\")\n",
    "    elif score >= 80:\n",
    "        print(\"B\")\n",
    "    else:\n",
    "        print(\"C\")\n",
    "    # Output: B\n",
    "    ```\n",
    "\n",
    "## 13. What is the difference between for and while loops?\n",
    "- **`for` Loop**:\n",
    "  - Iterates over a sequence (e.g., list, tuple, string, or range).\n",
    "  - Best for known iteration counts or iterating over collections.\n",
    "  - Example:\n",
    "    ```python\n",
    "    for i in range(5):\n",
    "        print(i)  # Prints 0 to 4\n",
    "    ```\n",
    "- **`while` Loop**:\n",
    "  - Repeats as long as a condition is `True`.\n",
    "  - Best for unknown iteration counts or condition-based looping.\n",
    "  - Example:\n",
    "    ```python\n",
    "    i = 0\n",
    "    while i < 5:\n",
    "        print(i)  # Prints 0 to 4\n",
    "        i += 1\n",
    "    ```\n",
    "- **Key Differences**:\n",
    "  - `for` is sequence-driven; `while` is condition-driven.\n",
    "  - `for` is less prone to infinite loops; `while` requires careful condition management.\n",
    "\n",
    "## 14. Describe a scenario where a while loop is more suitable than a for loop\n",
    "**Scenario**: Reading user input until a specific condition is met, such as entering a valid positive number.\n",
    "\n",
    "**Why `while` is better**:\n",
    "- The number of iterations is unknown, as it depends on user input.\n",
    "- The loop continues until the condition (e.g., valid input) is satisfied.\n",
    "\n",
    "**Example**:\n",
    "```python\n",
    "number = -1\n",
    "while number <= 0:\n",
    "    number = int(input(\"Enter a positive number: \"))\n",
    "print(\"Valid input:\", number)\n",
    "```\n",
    "- A `for` loop would be unsuitable because the number of attempts is unpredictable, and there’s no fixed sequence to iterate over. The `while` loop checks the condition dynamically, making it ideal for this scenario."
   ],
   "metadata": {
    "id": "sN7UzS6teEup"
   }
  },
  {
   "cell_type": "markdown",
   "source": "# Practical Questions",
   "metadata": {
    "id": "_ibZcNAThJBY"
   }
  },
  {
   "cell_type": "markdown",
   "source": [
    "## 1. Write a Python program to print \"Hello, World!"
   ],
   "metadata": {
    "id": "3ZPN8JCteDzm"
   }
  },
  {
   "cell_type": "code",
   "source": "print(\"Hello, world!\")",
   "metadata": {
    "id": "KTiFF6d2dykZ",
    "colab": {
     "base_uri": "https://localhost:8080/"
    },
    "outputId": "908ab044-b78a-48b7-cf35-39fee231de9e",
    "ExecuteTime": {
     "end_time": "2025-08-16T10:28:44.425024Z",
     "start_time": "2025-08-16T10:28:44.410714Z"
    }
   },
   "outputs": [
    {
     "name": "stdout",
     "output_type": "stream",
     "text": [
      "Hello, world!\n"
     ]
    }
   ],
   "execution_count": 1
  },
  {
   "cell_type": "markdown",
   "source": [
    "## 2. Write a Python program that displays your name and age?\n"
   ],
   "metadata": {
    "id": "gfdRnWZ7h1-n"
   }
  },
  {
   "cell_type": "code",
   "source": [
    "name=\"Mohammed Jumaan\"\n",
    "age=22"
   ],
   "metadata": {
    "id": "g3EepyEsh-zQ",
    "ExecuteTime": {
     "end_time": "2025-08-16T10:28:48.098962Z",
     "start_time": "2025-08-16T10:28:48.094069Z"
    }
   },
   "outputs": [],
   "execution_count": 2
  },
  {
   "cell_type": "code",
   "source": [
    "print(\"My name is \"+name+\" and I am \"+str(age)+\" years old\")"
   ],
   "metadata": {
    "colab": {
     "base_uri": "https://localhost:8080/"
    },
    "id": "bmEaExwBiEpH",
    "outputId": "41f1b534-285c-4bd1-fb42-4133e7f7aaee",
    "ExecuteTime": {
     "end_time": "2025-08-16T10:28:49.647814Z",
     "start_time": "2025-08-16T10:28:49.642079Z"
    }
   },
   "outputs": [
    {
     "name": "stdout",
     "output_type": "stream",
     "text": [
      "My name is Mohammed Jumaan and I am 22 years old\n"
     ]
    }
   ],
   "execution_count": 3
  },
  {
   "cell_type": "markdown",
   "source": [
    "## 3. Write code to print all the pre-defined keywords in Python using the keyword library"
   ],
   "metadata": {
    "id": "JuUUVaU4iOlp"
   }
  },
  {
   "cell_type": "code",
   "source": [
    "help(\"keywords\")"
   ],
   "metadata": {
    "colab": {
     "base_uri": "https://localhost:8080/"
    },
    "id": "K4bzzZf3iai0",
    "outputId": "0e47596d-cbc9-4163-8df1-bc8eb38c0751",
    "ExecuteTime": {
     "end_time": "2025-08-16T10:28:50.208589Z",
     "start_time": "2025-08-16T10:28:50.203031Z"
    }
   },
   "outputs": [
    {
     "name": "stdout",
     "output_type": "stream",
     "text": [
      "\n",
      "Here is a list of the Python keywords.  Enter any keyword to get more help.\n",
      "\n",
      "False               class               from                or\n",
      "None                continue            global              pass\n",
      "True                def                 if                  raise\n",
      "and                 del                 import              return\n",
      "as                  elif                in                  try\n",
      "assert              else                is                  while\n",
      "async               except              lambda              with\n",
      "await               finally             nonlocal            yield\n",
      "break               for                 not                 \n",
      "\n"
     ]
    }
   ],
   "execution_count": 4
  },
  {
   "cell_type": "markdown",
   "source": [
    "## 4. Write a program that checks if a given word is a Python keyword.\n",
    "\n",
    "\n"
   ],
   "metadata": {
    "id": "gdTlsOG6ige4"
   }
  },
  {
   "cell_type": "code",
   "source": [
    "import keyword"
   ],
   "metadata": {
    "id": "FChLObUhi4D_",
    "ExecuteTime": {
     "end_time": "2025-08-16T10:28:50.922275Z",
     "start_time": "2025-08-16T10:28:50.916282Z"
    }
   },
   "outputs": [],
   "execution_count": 5
  },
  {
   "cell_type": "code",
   "source": [
    "keyword_name=\"for\"\n",
    "not_keyword_name=\"name\""
   ],
   "metadata": {
    "id": "SqchtT6ljCxq",
    "ExecuteTime": {
     "end_time": "2025-08-16T10:28:51.156893Z",
     "start_time": "2025-08-16T10:28:51.150695Z"
    }
   },
   "outputs": [],
   "execution_count": 6
  },
  {
   "cell_type": "code",
   "source": [
    "print(keyword.iskeyword(keyword_name))\n",
    "print(keyword.iskeyword(not_keyword_name))"
   ],
   "metadata": {
    "colab": {
     "base_uri": "https://localhost:8080/"
    },
    "id": "DQhVR3WVj11_",
    "outputId": "7d21d9b0-879d-4fc6-c7e0-5eafb732512a",
    "ExecuteTime": {
     "end_time": "2025-08-16T10:28:51.359379Z",
     "start_time": "2025-08-16T10:28:51.355707Z"
    }
   },
   "outputs": [
    {
     "name": "stdout",
     "output_type": "stream",
     "text": [
      "True\n",
      "False\n"
     ]
    }
   ],
   "execution_count": 7
  },
  {
   "cell_type": "markdown",
   "source": [
    "### In the above lines of code the we can determine weather the word is keyword or not"
   ],
   "metadata": {
    "id": "n2xuOvvCkcKG"
   }
  },
  {
   "cell_type": "markdown",
   "source": [
    "- Note: There is another term called soft keyword that can be used as the variable name but has the special meaning based on the context"
   ],
   "metadata": {
    "id": "x58lU3eQkyUP"
   }
  },
  {
   "cell_type": "code",
   "source": [
    "print(keyword.issoftkeyword(\"case\"))"
   ],
   "metadata": {
    "colab": {
     "base_uri": "https://localhost:8080/"
    },
    "id": "a18SDI2QkRlf",
    "outputId": "acf168b0-0238-4520-82e1-7d32025999bf",
    "ExecuteTime": {
     "end_time": "2025-08-16T10:28:51.924794Z",
     "start_time": "2025-08-16T10:28:51.920125Z"
    }
   },
   "outputs": [
    {
     "name": "stdout",
     "output_type": "stream",
     "text": [
      "True\n"
     ]
    }
   ],
   "execution_count": 8
  },
  {
   "cell_type": "markdown",
   "source": "## 5. Create a list and tuple in Python, and demonstrate how attempting to change an element works differently for each.",
   "metadata": {
    "id": "VDvYcdZC8iJf"
   }
  },
  {
   "cell_type": "code",
   "source": [
    "list = [1,2,3]\n",
    "tuple = (1,2,3)"
   ],
   "metadata": {
    "id": "qIQEhDURkanu",
    "ExecuteTime": {
     "end_time": "2025-08-16T10:28:52.334833Z",
     "start_time": "2025-08-16T10:28:52.331547Z"
    }
   },
   "outputs": [],
   "execution_count": 9
  },
  {
   "cell_type": "markdown",
   "source": [
    "In the above cell i have declared and initialised list and tupple"
   ],
   "metadata": {
    "id": "djARj0PxoCRJ"
   }
  },
  {
   "cell_type": "code",
   "source": [
    "list[0]=5"
   ],
   "metadata": {
    "id": "R1SrFFNGoNsL",
    "ExecuteTime": {
     "end_time": "2025-08-16T10:28:52.699470Z",
     "start_time": "2025-08-16T10:28:52.695352Z"
    }
   },
   "outputs": [],
   "execution_count": 10
  },
  {
   "cell_type": "code",
   "source": [
    "print(list)"
   ],
   "metadata": {
    "colab": {
     "base_uri": "https://localhost:8080/"
    },
    "id": "mBK-4LtK7jDL",
    "outputId": "295b975c-d584-4e3a-da46-6f2813e85adf",
    "ExecuteTime": {
     "end_time": "2025-08-16T10:28:52.915728Z",
     "start_time": "2025-08-16T10:28:52.912013Z"
    }
   },
   "outputs": [
    {
     "name": "stdout",
     "output_type": "stream",
     "text": [
      "[5, 2, 3]\n"
     ]
    }
   ],
   "execution_count": 11
  },
  {
   "cell_type": "markdown",
   "source": [
    "As you can see list the data can be changed"
   ],
   "metadata": {
    "id": "JaTAszgJ7lcL"
   }
  },
  {
   "cell_type": "code",
   "source": [
    "tuple[0]=5"
   ],
   "metadata": {
    "colab": {
     "base_uri": "https://localhost:8080/",
     "height": 141
    },
    "id": "oxtB2NTG8N2E",
    "outputId": "197f2e75-fcdc-42fd-81a1-a64e22415236",
    "ExecuteTime": {
     "end_time": "2025-08-16T10:28:54.209747Z",
     "start_time": "2025-08-16T10:28:53.501940Z"
    }
   },
   "outputs": [
    {
     "ename": "TypeError",
     "evalue": "'tuple' object does not support item assignment",
     "output_type": "error",
     "traceback": [
      "\u001B[31m---------------------------------------------------------------------------\u001B[39m",
      "\u001B[31mTypeError\u001B[39m                                 Traceback (most recent call last)",
      "\u001B[36mCell\u001B[39m\u001B[36m \u001B[39m\u001B[32mIn[12]\u001B[39m\u001B[32m, line 1\u001B[39m\n\u001B[32m----> \u001B[39m\u001B[32m1\u001B[39m \u001B[38;5;28mtuple\u001B[39m[\u001B[32m0\u001B[39m]=\u001B[32m5\u001B[39m\n",
      "\u001B[31mTypeError\u001B[39m: 'tuple' object does not support item assignment"
     ]
    }
   ],
   "execution_count": 12
  },
  {
   "cell_type": "markdown",
   "source": [
    "for tupple we cant assign values"
   ],
   "metadata": {
    "id": "J5nNn80Y8RYd"
   }
  },
  {
   "cell_type": "markdown",
   "source": "## 6. Write a function to demonstrate the behavior of mutable and immutable arguments",
   "metadata": {
    "id": "72BAaYOf8Z4g"
   }
  },
  {
   "cell_type": "code",
   "source": [
    "def modify_data(num, items):\n",
    "    num += 10\n",
    "    print(f\"Inside function - num: {num}\")\n",
    "\n",
    "    items.append(40)\n",
    "    print(f\"Inside function - items: {items}\")"
   ],
   "metadata": {
    "id": "KEAffb4_9mCw",
    "ExecuteTime": {
     "end_time": "2025-08-16T10:28:54.371069Z",
     "start_time": "2025-08-16T10:28:54.361886Z"
    }
   },
   "outputs": [],
   "execution_count": 13
  },
  {
   "cell_type": "code",
   "source": [
    "num=10\n",
    "items=[10,20,30]"
   ],
   "metadata": {
    "id": "XokumbN-9taC",
    "ExecuteTime": {
     "end_time": "2025-08-16T10:28:55.059077Z",
     "start_time": "2025-08-16T10:28:55.053289Z"
    }
   },
   "outputs": [],
   "execution_count": 14
  },
  {
   "cell_type": "code",
   "source": [
    "modify_data(num, items)"
   ],
   "metadata": {
    "colab": {
     "base_uri": "https://localhost:8080/"
    },
    "id": "K0CI5_7f90mV",
    "outputId": "5e600a49-d308-4a01-a382-e2428dc5bbe4",
    "ExecuteTime": {
     "end_time": "2025-08-16T10:28:55.635224Z",
     "start_time": "2025-08-16T10:28:55.629567Z"
    }
   },
   "outputs": [
    {
     "name": "stdout",
     "output_type": "stream",
     "text": [
      "Inside function - num: 20\n",
      "Inside function - items: [10, 20, 30, 40]\n"
     ]
    }
   ],
   "execution_count": 15
  },
  {
   "cell_type": "code",
   "source": [
    "print(\"num = \",num)\n",
    "print(\"items = \",items)"
   ],
   "metadata": {
    "colab": {
     "base_uri": "https://localhost:8080/"
    },
    "id": "mjLBWtTJ93W9",
    "outputId": "902c42be-7f16-4457-9962-0edd7e1b704a",
    "ExecuteTime": {
     "end_time": "2025-08-16T10:28:55.982094Z",
     "start_time": "2025-08-16T10:28:55.973557Z"
    }
   },
   "outputs": [
    {
     "name": "stdout",
     "output_type": "stream",
     "text": [
      "num =  10\n",
      "items =  [10, 20, 30, 40]\n"
     ]
    }
   ],
   "execution_count": 16
  },
  {
   "cell_type": "markdown",
   "source": [
    "- Immutable argument (num): Integers cannot be changed in place, so num outside the function remains unchanged.\n",
    "- Mutable argument (list): Lists can be changed in place, so the modifications inside the function affect the original list."
   ],
   "metadata": {
    "id": "j8IgGfXR-FVE"
   }
  },
  {
   "cell_type": "markdown",
   "source": [
    "## 7. Write a program that performs basic arithmetic operations on two user-input numbers."
   ],
   "metadata": {
    "id": "tm6ho3Yy-6dI"
   }
  },
  {
   "cell_type": "code",
   "source": [
    "num1 = float(input(\"Enter the first number: \"))\n",
    "num2 = float(input(\"Enter the second number: \"))\n",
    "addition = num1 + num2\n",
    "subtraction = num1 - num2\n",
    "multiplication = num1 * num2\n",
    "division = num1 / num2\n",
    "print(\"Addition:\", addition)\n",
    "print(\"Subtraction:\", subtraction)\n",
    "print(\"Multiplication:\", multiplication)\n",
    "print(\"Division:\", division)"
   ],
   "metadata": {
    "colab": {
     "base_uri": "https://localhost:8080/"
    },
    "id": "uZcNqV7e_bU-",
    "outputId": "4a3539f9-363b-4ab1-877d-024b85d4bfbf",
    "ExecuteTime": {
     "end_time": "2025-08-16T10:29:11.362411Z",
     "start_time": "2025-08-16T10:29:06.954338Z"
    }
   },
   "outputs": [
    {
     "name": "stdout",
     "output_type": "stream",
     "text": [
      "Addition: 3.0\n",
      "Subtraction: -1.0\n",
      "Multiplication: 2.0\n",
      "Division: 0.5\n"
     ]
    }
   ],
   "execution_count": 18
  },
  {
   "cell_type": "markdown",
   "source": [
    "## 8. Write a program to demonstrate the use of logical operators."
   ],
   "metadata": {
    "id": "U5EO4BtF_cYS"
   }
  },
  {
   "cell_type": "code",
   "source": [
    "x = 10\n",
    "y = -5"
   ],
   "metadata": {
    "id": "b2Ib5BZWiniU",
    "ExecuteTime": {
     "end_time": "2025-08-16T10:29:13.601547Z",
     "start_time": "2025-08-16T10:29:13.597523Z"
    }
   },
   "outputs": [],
   "execution_count": 19
  },
  {
   "cell_type": "code",
   "source": [
    "if x > 0 and y > 0:\n",
    "    print(\"Both numbers are positive.\")\n",
    "else:\n",
    "    print(\"At least one number is not positive.\")\n",
    "\n"
   ],
   "metadata": {
    "colab": {
     "base_uri": "https://localhost:8080/"
    },
    "id": "eINz5dJuis4Z",
    "outputId": "54d8ec8a-f247-435e-ead3-31b7939757db",
    "ExecuteTime": {
     "end_time": "2025-08-16T10:29:14.108241Z",
     "start_time": "2025-08-16T10:29:14.101877Z"
    }
   },
   "outputs": [
    {
     "name": "stdout",
     "output_type": "stream",
     "text": [
      "At least one number is not positive.\n"
     ]
    }
   ],
   "execution_count": 20
  },
  {
   "cell_type": "code",
   "source": [
    "if x > 0 or y > 0:\n",
    "    print(\"At least one number is positive.\")\n",
    "else:\n",
    "    print(\"Both numbers are non-positive.\")\n"
   ],
   "metadata": {
    "colab": {
     "base_uri": "https://localhost:8080/"
    },
    "id": "iqSjGbRCi4Qy",
    "outputId": "d3161895-89d8-413d-c53b-031a0304d094",
    "ExecuteTime": {
     "end_time": "2025-08-16T10:29:14.447963Z",
     "start_time": "2025-08-16T10:29:14.441383Z"
    }
   },
   "outputs": [
    {
     "name": "stdout",
     "output_type": "stream",
     "text": [
      "At least one number is positive.\n"
     ]
    }
   ],
   "execution_count": 21
  },
  {
   "cell_type": "code",
   "source": [
    "if not (x == y):\n",
    "    print(\"The numbers are not equal.\")\n",
    "else:\n",
    "    print(\"The numbers are equal.\")"
   ],
   "metadata": {
    "colab": {
     "base_uri": "https://localhost:8080/"
    },
    "id": "VbPTGuJ3i_Ct",
    "outputId": "47a6b09f-93a6-44aa-b395-2abad5bf26d6",
    "ExecuteTime": {
     "end_time": "2025-08-16T10:29:14.802746Z",
     "start_time": "2025-08-16T10:29:14.797348Z"
    }
   },
   "outputs": [
    {
     "name": "stdout",
     "output_type": "stream",
     "text": [
      "The numbers are not equal.\n"
     ]
    }
   ],
   "execution_count": 22
  },
  {
   "cell_type": "markdown",
   "source": [
    "This example covers:\n",
    "\n",
    "* **`and`** → both conditions must be `True`\n",
    "* **`or`** → at least one condition must be `True`\n",
    "* **`not`** → inverts the condition"
   ],
   "metadata": {
    "id": "GsmSYX05jBqH"
   }
  },
  {
   "cell_type": "markdown",
   "source": [
    "## 9. Write a Python program to convert user input from string to integer, float, and boolean types.\n",
    "\n"
   ],
   "metadata": {
    "id": "lbfg62o0jV2l"
   }
  },
  {
   "cell_type": "code",
   "source": [
    "value1 = \"42\"\n",
    "print(\"Original (string):\", value1)\n",
    "print(\"Integer:\", int(value1))\n",
    "print(\"Float:\", float(value1))\n",
    "print(\"Boolean:\", bool(value1))"
   ],
   "metadata": {
    "colab": {
     "base_uri": "https://localhost:8080/"
    },
    "id": "wQQ3Wk8dkRCr",
    "outputId": "63a128bb-81e1-42f7-e113-3207264603fd",
    "ExecuteTime": {
     "end_time": "2025-08-16T10:29:15.604153Z",
     "start_time": "2025-08-16T10:29:15.598210Z"
    }
   },
   "outputs": [
    {
     "name": "stdout",
     "output_type": "stream",
     "text": [
      "Original (string): 42\n",
      "Integer: 42\n",
      "Float: 42.0\n",
      "Boolean: True\n"
     ]
    }
   ],
   "execution_count": 23
  },
  {
   "cell_type": "code",
   "source": [
    "value2 = \"3.14\"\n",
    "print(\"Original (string):\", value2)\n",
    "print(\"Integer:\", int(value2))\n",
    "print(\"Float:\", float(value2))\n",
    "print(\"Boolean:\", bool(value2))"
   ],
   "metadata": {
    "colab": {
     "base_uri": "https://localhost:8080/",
     "height": 228
    },
    "id": "XOg3onJNkSJ1",
    "outputId": "0eddfa50-0cba-4c6e-a6de-e844737075d8",
    "ExecuteTime": {
     "end_time": "2025-08-16T10:29:16.070867Z",
     "start_time": "2025-08-16T10:29:16.036505Z"
    }
   },
   "outputs": [
    {
     "name": "stdout",
     "output_type": "stream",
     "text": [
      "Original (string): 3.14\n"
     ]
    },
    {
     "ename": "ValueError",
     "evalue": "invalid literal for int() with base 10: '3.14'",
     "output_type": "error",
     "traceback": [
      "\u001B[31m---------------------------------------------------------------------------\u001B[39m",
      "\u001B[31mValueError\u001B[39m                                Traceback (most recent call last)",
      "\u001B[36mCell\u001B[39m\u001B[36m \u001B[39m\u001B[32mIn[24]\u001B[39m\u001B[32m, line 3\u001B[39m\n\u001B[32m      1\u001B[39m value2 = \u001B[33m\"\u001B[39m\u001B[33m3.14\u001B[39m\u001B[33m\"\u001B[39m\n\u001B[32m      2\u001B[39m \u001B[38;5;28mprint\u001B[39m(\u001B[33m\"\u001B[39m\u001B[33mOriginal (string):\u001B[39m\u001B[33m\"\u001B[39m, value2)\n\u001B[32m----> \u001B[39m\u001B[32m3\u001B[39m \u001B[38;5;28mprint\u001B[39m(\u001B[33m\"\u001B[39m\u001B[33mInteger:\u001B[39m\u001B[33m\"\u001B[39m, \u001B[38;5;28mint\u001B[39m(value2))\n\u001B[32m      4\u001B[39m \u001B[38;5;28mprint\u001B[39m(\u001B[33m\"\u001B[39m\u001B[33mFloat:\u001B[39m\u001B[33m\"\u001B[39m, \u001B[38;5;28mfloat\u001B[39m(value2))\n\u001B[32m      5\u001B[39m \u001B[38;5;28mprint\u001B[39m(\u001B[33m\"\u001B[39m\u001B[33mBoolean:\u001B[39m\u001B[33m\"\u001B[39m, \u001B[38;5;28mbool\u001B[39m(value2))\n",
      "\u001B[31mValueError\u001B[39m: invalid literal for int() with base 10: '3.14'"
     ]
    }
   ],
   "execution_count": 24
  },
  {
   "cell_type": "markdown",
   "source": [
    "### Description:\n",
    "\n",
    "* **`value1` (\"42\")** → Converts successfully to both integer and float; boolean is `True` because the string is not empty.\n",
    "* **`value2` (\"3.14\")** → Works for `float()`, but `int()` raises a `ValueError` because it contains a decimal point."
   ],
   "metadata": {
    "id": "ON3pbn_nkU8p"
   }
  },
  {
   "cell_type": "markdown",
   "source": [
    "## 10. Write code to demonstrate type casting with list elements"
   ],
   "metadata": {
    "id": "t8yTMVNlkhB0"
   }
  },
  {
   "cell_type": "code",
   "source": [
    "numbers = [\"10\", \"20\", \"30\"]"
   ],
   "metadata": {
    "id": "r42cOxD4k5Dz",
    "ExecuteTime": {
     "end_time": "2025-08-16T10:29:18.004405Z",
     "start_time": "2025-08-16T10:29:18.000564Z"
    }
   },
   "outputs": [],
   "execution_count": 25
  },
  {
   "cell_type": "code",
   "source": [
    "print(\"Original strings:\", numbers)\n",
    "int_list = [int(num) for num in numbers]\n",
    "print(\"Strings to Integers:\", int_list)"
   ],
   "metadata": {
    "colab": {
     "base_uri": "https://localhost:8080/"
    },
    "id": "sg2qqMNVk-6p",
    "outputId": "3764452f-5a5a-419a-b393-7aa18d9e87ce",
    "ExecuteTime": {
     "end_time": "2025-08-16T10:29:18.376231Z",
     "start_time": "2025-08-16T10:29:18.369864Z"
    }
   },
   "outputs": [
    {
     "name": "stdout",
     "output_type": "stream",
     "text": [
      "Original strings: ['10', '20', '30']\n",
      "Strings to Integers: [10, 20, 30]\n"
     ]
    }
   ],
   "execution_count": 26
  },
  {
   "cell_type": "markdown",
   "source": "## 11. Write a program that checks if a number is positive, negative, or zero",
   "metadata": {
    "id": "otzDY8KqlSrr"
   }
  },
  {
   "cell_type": "code",
   "source": [
    "num = float(input(\"Enter a number: \"))\n",
    "\n",
    "if num > 0:\n",
    "    print(\"The number is positive.\")\n",
    "elif num < 0:\n",
    "    print(\"The number is negative.\")\n",
    "else:\n",
    "    print(\"The number is zero.\")\n"
   ],
   "metadata": {
    "colab": {
     "base_uri": "https://localhost:8080/"
    },
    "id": "KSKXWOkIlBho",
    "outputId": "bbbbe007-20a3-4b89-f160-0cac7bde0161",
    "ExecuteTime": {
     "end_time": "2025-08-16T10:29:21.851787Z",
     "start_time": "2025-08-16T10:29:19.595084Z"
    }
   },
   "outputs": [
    {
     "name": "stdout",
     "output_type": "stream",
     "text": [
      "The number is positive.\n"
     ]
    }
   ],
   "execution_count": 27
  },
  {
   "cell_type": "markdown",
   "source": [
    "### Description:\n",
    "\n",
    "* Takes a number from the user (using `float` so it works for decimals too).\n",
    "* Checks if it’s positive, negative, or zero using `if`, `elif`, and `else`.\n",
    "\n",
    "Do you want me to also make it handle **multiple numbers in one go**?"
   ],
   "metadata": {
    "id": "wpcsaetXlRYd"
   }
  },
  {
   "cell_type": "markdown",
   "source": "## 12. Write a for loop to print numbers from 1 to 10",
   "metadata": {
    "id": "T6eERh-0ldVk"
   }
  },
  {
   "cell_type": "code",
   "source": [
    "for i in range(1,11):\n",
    "  print(i)"
   ],
   "metadata": {
    "colab": {
     "base_uri": "https://localhost:8080/"
    },
    "id": "PBT2dNRSljyn",
    "outputId": "84207ad9-1bf2-485e-977a-65f27cae9289",
    "ExecuteTime": {
     "end_time": "2025-08-16T10:29:24.701648Z",
     "start_time": "2025-08-16T10:29:24.697934Z"
    }
   },
   "outputs": [
    {
     "name": "stdout",
     "output_type": "stream",
     "text": [
      "1\n",
      "2\n",
      "3\n",
      "4\n",
      "5\n",
      "6\n",
      "7\n",
      "8\n",
      "9\n",
      "10\n"
     ]
    }
   ],
   "execution_count": 28
  },
  {
   "cell_type": "markdown",
   "source": "## 13. Write a Python program to find the sum of all even numbers between 1 and 50.",
   "metadata": {
    "id": "xffVS44glrcm"
   }
  },
  {
   "cell_type": "code",
   "source": [
    "sum=0\n",
    "for i in range(2,51,2):\n",
    "  sum+=i\n",
    "  print(i)"
   ],
   "metadata": {
    "colab": {
     "base_uri": "https://localhost:8080/"
    },
    "id": "gcTfjiftlzHn",
    "outputId": "54f4cc62-f2bc-4b11-ab54-0f09435df574",
    "ExecuteTime": {
     "end_time": "2025-08-16T10:29:26.064485Z",
     "start_time": "2025-08-16T10:29:26.058676Z"
    }
   },
   "outputs": [
    {
     "name": "stdout",
     "output_type": "stream",
     "text": [
      "2\n",
      "4\n",
      "6\n",
      "8\n",
      "10\n",
      "12\n",
      "14\n",
      "16\n",
      "18\n",
      "20\n",
      "22\n",
      "24\n",
      "26\n",
      "28\n",
      "30\n",
      "32\n",
      "34\n",
      "36\n",
      "38\n",
      "40\n",
      "42\n",
      "44\n",
      "46\n",
      "48\n",
      "50\n"
     ]
    }
   ],
   "execution_count": 29
  },
  {
   "cell_type": "code",
   "source": [
    "print(\"Sum of numbers between 1 and 50 is \",sum)"
   ],
   "metadata": {
    "colab": {
     "base_uri": "https://localhost:8080/"
    },
    "id": "co_kdkNGl-mJ",
    "outputId": "e9d173a6-0107-4bab-e6c1-0289c91b4149",
    "ExecuteTime": {
     "end_time": "2025-08-16T10:29:26.767696Z",
     "start_time": "2025-08-16T10:29:26.760894Z"
    }
   },
   "outputs": [
    {
     "name": "stdout",
     "output_type": "stream",
     "text": [
      "Sum of numbers between 1 and 50 is  650\n"
     ]
    }
   ],
   "execution_count": 30
  },
  {
   "cell_type": "markdown",
   "source": "## 14. Write a program to reverse a string using a while loop",
   "metadata": {
    "id": "D_LuyFtamIyV"
   }
  },
  {
   "cell_type": "code",
   "source": [
    "string=\"Mohammed Jumaan\""
   ],
   "metadata": {
    "id": "MCsCONQimihx",
    "ExecuteTime": {
     "end_time": "2025-08-16T10:29:27.816080Z",
     "start_time": "2025-08-16T10:29:27.808283Z"
    }
   },
   "outputs": [],
   "execution_count": 31
  },
  {
   "cell_type": "code",
   "source": [
    "print(string[::-1])"
   ],
   "metadata": {
    "colab": {
     "base_uri": "https://localhost:8080/"
    },
    "id": "p2qQUI4TmqPC",
    "outputId": "12dd0193-0862-47b7-f851-e29e6000c315",
    "ExecuteTime": {
     "end_time": "2025-08-16T10:29:28.346522Z",
     "start_time": "2025-08-16T10:29:28.340054Z"
    }
   },
   "outputs": [
    {
     "name": "stdout",
     "output_type": "stream",
     "text": [
      "naamuJ demmahoM\n"
     ]
    }
   ],
   "execution_count": 32
  },
  {
   "cell_type": "code",
   "source": [
    "#using while loop\n",
    "i=len(string)-1\n",
    "rev=\"\";\n",
    "while(i>=0):\n",
    "  rev+=string[i]\n",
    "  i-=1\n",
    "print(rev)\n"
   ],
   "metadata": {
    "colab": {
     "base_uri": "https://localhost:8080/"
    },
    "id": "553OFV1Lmvrx",
    "outputId": "5996c9eb-1d95-4ebe-924d-dfe0d04f5ef6",
    "ExecuteTime": {
     "end_time": "2025-08-16T10:29:30.492295Z",
     "start_time": "2025-08-16T10:29:30.486010Z"
    }
   },
   "outputs": [
    {
     "name": "stdout",
     "output_type": "stream",
     "text": [
      "naamuJ demmahoM\n"
     ]
    }
   ],
   "execution_count": 33
  },
  {
   "cell_type": "markdown",
   "source": "## 15. Write a Python program to calculate the factorial of a number provided by the user using a while loop.",
   "metadata": {
    "id": "DbrdWyd3nQit"
   }
  },
  {
   "cell_type": "code",
   "source": [
    "num = int(input(\"Enter a number: \"))\n",
    "factorial = 1\n",
    "i = 1\n",
    "\n",
    "while i <= num:\n",
    "    factorial *= i\n",
    "    i += 1\n",
    "\n",
    "print(\"Factorial of\", num, \"is\", factorial)"
   ],
   "metadata": {
    "colab": {
     "base_uri": "https://localhost:8080/"
    },
    "id": "jPEV5JGFnq7n",
    "outputId": "c1e603dc-b987-44aa-a22a-2ded45c6db80",
    "ExecuteTime": {
     "end_time": "2025-08-16T10:29:33.322576Z",
     "start_time": "2025-08-16T10:29:31.466303Z"
    }
   },
   "outputs": [
    {
     "name": "stdout",
     "output_type": "stream",
     "text": [
      "Factorial of 5 is 120\n"
     ]
    }
   ],
   "execution_count": 34
  },
  {
   "cell_type": "code",
   "source": [],
   "metadata": {
    "id": "DIK34wT-oAxx"
   },
   "execution_count": null,
   "outputs": []
  }
 ]
}
